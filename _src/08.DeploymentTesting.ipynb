{
 "cells": [
  {
   "cell_type": "code",
   "execution_count": 1,
   "metadata": {},
   "outputs": [
    {
     "ename": "NameError",
     "evalue": "name 'CatBoostClassifier' is not defined",
     "output_type": "error",
     "traceback": [
      "\u001b[1;31m---------------------------------------------------------------------------\u001b[0m",
      "\u001b[1;31mNameError\u001b[0m                                 Traceback (most recent call last)",
      "\u001b[1;32mc:\\Users\\jamie\\OneDrive - Lepard & Lepard\\Data Science\\LighthouseLabs\\Python_Projects\\Prolonged_LOS_Project\\_src\\08.DeploymentTesting.ipynb Cell 1\u001b[0m line \u001b[0;36m1\n\u001b[0;32m     <a href='vscode-notebook-cell:/c%3A/Users/jamie/OneDrive%20-%20Lepard%20%26%20Lepard/Data%20Science/LighthouseLabs/Python_Projects/Prolonged_LOS_Project/_src/08.DeploymentTesting.ipynb#W1sZmlsZQ%3D%3D?line=12'>13</a>\u001b[0m \u001b[39mif\u001b[39;00m \u001b[39misinstance\u001b[39m(cat_model_opt_loaded, \u001b[39mtype\u001b[39m(\u001b[39mNone\u001b[39;00m)):\n\u001b[0;32m     <a href='vscode-notebook-cell:/c%3A/Users/jamie/OneDrive%20-%20Lepard%20%26%20Lepard/Data%20Science/LighthouseLabs/Python_Projects/Prolonged_LOS_Project/_src/08.DeploymentTesting.ipynb#W1sZmlsZQ%3D%3D?line=13'>14</a>\u001b[0m     \u001b[39mprint\u001b[39m(\u001b[39m\"\u001b[39m\u001b[39mThe loaded object is None, indicating an issue with loading the model.\u001b[39m\u001b[39m\"\u001b[39m)\n\u001b[1;32m---> <a href='vscode-notebook-cell:/c%3A/Users/jamie/OneDrive%20-%20Lepard%20%26%20Lepard/Data%20Science/LighthouseLabs/Python_Projects/Prolonged_LOS_Project/_src/08.DeploymentTesting.ipynb#W1sZmlsZQ%3D%3D?line=14'>15</a>\u001b[0m \u001b[39melif\u001b[39;00m \u001b[39mnot\u001b[39;00m \u001b[39misinstance\u001b[39m(cat_model_opt_loaded, CatBoostClassifier):  \u001b[39m# Replace with the actual K-Means class you're using\u001b[39;00m\n\u001b[0;32m     <a href='vscode-notebook-cell:/c%3A/Users/jamie/OneDrive%20-%20Lepard%20%26%20Lepard/Data%20Science/LighthouseLabs/Python_Projects/Prolonged_LOS_Project/_src/08.DeploymentTesting.ipynb#W1sZmlsZQ%3D%3D?line=15'>16</a>\u001b[0m     \u001b[39mprint\u001b[39m(\u001b[39mf\u001b[39m\u001b[39m\"\u001b[39m\u001b[39mThe loaded object is of type \u001b[39m\u001b[39m{\u001b[39;00m\u001b[39mtype\u001b[39m(cat_model_opt_loaded)\u001b[39m}\u001b[39;00m\u001b[39m, not a CAtboost model.\u001b[39m\u001b[39m\"\u001b[39m)\n\u001b[0;32m     <a href='vscode-notebook-cell:/c%3A/Users/jamie/OneDrive%20-%20Lepard%20%26%20Lepard/Data%20Science/LighthouseLabs/Python_Projects/Prolonged_LOS_Project/_src/08.DeploymentTesting.ipynb#W1sZmlsZQ%3D%3D?line=16'>17</a>\u001b[0m \u001b[39melse\u001b[39;00m:\n\u001b[0;32m     <a href='vscode-notebook-cell:/c%3A/Users/jamie/OneDrive%20-%20Lepard%20%26%20Lepard/Data%20Science/LighthouseLabs/Python_Projects/Prolonged_LOS_Project/_src/08.DeploymentTesting.ipynb#W1sZmlsZQ%3D%3D?line=17'>18</a>\u001b[0m     \u001b[39m# Prepare new data for prediction (replace this with your data)\u001b[39;00m\n",
      "\u001b[1;31mNameError\u001b[0m: name 'CatBoostClassifier' is not defined"
     ]
    }
   ],
   "source": [
    "import pickle\n",
    "from catboost import CatBoostClassifier\n",
    "from catboost import Pool\n",
    "\n",
    "# Load from a file using Pickle\n",
    "\n",
    "saved_model_to_import= 'cat_model_opt'\n",
    "try:\n",
    "    with open(f'../_output/{saved_model_to_import}.pickle', 'rb') as f:\n",
    "        cat_model_opt_loaded = pickle.load(f)\n",
    "except FileNotFoundError:\n",
    "    print(f\"File {saved_model_to_import} not found.\")\n",
    "except Exception as e:\n",
    "    print(f\"An error occurred while loading the model: {str(e)}\")\n",
    "\n",
    "# Check the type of km2 to verify it's a K-Means model\n",
    "if isinstance(cat_model_opt_loaded, type(None)):\n",
    "    print(\"The loaded object is None, indicating an issue with loading the model.\")\n",
    "elif not isinstance(cat_model_opt_loaded, CatBoostClassifier):  # Replace with the actual K-Means class you're using\n",
    "    print(f\"The loaded object is of type {type(cat_model_opt_loaded)}, not a CAtboost model.\")\n",
    "else:\n",
    "    # Prepare new data for prediction (replace this with your data)\n",
    "   print('else')\n",
    "   \n",
    "   \n",
    "    # new_data = [[6.7, 3.0, 5.5, 2.1]]\n",
    "\n",
    "    # # Make predictions\n",
    "    # predictions = km2.predict(new_data)\n",
    "\n",
    "    # # Analyze or use the predictions as needed\n",
    "    # print(predictions)"
   ]
  }
 ],
 "metadata": {
  "kernelspec": {
   "display_name": "Lighthouse_env",
   "language": "python",
   "name": "python3"
  },
  "language_info": {
   "codemirror_mode": {
    "name": "ipython",
    "version": 3
   },
   "file_extension": ".py",
   "mimetype": "text/x-python",
   "name": "python",
   "nbconvert_exporter": "python",
   "pygments_lexer": "ipython3",
   "version": "3.10.13"
  }
 },
 "nbformat": 4,
 "nbformat_minor": 2
}
