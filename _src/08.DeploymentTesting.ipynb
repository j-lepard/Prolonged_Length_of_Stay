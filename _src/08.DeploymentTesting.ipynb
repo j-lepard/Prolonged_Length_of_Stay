{
 "cells": [
  {
   "cell_type": "markdown",
   "metadata": {},
   "source": [
    "# Deployment Testing:\n",
    "\n",
    "\n",
    "\n",
    "## Classification Model"
   ]
  },
  {
   "cell_type": "code",
   "execution_count": 2,
   "metadata": {},
   "outputs": [
    {
     "name": "stdout",
     "output_type": "stream",
     "text": [
      "Imported model is OK. Lets import testing data\n"
     ]
    },
    {
     "ename": "NameError",
     "evalue": "name 'cat_model_opt_loaded' is not defined",
     "output_type": "error",
     "traceback": [
      "\u001b[1;31m---------------------------------------------------------------------------\u001b[0m",
      "\u001b[1;31mNameError\u001b[0m                                 Traceback (most recent call last)",
      "\u001b[1;32mc:\\Users\\jamie\\OneDrive - Lepard & Lepard\\Data Science\\LighthouseLabs\\Python_Projects\\Prolonged_LOS_Project\\_src\\08.DeploymentTesting.ipynb Cell 2\u001b[0m line \u001b[0;36m3\n\u001b[0;32m     <a href='vscode-notebook-cell:/c%3A/Users/jamie/OneDrive%20-%20Lepard%20%26%20Lepard/Data%20Science/LighthouseLabs/Python_Projects/Prolonged_LOS_Project/_src/08.DeploymentTesting.ipynb#W1sZmlsZQ%3D%3D?line=29'>30</a>\u001b[0m         \u001b[39mprint\u001b[39m(\u001b[39m'\u001b[39m\u001b[39mImported model is OK. Lets import testing data\u001b[39m\u001b[39m'\u001b[39m)\n\u001b[0;32m     <a href='vscode-notebook-cell:/c%3A/Users/jamie/OneDrive%20-%20Lepard%20%26%20Lepard/Data%20Science/LighthouseLabs/Python_Projects/Prolonged_LOS_Project/_src/08.DeploymentTesting.ipynb#W1sZmlsZQ%3D%3D?line=32'>33</a>\u001b[0m     new_data\u001b[39m=\u001b[39mpd\u001b[39m.\u001b[39mread_csv(\u001b[39m'\u001b[39m\u001b[39m../_output/new_data_import_test1.csv\u001b[39m\u001b[39m'\u001b[39m)\n\u001b[1;32m---> <a href='vscode-notebook-cell:/c%3A/Users/jamie/OneDrive%20-%20Lepard%20%26%20Lepard/Data%20Science/LighthouseLabs/Python_Projects/Prolonged_LOS_Project/_src/08.DeploymentTesting.ipynb#W1sZmlsZQ%3D%3D?line=33'>34</a>\u001b[0m     predictions_prolonged\u001b[39m=\u001b[39m cat_model_opt_loaded\u001b[39m.\u001b[39mpredict(new_data)\n\u001b[0;32m     <a href='vscode-notebook-cell:/c%3A/Users/jamie/OneDrive%20-%20Lepard%20%26%20Lepard/Data%20Science/LighthouseLabs/Python_Projects/Prolonged_LOS_Project/_src/08.DeploymentTesting.ipynb#W1sZmlsZQ%3D%3D?line=34'>35</a>\u001b[0m     predictions_LOS \u001b[39m=\u001b[39m catboost_model_reg_loaded\u001b[39m.\u001b[39mpredict(new_data)\n\u001b[0;32m     <a href='vscode-notebook-cell:/c%3A/Users/jamie/OneDrive%20-%20Lepard%20%26%20Lepard/Data%20Science/LighthouseLabs/Python_Projects/Prolonged_LOS_Project/_src/08.DeploymentTesting.ipynb#W1sZmlsZQ%3D%3D?line=36'>37</a>\u001b[0m \u001b[39m# # Analyze or use the predictions as needed\u001b[39;00m\n",
      "\u001b[1;31mNameError\u001b[0m: name 'cat_model_opt_loaded' is not defined"
     ]
    }
   ],
   "source": [
    "import pandas as pd\n",
    "import pickle\n",
    "from catboost import CatBoostClassifier,CatBoostRegressor\n",
    "from catboost import Pool\n",
    "\n",
    "# Load from a file using Pickle\n",
    "\n",
    "classification_file= 'catboost_model_opt'\n",
    "regression_file= 'catboost_model_regression_opt'\n",
    "\n",
    "model_import = [classification_file,regression_file]\n",
    "\n",
    "for m in model_import:\n",
    "    try:\n",
    "        with open(f'../_output/{m}.pickle', 'rb') as c:\n",
    "            model = pickle.load(c)\n",
    "        \n",
    "    except FileNotFoundError:\n",
    "        print(f\"File '{m}' not found.\")\n",
    "\n",
    "    except Exception as e:\n",
    "        print(f\"An error occurred while loading the model: {str(e)}\")\n",
    "\n",
    "    # Check the type of km2 to verify it's a K-Means model\n",
    "    if isinstance(model, type(None)):\n",
    "        print(\"The loaded object is None, indicating an issue with loading the model.\")\n",
    "    elif not isinstance(model, CatBoostClassifier):  # Replace with the actual K-Means class you're using\n",
    "        print(f\"The loaded object is of type {type(m)}, not a CAtboost model.\")\n",
    "    else:\n",
    "        print('Imported model is OK. Lets import testing data')\n",
    "    \n",
    "    \n",
    "    new_data=pd.read_csv('../_output/new_data_import_test1.csv')\n",
    "    predictions_prolonged= cat_model_opt_loaded.predict(new_data)\n",
    "    predictions_LOS = catboost_model_reg_loaded.predict(new_data)\n",
    "\n",
    "# # Analyze or use the predictions as needed\n",
    "print(new_data.shape)\n",
    "print(predictions_prolonged)"
   ]
  },
  {
   "cell_type": "markdown",
   "metadata": {},
   "source": [
    "## Regression Model"
   ]
  },
  {
   "cell_type": "code",
   "execution_count": 14,
   "metadata": {},
   "outputs": [
    {
     "name": "stdout",
     "output_type": "stream",
     "text": [
      "Imported model is OK. Lets import testing data\n",
      "(2, 27)\n",
      "[3.22856318 1.89818348]\n"
     ]
    }
   ],
   "source": [
    "import pandas as pd\n",
    "import pickle\n",
    "from catboost import CatBoostRegressor\n",
    "from catboost import Pool\n",
    "\n",
    "# Load from a file using Pickle\n",
    "\n",
    "saved_model_to_import= 'catboost_model_regression_opt'\n",
    "try:\n",
    "    with open(f'../_output/{saved_model_to_import}.pickle', 'rb') as f:\n",
    "        catboost_model_reg_loaded = pickle.load(f)\n",
    "except FileNotFoundError:\n",
    "    print(f\"File '{saved_model_to_import}' not found.\")\n",
    "except Exception as e:\n",
    "    print(f\"An error occurred while loading the model: {str(e)}\")\n",
    "\n",
    "# Check the type of km2 to verify it's a K-Means model\n",
    "if isinstance(catboost_model_reg_loaded, type(None)):\n",
    "    print(\"The loaded object is None, indicating an issue with loading the model.\")\n",
    "elif not isinstance(catboost_model_reg_loaded, CatBoostRegressor):  # Replace with the actual K-Means class you're using\n",
    "    print(f\"The loaded object is of type {type(catboost_model_reg_loaded)}, not a CAtboost model.\")\n",
    "else:\n",
    "   print('Imported model is OK. Lets import testing data')\n",
    "   new_data=pd.read_csv('../_output/new_data_import_test1.csv')\n",
    "   predictions = catboost_model_reg_loaded.predict(new_data)\n",
    "   \n",
    "\n",
    "# # Analyze or use the predictions as needed\n",
    "print(new_data.shape)\n",
    "print(predictions)"
   ]
  },
  {
   "cell_type": "markdown",
   "metadata": {},
   "source": [
    "## Consolidated Import"
   ]
  },
  {
   "cell_type": "code",
   "execution_count": 2,
   "metadata": {},
   "outputs": [
    {
     "name": "stdout",
     "output_type": "stream",
     "text": [
      "Imported model is OK. Lets import testing data.\n",
      "Imported model is OK. Lets import testing data.\n"
     ]
    }
   ],
   "source": [
    "import pickle\n",
    "from catboost import CatBoostClassifier, CatBoostRegressor\n",
    "\n",
    "# Define the models with their expected types\n",
    "model_files = {\n",
    "    'catboost_model_opt': CatBoostClassifier,\n",
    "    'catboost_model_regression_opt': CatBoostRegressor\n",
    "}\n",
    "\n",
    "# Function to load a model\n",
    "def load_model(file_name, model_type):\n",
    "    try:\n",
    "        with open(f'../_output/{file_name}.pickle', 'rb') as file:\n",
    "            model = pickle.load(file)\n",
    "            \n",
    "            # Check if the loaded model is of the expected type\n",
    "            if not isinstance(model, model_type):\n",
    "                print(f\"The loaded object is of type {type(model)}, not a {model_type}.\")\n",
    "                return None\n",
    "            print('Imported model is OK. Lets import testing data.')\n",
    "            return model\n",
    "    \n",
    "    except FileNotFoundError:\n",
    "        print(f\"File '{file_name}' not found.\")\n",
    "        return None\n",
    "    \n",
    "    except Exception as e:\n",
    "        print(f\"An error occurred while loading the model: {e}\")\n",
    "        return None\n",
    "\n",
    "# Dictionary to hold the loaded models\n",
    "loaded_models = {}\n",
    "\n",
    "# Load and validate each model\n",
    "for file_name, model_type in model_files.items():\n",
    "    model = load_model(file_name, model_type)\n",
    "    if model is not None:\n",
    "        loaded_models[file_name] = model\n",
    "\n",
    "# Now you can use loaded_models to test your data set against each model\n",
    "# Example: using the loaded models to make predictions\n",
    " \n"
   ]
  },
  {
   "cell_type": "code",
   "execution_count": 7,
   "metadata": {},
   "outputs": [
    {
     "data": {
      "text/html": [
       "<div>\n",
       "<style scoped>\n",
       "    .dataframe tbody tr th:only-of-type {\n",
       "        vertical-align: middle;\n",
       "    }\n",
       "\n",
       "    .dataframe tbody tr th {\n",
       "        vertical-align: top;\n",
       "    }\n",
       "\n",
       "    .dataframe thead th {\n",
       "        text-align: right;\n",
       "    }\n",
       "</style>\n",
       "<table border=\"1\" class=\"dataframe\">\n",
       "  <thead>\n",
       "    <tr style=\"text-align: right;\">\n",
       "      <th></th>\n",
       "      <th>category_id</th>\n",
       "      <th>age</th>\n",
       "      <th>sex</th>\n",
       "      <th>weight</th>\n",
       "      <th>Predicted LOS (days)</th>\n",
       "      <th>Predicted PLOS</th>\n",
       "    </tr>\n",
       "  </thead>\n",
       "  <tbody>\n",
       "    <tr>\n",
       "      <th>0</th>\n",
       "      <td>0GT</td>\n",
       "      <td>90</td>\n",
       "      <td>F</td>\n",
       "      <td>80</td>\n",
       "      <td>3.228563</td>\n",
       "      <td>0</td>\n",
       "    </tr>\n",
       "    <tr>\n",
       "      <th>1</th>\n",
       "      <td>0GT</td>\n",
       "      <td>60</td>\n",
       "      <td>F</td>\n",
       "      <td>50</td>\n",
       "      <td>1.898183</td>\n",
       "      <td>0</td>\n",
       "    </tr>\n",
       "  </tbody>\n",
       "</table>\n",
       "</div>"
      ],
      "text/plain": [
       "  category_id  age sex  weight  Predicted LOS (days)  Predicted PLOS\n",
       "0         0GT   90   F      80              3.228563               0\n",
       "1         0GT   60   F      50              1.898183               0"
      ]
     },
     "execution_count": 7,
     "metadata": {},
     "output_type": "execute_result"
    }
   ],
   "source": [
    "import pandas as pd\n",
    "\n",
    "###### NOTE: THE IMPORT FILE CANNOT HAVE EXTRA SPACES!!\n",
    "\n",
    "# Load the new data\n",
    "new_data_df = pd.read_csv('../_output/new_data_import_test2.csv')\n",
    "\n",
    "# Prepare a dictionary to store predictions\n",
    "predictions = {\n",
    "    'classification': [],\n",
    "    'regression': []\n",
    "}\n",
    "\n",
    "# Iterate over rows to make predictions\n",
    "for _, row in new_data_df.iterrows():\n",
    "    # Convert row to DataFrame with a single row for CatBoost\n",
    "    row_df = pd.DataFrame([row])\n",
    "    classification_prediction = loaded_models['catboost_model_opt'].predict(row_df)\n",
    "    regression_prediction = loaded_models['catboost_model_regression_opt'].predict(row_df)\n",
    "    \n",
    "    # Store predictions\n",
    "    predictions['classification'].append(classification_prediction)\n",
    "    predictions['regression'].append(regression_prediction)\n",
    "\n",
    "# You can now work with the predictions dictionary or convert it to a DataFrame\n",
    "classification_results_df = pd.DataFrame(predictions['classification'], columns=['Classification Prediction'])\n",
    "regression_results_df = pd.DataFrame(predictions['regression'], columns=['Regression Prediction'])\n",
    "\n",
    "# If you want to concatenate these results back into the original new_data_df:\n",
    "new_data_df['Predicted PLOS'] = classification_results_df\n",
    "new_data_df['Predicted LOS (days)'] = regression_results_df\n",
    "\n",
    "# Now you can use new_data_df with the predictions included for further analysis or export it to CSV\n",
    "new_data_df.to_csv('../_output/predictions_detail.csv', index=False)\n",
    "\n",
    "prediction_output = new_data_df[['category_id','age', 'sex','weight','Predicted LOS (days)','Predicted PLOS']]\n",
    "prediction_output.to_csv('../_output/predictions_short.csv', index=False)\n",
    "\n",
    "prediction_output"
   ]
  }
 ],
 "metadata": {
  "kernelspec": {
   "display_name": "Lighthouse_env",
   "language": "python",
   "name": "python3"
  },
  "language_info": {
   "codemirror_mode": {
    "name": "ipython",
    "version": 3
   },
   "file_extension": ".py",
   "mimetype": "text/x-python",
   "name": "python",
   "nbconvert_exporter": "python",
   "pygments_lexer": "ipython3",
   "version": "3.10.13"
  }
 },
 "nbformat": 4,
 "nbformat_minor": 2
}
