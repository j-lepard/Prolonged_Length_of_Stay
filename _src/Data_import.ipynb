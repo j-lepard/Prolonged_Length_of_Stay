{
 "cells": [
  {
   "cell_type": "code",
   "execution_count": 1,
   "metadata": {},
   "outputs": [],
   "source": [
    "import pandas as pd\n",
    "import psycopg2\n",
    "from sqlalchemy import create_engine"
   ]
  },
  {
   "cell_type": "markdown",
   "metadata": {},
   "source": [
    "## LOAD - Operations"
   ]
  },
  {
   "cell_type": "code",
   "execution_count": 2,
   "metadata": {},
   "outputs": [
    {
     "name": "stdout",
     "output_type": "stream",
     "text": [
      "<class 'pandas.core.frame.DataFrame'>\n",
      "RangeIndex: 128031 entries, 0 to 128030\n",
      "Data columns (total 30 columns):\n",
      " #   Column             Non-Null Count   Dtype  \n",
      "---  ------             --------------   -----  \n",
      " 0   op_id              128031 non-null  int64  \n",
      " 1   subject_id         128031 non-null  int64  \n",
      " 2   hadm_id            128031 non-null  int64  \n",
      " 3   opdate             128031 non-null  int64  \n",
      " 4   age                128031 non-null  int64  \n",
      " 5   sex                128031 non-null  object \n",
      " 6   weight             126611 non-null  float64\n",
      " 7   height             127269 non-null  float64\n",
      " 8   race               128031 non-null  object \n",
      " 9   asa                124636 non-null  float64\n",
      " 10  emop               128031 non-null  int64  \n",
      " 11  department         128031 non-null  object \n",
      " 12  antype             128031 non-null  object \n",
      " 13  icd10_pcs          128031 non-null  object \n",
      " 14  category_desc      128031 non-null  object \n",
      " 15  desc_short         128031 non-null  object \n",
      " 16  category_id        128031 non-null  object \n",
      " 17  orin_time          128031 non-null  int64  \n",
      " 18  orout_time         128031 non-null  int64  \n",
      " 19  opstart_time       128019 non-null  float64\n",
      " 20  opend_time         128020 non-null  float64\n",
      " 21  admission_time     128031 non-null  int64  \n",
      " 22  discharge_time     128031 non-null  int64  \n",
      " 23  anstart_time       127979 non-null  float64\n",
      " 24  anend_time         127688 non-null  float64\n",
      " 25  cpbon_time         2485 non-null    float64\n",
      " 26  cpboff_time        2485 non-null    float64\n",
      " 27  icuin_time         14590 non-null   float64\n",
      " 28  icuout_time        14590 non-null   float64\n",
      " 29  inhosp_death_time  1504 non-null    float64\n",
      "dtypes: float64(12), int64(10), object(8)\n",
      "memory usage: 29.3+ MB\n"
     ]
    },
    {
     "data": {
      "text/html": [
       "<div>\n",
       "<style scoped>\n",
       "    .dataframe tbody tr th:only-of-type {\n",
       "        vertical-align: middle;\n",
       "    }\n",
       "\n",
       "    .dataframe tbody tr th {\n",
       "        vertical-align: top;\n",
       "    }\n",
       "\n",
       "    .dataframe thead th {\n",
       "        text-align: right;\n",
       "    }\n",
       "</style>\n",
       "<table border=\"1\" class=\"dataframe\">\n",
       "  <thead>\n",
       "    <tr style=\"text-align: right;\">\n",
       "      <th></th>\n",
       "      <th>op_id</th>\n",
       "      <th>subject_id</th>\n",
       "      <th>hadm_id</th>\n",
       "      <th>opdate</th>\n",
       "      <th>age</th>\n",
       "      <th>sex</th>\n",
       "      <th>weight</th>\n",
       "      <th>height</th>\n",
       "      <th>race</th>\n",
       "      <th>asa</th>\n",
       "      <th>...</th>\n",
       "      <th>opend_time</th>\n",
       "      <th>admission_time</th>\n",
       "      <th>discharge_time</th>\n",
       "      <th>anstart_time</th>\n",
       "      <th>anend_time</th>\n",
       "      <th>cpbon_time</th>\n",
       "      <th>cpboff_time</th>\n",
       "      <th>icuin_time</th>\n",
       "      <th>icuout_time</th>\n",
       "      <th>inhosp_death_time</th>\n",
       "    </tr>\n",
       "  </thead>\n",
       "  <tbody>\n",
       "    <tr>\n",
       "      <th>5213</th>\n",
       "      <td>494869962</td>\n",
       "      <td>121939743</td>\n",
       "      <td>273337113</td>\n",
       "      <td>27360</td>\n",
       "      <td>60</td>\n",
       "      <td>M</td>\n",
       "      <td>70.0</td>\n",
       "      <td>179.0</td>\n",
       "      <td>Asian</td>\n",
       "      <td>2.0</td>\n",
       "      <td>...</td>\n",
       "      <td>28660.0</td>\n",
       "      <td>0</td>\n",
       "      <td>136795</td>\n",
       "      <td>28540.0</td>\n",
       "      <td>28660.0</td>\n",
       "      <td>NaN</td>\n",
       "      <td>NaN</td>\n",
       "      <td>NaN</td>\n",
       "      <td>NaN</td>\n",
       "      <td>NaN</td>\n",
       "    </tr>\n",
       "  </tbody>\n",
       "</table>\n",
       "<p>1 rows × 30 columns</p>\n",
       "</div>"
      ],
      "text/plain": [
       "          op_id  subject_id    hadm_id  opdate  age sex  weight  height  \\\n",
       "5213  494869962   121939743  273337113   27360   60   M    70.0   179.0   \n",
       "\n",
       "       race  asa  ...  opend_time admission_time discharge_time anstart_time  \\\n",
       "5213  Asian  2.0  ...     28660.0              0         136795      28540.0   \n",
       "\n",
       "     anend_time cpbon_time cpboff_time  icuin_time  icuout_time  \\\n",
       "5213    28660.0        NaN         NaN         NaN          NaN   \n",
       "\n",
       "      inhosp_death_time  \n",
       "5213                NaN  \n",
       "\n",
       "[1 rows x 30 columns]"
      ]
     },
     "execution_count": 2,
     "metadata": {},
     "output_type": "execute_result"
    }
   ],
   "source": [
    "## Load Operations \n",
    "\n",
    "operations_df = pd.read_csv('../_data/operation_pcd.csv')\n",
    "operations_df.columns, operations_df.shape, operations_df.info()\n",
    "\n",
    "test = operations_df[operations_df['op_id']==494869962]\n",
    "test"
   ]
  },
  {
   "cell_type": "markdown",
   "metadata": {},
   "source": [
    "## Vitals\n",
    "### LOAD - Vitals"
   ]
  },
  {
   "cell_type": "code",
   "execution_count": 3,
   "metadata": {},
   "outputs": [
    {
     "name": "stdout",
     "output_type": "stream",
     "text": [
      "<class 'pandas.core.frame.DataFrame'>\n",
      "Index: 5 entries, 160453 to 160457\n",
      "Data columns (total 7 columns):\n",
      " #   Column         Non-Null Count  Dtype  \n",
      "---  ------         --------------  -----  \n",
      " 0   #              5 non-null      int64  \n",
      " 1   op_id          5 non-null      int64  \n",
      " 2   subject_id     5 non-null      int64  \n",
      " 3   chart_time     5 non-null      int64  \n",
      " 4   item_name      5 non-null      object \n",
      " 5   value          5 non-null      float64\n",
      " 6   nearest_orout  5 non-null      int64  \n",
      "dtypes: float64(1), int64(5), object(1)\n",
      "memory usage: 320.0+ bytes\n"
     ]
    }
   ],
   "source": [
    "## Load VITALS\n",
    "vitals_df = pd.read_csv('../_data/vitals_in_hospital_filter.csv')\n",
    "vitals_df.head()\n",
    "\n",
    "test_vital = vitals_df[vitals_df['op_id']==494869962]\n",
    "test_vital.info()"
   ]
  },
  {
   "cell_type": "markdown",
   "metadata": {},
   "source": [
    "### Pivot - Vitals"
   ]
  },
  {
   "cell_type": "code",
   "execution_count": 4,
   "metadata": {},
   "outputs": [
    {
     "name": "stdout",
     "output_type": "stream",
     "text": [
      "<class 'pandas.core.frame.DataFrame'>\n",
      "MultiIndex: 128491 entries, (400000455, 179458020, 2005) to (499999032, 136003154, 2175)\n",
      "Data columns (total 20 columns):\n",
      " #   Column   Non-Null Count   Dtype  \n",
      "---  ------   --------------   -----  \n",
      " 0   art_dbp  36721 non-null   float64\n",
      " 1   art_mbp  37555 non-null   float64\n",
      " 2   art_sbp  36808 non-null   float64\n",
      " 3   bis      1963 non-null    float64\n",
      " 4   bt       27719 non-null   float64\n",
      " 5   ci       53 non-null      float64\n",
      " 6   cvp      2691 non-null    float64\n",
      " 7   ffp      230 non-null     float64\n",
      " 8   ftn      94 non-null      float64\n",
      " 9   hr       112146 non-null  float64\n",
      " 10  pap_dbp  322 non-null     float64\n",
      " 11  pap_mbp  366 non-null     float64\n",
      " 12  pap_sbp  325 non-null     float64\n",
      " 13  pip      83815 non-null   float64\n",
      " 14  pmean    79294 non-null   float64\n",
      " 15  rbc      1011 non-null    float64\n",
      " 16  rr       98032 non-null   float64\n",
      " 17  spo2     116990 non-null  float64\n",
      " 18  uo       4155 non-null    float64\n",
      " 19  vt       85338 non-null   float64\n",
      "dtypes: float64(20)\n",
      "memory usage: 22.8 MB\n"
     ]
    }
   ],
   "source": [
    "pivoted_vitals = pd.pivot_table(vitals_df, index=['op_id', 'subject_id', 'chart_time'], columns='item_name', values='value')\n",
    "pivoted_vitals.head()\n",
    "pivoted_vitals.info()\n"
   ]
  },
  {
   "cell_type": "markdown",
   "metadata": {},
   "source": [
    "As a result of the pivot, these columns were converted into the index:  \n",
    "- 0   #              5 non-null      int64  \n",
    "- 1   **op_id**          5 non-null      int64  \n",
    "- 2   **subject_id**     5 non-null      int64  \n",
    "- 3   **chart_time**     5 non-null      int64  \n",
    "\n",
    "Need to reset the index to the table can be used normallly again. "
   ]
  },
  {
   "cell_type": "code",
   "execution_count": 5,
   "metadata": {},
   "outputs": [
    {
     "data": {
      "text/plain": [
       "RangeIndex(start=0, stop=128491, step=1)"
      ]
     },
     "execution_count": 5,
     "metadata": {},
     "output_type": "execute_result"
    }
   ],
   "source": [
    "# confirm that the index changed to the above: \n",
    "pivoted_vitals.index\n",
    "\n",
    "#Reset the index! \n",
    "pivoted_vitals.reset_index(inplace=True)\n",
    "\n",
    "# confim again. \n",
    "pivoted_vitals.index"
   ]
  },
  {
   "cell_type": "code",
   "execution_count": 6,
   "metadata": {},
   "outputs": [
    {
     "data": {
      "text/html": [
       "<div>\n",
       "<style scoped>\n",
       "    .dataframe tbody tr th:only-of-type {\n",
       "        vertical-align: middle;\n",
       "    }\n",
       "\n",
       "    .dataframe tbody tr th {\n",
       "        vertical-align: top;\n",
       "    }\n",
       "\n",
       "    .dataframe thead th {\n",
       "        text-align: right;\n",
       "    }\n",
       "</style>\n",
       "<table border=\"1\" class=\"dataframe\">\n",
       "  <thead>\n",
       "    <tr style=\"text-align: right;\">\n",
       "      <th>item_name</th>\n",
       "      <th>op_id</th>\n",
       "      <th>subject_id</th>\n",
       "      <th>chart_time</th>\n",
       "      <th>art_dbp</th>\n",
       "      <th>art_mbp</th>\n",
       "      <th>art_sbp</th>\n",
       "      <th>bis</th>\n",
       "      <th>bt</th>\n",
       "      <th>ci</th>\n",
       "      <th>cvp</th>\n",
       "      <th>...</th>\n",
       "      <th>pap_dbp</th>\n",
       "      <th>pap_mbp</th>\n",
       "      <th>pap_sbp</th>\n",
       "      <th>pip</th>\n",
       "      <th>pmean</th>\n",
       "      <th>rbc</th>\n",
       "      <th>rr</th>\n",
       "      <th>spo2</th>\n",
       "      <th>uo</th>\n",
       "      <th>vt</th>\n",
       "    </tr>\n",
       "  </thead>\n",
       "  <tbody>\n",
       "    <tr>\n",
       "      <th>121792</th>\n",
       "      <td>494869962</td>\n",
       "      <td>121939743</td>\n",
       "      <td>28655</td>\n",
       "      <td>NaN</td>\n",
       "      <td>NaN</td>\n",
       "      <td>NaN</td>\n",
       "      <td>NaN</td>\n",
       "      <td>NaN</td>\n",
       "      <td>NaN</td>\n",
       "      <td>NaN</td>\n",
       "      <td>...</td>\n",
       "      <td>NaN</td>\n",
       "      <td>NaN</td>\n",
       "      <td>NaN</td>\n",
       "      <td>26.0</td>\n",
       "      <td>NaN</td>\n",
       "      <td>NaN</td>\n",
       "      <td>22.5</td>\n",
       "      <td>100.0</td>\n",
       "      <td>NaN</td>\n",
       "      <td>296.0</td>\n",
       "    </tr>\n",
       "  </tbody>\n",
       "</table>\n",
       "<p>1 rows × 23 columns</p>\n",
       "</div>"
      ],
      "text/plain": [
       "item_name      op_id  subject_id  chart_time  art_dbp  art_mbp  art_sbp  bis  \\\n",
       "121792     494869962   121939743       28655      NaN      NaN      NaN  NaN   \n",
       "\n",
       "item_name  bt  ci  cvp  ...  pap_dbp  pap_mbp  pap_sbp   pip  pmean  rbc  \\\n",
       "121792    NaN NaN  NaN  ...      NaN      NaN      NaN  26.0    NaN  NaN   \n",
       "\n",
       "item_name    rr   spo2  uo     vt  \n",
       "121792     22.5  100.0 NaN  296.0  \n",
       "\n",
       "[1 rows x 23 columns]"
      ]
     },
     "execution_count": 6,
     "metadata": {},
     "output_type": "execute_result"
    }
   ],
   "source": [
    "\n",
    "## Test pivoted_vitals = ensure there remains only 1 record of an op_id\n",
    "test_ppivot = pivoted_vitals[pivoted_vitals['op_id']==494869962]\n",
    "test_ppivot\n"
   ]
  },
  {
   "cell_type": "markdown",
   "metadata": {},
   "source": [
    "### Preliminary EDA - VITALS\n",
    "1. Drop fields with high null count. "
   ]
  },
  {
   "cell_type": "code",
   "execution_count": null,
   "metadata": {},
   "outputs": [],
   "source": [
    "vitals_todrop = ['bis','ci', 'ffp','ftn','pap_dbp','pap_mbp','pap_sbp','rbc','uo']\n",
    "pivoted_vitals.drop(columns=vitals_todrop, inplace=True)\n",
    "pivoted_vitals.info()"
   ]
  },
  {
   "cell_type": "markdown",
   "metadata": {},
   "source": [
    "## LABS\n",
    "### Load - Labs"
   ]
  },
  {
   "cell_type": "code",
   "execution_count": null,
   "metadata": {},
   "outputs": [],
   "source": [
    "## Load LABS\n",
    "labs_df = pd.read_csv('../_data/labs_in_hospital_filter.csv')\n",
    "labs_df.columns, labs_df.shape"
   ]
  },
  {
   "cell_type": "markdown",
   "metadata": {},
   "source": [
    "### Pivot - Labs"
   ]
  },
  {
   "cell_type": "code",
   "execution_count": null,
   "metadata": {},
   "outputs": [],
   "source": [
    "pivoted_labs = pd.pivot_table(labs_df, index=['subject_id', 'chart_time'], columns='item_name', values='value')\n",
    "pivoted_labs.head()"
   ]
  },
  {
   "cell_type": "markdown",
   "metadata": {},
   "source": [
    "### Preliminary EDA - Labs\n",
    "1. Drop fields with high NA"
   ]
  },
  {
   "cell_type": "code",
   "execution_count": null,
   "metadata": {},
   "outputs": [],
   "source": [
    "pivoted_labs.info()"
   ]
  },
  {
   "cell_type": "code",
   "execution_count": null,
   "metadata": {},
   "outputs": [],
   "source": [
    "labs_todrop = ['crp','hba1c']\n",
    "pivoted_labs.drop(columns=labs_todrop, inplace=True)\n",
    "pivoted_labs.info()"
   ]
  },
  {
   "cell_type": "code",
   "execution_count": null,
   "metadata": {},
   "outputs": [],
   "source": [
    "## CHUNKING IS QUESTIONABLE - SKIP TO BELOW FOR loading the full csv\n",
    "import pandas as pd\n",
    "\n",
    "chunk_size = 10000\n",
    "# Assuming we have three large DataFrames to merge: \n",
    "# You can read them in chunks of chunk size x\n",
    "operations_df_chunk = pd.read_csv('../_data/operation_pcd.csv', dtype=dtype_dict_ops,chunksize=chunk_size, na_values=['NA', 'N/A', 'NaN'])\n",
    "vitals_df_chunk = pd.read_csv('../_data/vitals_in_hospital_filter.csv', dtype=dtype_dict_vital, chunksize=chunk_size, na_values=['NA', 'N/A', 'NaN'])\n",
    "labs_df_chunk = pd.read_csv('../_data/labs_in_hospital_filter.csv', dtype=dtype_dict_lab, chunksize=chunk_size, na_values=['NA', 'N/A', 'NaN'])\n"
   ]
  },
  {
   "cell_type": "markdown",
   "metadata": {},
   "source": [
    "## MERGE \n",
    "### Operations_pcd with Vitals, then Labs."
   ]
  },
  {
   "cell_type": "code",
   "execution_count": null,
   "metadata": {},
   "outputs": [],
   "source": [
    "operations_w_vitals_df = pd.merge(operations_df,pivoted_vitals, on='op_id', how='left')\n",
    "operations_w_vitals_df.info()"
   ]
  },
  {
   "cell_type": "code",
   "execution_count": null,
   "metadata": {},
   "outputs": [],
   "source": [
    "operations_w_vitals_df.head()"
   ]
  },
  {
   "cell_type": "code",
   "execution_count": null,
   "metadata": {},
   "outputs": [],
   "source": [
    "operations_vitals_labs_df = pd.merge(operations_w_vitals_df,pivoted_labs, on='subject_id', how='left')\n",
    "\n",
    "operations_vitals_labs_df.shape, operations_vitals_labs_df.info()\n"
   ]
  },
  {
   "cell_type": "markdown",
   "metadata": {},
   "source": [
    "## Export to CSV"
   ]
  },
  {
   "cell_type": "code",
   "execution_count": null,
   "metadata": {},
   "outputs": [],
   "source": [
    "# EXPORT and Specify the file path \n",
    "output_csv_file = '../_data/operations_fulldata.csv'\n",
    "\n",
    "# Save the DataFrame to a CSV file\n",
    "operations_vitals_labs_df.to_csv(output_csv_file, index=False)"
   ]
  },
  {
   "cell_type": "code",
   "execution_count": null,
   "metadata": {},
   "outputs": [],
   "source": [
    "distinct_count_w_details = ops_vitals_merged_df['op_id'].nunique()\n",
    "print(distinct_count_w_details)"
   ]
  },
  {
   "cell_type": "markdown",
   "metadata": {},
   "source": [
    "At least there is nothing being dropped from the Operations table (see 128k above).   \n",
    "Still doubt that the Vitals are coming over - espectially given how many records there are. "
   ]
  },
  {
   "cell_type": "markdown",
   "metadata": {},
   "source": [
    "TESTING - Are records getting merged correctly? "
   ]
  },
  {
   "cell_type": "code",
   "execution_count": null,
   "metadata": {},
   "outputs": [],
   "source": [
    "\n",
    "testing_df = ops_vitals_merged_df[ops_vitals_merged_df['item_name'].notna()]\n",
    "testing_df"
   ]
  },
  {
   "cell_type": "code",
   "execution_count": null,
   "metadata": {},
   "outputs": [],
   "source": [
    "record_count = testing_df.shape[0]\n",
    "print(\"Number of records with non-null 'item_name':\", record_count)"
   ]
  },
  {
   "cell_type": "code",
   "execution_count": null,
   "metadata": {},
   "outputs": [],
   "source": [
    "data_types = testing_df.dtypes\n",
    "print(data_types)"
   ]
  }
 ],
 "metadata": {
  "kernelspec": {
   "display_name": "Lighthouse_env",
   "language": "python",
   "name": "python3"
  },
  "language_info": {
   "codemirror_mode": {
    "name": "ipython",
    "version": 3
   },
   "file_extension": ".py",
   "mimetype": "text/x-python",
   "name": "python",
   "nbconvert_exporter": "python",
   "pygments_lexer": "ipython3",
   "version": "3.10.13"
  }
 },
 "nbformat": 4,
 "nbformat_minor": 2
}
