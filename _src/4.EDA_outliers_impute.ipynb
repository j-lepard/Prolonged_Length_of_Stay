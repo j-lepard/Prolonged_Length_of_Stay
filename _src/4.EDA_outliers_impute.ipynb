{
 "cells": [
  {
   "cell_type": "code",
   "execution_count": 1,
   "metadata": {},
   "outputs": [],
   "source": [
    "import pandas as pd\n"
   ]
  },
  {
   "cell_type": "code",
   "execution_count": 9,
   "metadata": {},
   "outputs": [
    {
     "name": "stdout",
     "output_type": "stream",
     "text": [
      "<class 'pandas.core.frame.DataFrame'>\n",
      "RangeIndex: 58815 entries, 0 to 58814\n",
      "Data columns (total 58 columns):\n",
      " #   Column             Non-Null Count  Dtype  \n",
      "---  ------             --------------  -----  \n",
      " 0   op_id              58815 non-null  int64  \n",
      " 1   subject_id         58815 non-null  int64  \n",
      " 2   hadm_id            58815 non-null  int64  \n",
      " 3   opdate             58815 non-null  int64  \n",
      " 4   age                58815 non-null  int64  \n",
      " 5   sex                58815 non-null  object \n",
      " 6   weight             58180 non-null  float64\n",
      " 7   height             58461 non-null  float64\n",
      " 8   race               58815 non-null  object \n",
      " 9   asa                56842 non-null  float64\n",
      " 10  emop               58815 non-null  int64  \n",
      " 11  department         58815 non-null  object \n",
      " 12  antype             58815 non-null  object \n",
      " 13  icd10_pcs          58815 non-null  object \n",
      " 14  category_desc      58815 non-null  object \n",
      " 15  desc_short         58815 non-null  object \n",
      " 16  category_id        58815 non-null  object \n",
      " 17  orin_time          58815 non-null  int64  \n",
      " 18  orout_time         58815 non-null  int64  \n",
      " 19  opstart_time       58811 non-null  float64\n",
      " 20  opend_time         58813 non-null  float64\n",
      " 21  admission_time     58815 non-null  int64  \n",
      " 22  discharge_time     58815 non-null  int64  \n",
      " 23  anstart_time       58783 non-null  float64\n",
      " 24  anend_time         58631 non-null  float64\n",
      " 25  cpbon_time         707 non-null    float64\n",
      " 26  cpboff_time        707 non-null    float64\n",
      " 27  icuin_time         7251 non-null   float64\n",
      " 28  icuout_time        7251 non-null   float64\n",
      " 29  inhosp_death_time  882 non-null    float64\n",
      " 30  subject_id_y       58794 non-null  float64\n",
      " 31  chart_time_x       58794 non-null  float64\n",
      " 32  art_dbp            12921 non-null  float64\n",
      " 33  art_mbp            13251 non-null  float64\n",
      " 34  art_sbp            12958 non-null  float64\n",
      " 35  bt                 12508 non-null  float64\n",
      " 36  cvp                990 non-null    float64\n",
      " 37  hr                 51399 non-null  float64\n",
      " 38  pip                37131 non-null  float64\n",
      " 39  pmean              33125 non-null  float64\n",
      " 40  rr                 43083 non-null  float64\n",
      " 41  spo2               53632 non-null  float64\n",
      " 42  vt                 37253 non-null  float64\n",
      " 43  chart_time_y       41310 non-null  float64\n",
      " 44  alp                12415 non-null  float64\n",
      " 45  alt                12848 non-null  float64\n",
      " 46  ast                12850 non-null  float64\n",
      " 47  chloride           18239 non-null  float64\n",
      " 48  creatinine         14419 non-null  float64\n",
      " 49  glucose            17416 non-null  float64\n",
      " 50  hb                 17773 non-null  float64\n",
      " 51  hco3               14035 non-null  float64\n",
      " 52  lymphocyte         14662 non-null  float64\n",
      " 53  platelet           16649 non-null  float64\n",
      " 54  potassium          23970 non-null  float64\n",
      " 55  sodium             23795 non-null  float64\n",
      " 56  total_bilirubin    11484 non-null  float64\n",
      " 57  wbc                16347 non-null  float64\n",
      "dtypes: float64(40), int64(10), object(8)\n",
      "memory usage: 26.0+ MB\n"
     ]
    }
   ],
   "source": [
    "df=pd.read_csv('../_data/operations_inscope.csv')\n",
    "df.info()"
   ]
  },
  {
   "cell_type": "markdown",
   "metadata": {},
   "source": [
    "## Objective: Identify LOS Outliers withing each surgery type\n",
    "\n",
    "We use `groupby`('icd10_pcs') groups the data by the unique values in the 'icd10_pcs'.  \n",
    " For each group, `transform` applies the calculate_percentile_75 function to values within that group.   \n",
    " This group-specific 75th percentile is then used to determine if a value is an outlier within its category.\n",
    "\n",
    "Lastly, the is_outlier column is created to indicate with 1 if the record is an outlier in its category or 0 otherwise. We also clean up by dropping the intermediate 'percentile_75' column.\n"
   ]
  },
  {
   "cell_type": "code",
   "execution_count": 20,
   "metadata": {},
   "outputs": [
    {
     "data": {
      "text/html": [
       "<div>\n",
       "<style scoped>\n",
       "    .dataframe tbody tr th:only-of-type {\n",
       "        vertical-align: middle;\n",
       "    }\n",
       "\n",
       "    .dataframe tbody tr th {\n",
       "        vertical-align: top;\n",
       "    }\n",
       "\n",
       "    .dataframe thead th {\n",
       "        text-align: right;\n",
       "    }\n",
       "</style>\n",
       "<table border=\"1\" class=\"dataframe\">\n",
       "  <thead>\n",
       "    <tr style=\"text-align: right;\">\n",
       "      <th></th>\n",
       "      <th>op_id</th>\n",
       "      <th>subject_id</th>\n",
       "      <th>hadm_id</th>\n",
       "      <th>opdate</th>\n",
       "      <th>age</th>\n",
       "      <th>weight</th>\n",
       "      <th>height</th>\n",
       "      <th>asa</th>\n",
       "      <th>emop</th>\n",
       "      <th>orin_time</th>\n",
       "      <th>...</th>\n",
       "      <th>hb</th>\n",
       "      <th>hco3</th>\n",
       "      <th>lymphocyte</th>\n",
       "      <th>platelet</th>\n",
       "      <th>potassium</th>\n",
       "      <th>sodium</th>\n",
       "      <th>total_bilirubin</th>\n",
       "      <th>wbc</th>\n",
       "      <th>LOS</th>\n",
       "      <th>is_outlier</th>\n",
       "    </tr>\n",
       "  </thead>\n",
       "  <tbody>\n",
       "    <tr>\n",
       "      <th>count</th>\n",
       "      <td>4.422700e+04</td>\n",
       "      <td>4.422700e+04</td>\n",
       "      <td>4.422700e+04</td>\n",
       "      <td>4.422700e+04</td>\n",
       "      <td>44227.000000</td>\n",
       "      <td>43778.000000</td>\n",
       "      <td>44016.000000</td>\n",
       "      <td>42955.000000</td>\n",
       "      <td>44227.000000</td>\n",
       "      <td>4.422700e+04</td>\n",
       "      <td>...</td>\n",
       "      <td>12754.000000</td>\n",
       "      <td>9944.000000</td>\n",
       "      <td>10416.000000</td>\n",
       "      <td>11972.000000</td>\n",
       "      <td>17264.000000</td>\n",
       "      <td>17135.000000</td>\n",
       "      <td>8134.000000</td>\n",
       "      <td>11744.000000</td>\n",
       "      <td>44227.000000</td>\n",
       "      <td>44227.0</td>\n",
       "    </tr>\n",
       "    <tr>\n",
       "      <th>mean</th>\n",
       "      <td>4.499775e+08</td>\n",
       "      <td>1.501176e+08</td>\n",
       "      <td>2.501736e+08</td>\n",
       "      <td>2.041050e+05</td>\n",
       "      <td>56.058629</td>\n",
       "      <td>62.245374</td>\n",
       "      <td>161.595352</td>\n",
       "      <td>1.727273</td>\n",
       "      <td>0.097316</td>\n",
       "      <td>2.048240e+05</td>\n",
       "      <td>...</td>\n",
       "      <td>12.093747</td>\n",
       "      <td>23.863936</td>\n",
       "      <td>21.713297</td>\n",
       "      <td>212.305212</td>\n",
       "      <td>3.924631</td>\n",
       "      <td>139.196177</td>\n",
       "      <td>0.957155</td>\n",
       "      <td>8.834136</td>\n",
       "      <td>3.924024</td>\n",
       "      <td>0.0</td>\n",
       "    </tr>\n",
       "    <tr>\n",
       "      <th>std</th>\n",
       "      <td>2.886688e+07</td>\n",
       "      <td>2.885716e+07</td>\n",
       "      <td>2.890335e+07</td>\n",
       "      <td>6.263424e+05</td>\n",
       "      <td>15.463223</td>\n",
       "      <td>11.911047</td>\n",
       "      <td>83.332957</td>\n",
       "      <td>0.627437</td>\n",
       "      <td>0.296391</td>\n",
       "      <td>6.263466e+05</td>\n",
       "      <td>...</td>\n",
       "      <td>1.958106</td>\n",
       "      <td>2.925450</td>\n",
       "      <td>12.177941</td>\n",
       "      <td>72.319081</td>\n",
       "      <td>0.452148</td>\n",
       "      <td>3.616322</td>\n",
       "      <td>1.083636</td>\n",
       "      <td>4.076440</td>\n",
       "      <td>4.742772</td>\n",
       "      <td>0.0</td>\n",
       "    </tr>\n",
       "    <tr>\n",
       "      <th>min</th>\n",
       "      <td>4.000005e+08</td>\n",
       "      <td>1.000008e+08</td>\n",
       "      <td>2.000024e+08</td>\n",
       "      <td>0.000000e+00</td>\n",
       "      <td>20.000000</td>\n",
       "      <td>-1.000000</td>\n",
       "      <td>-1.000000</td>\n",
       "      <td>1.000000</td>\n",
       "      <td>0.000000</td>\n",
       "      <td>1.000000e+01</td>\n",
       "      <td>...</td>\n",
       "      <td>4.100000</td>\n",
       "      <td>4.600000</td>\n",
       "      <td>0.000000</td>\n",
       "      <td>19.000000</td>\n",
       "      <td>2.000000</td>\n",
       "      <td>115.000000</td>\n",
       "      <td>0.100000</td>\n",
       "      <td>0.560000</td>\n",
       "      <td>-1.385417</td>\n",
       "      <td>0.0</td>\n",
       "    </tr>\n",
       "    <tr>\n",
       "      <th>25%</th>\n",
       "      <td>4.250528e+08</td>\n",
       "      <td>1.250958e+08</td>\n",
       "      <td>2.251778e+08</td>\n",
       "      <td>1.440000e+03</td>\n",
       "      <td>45.000000</td>\n",
       "      <td>54.000000</td>\n",
       "      <td>155.000000</td>\n",
       "      <td>1.000000</td>\n",
       "      <td>0.000000</td>\n",
       "      <td>2.030000e+03</td>\n",
       "      <td>...</td>\n",
       "      <td>10.700000</td>\n",
       "      <td>22.100000</td>\n",
       "      <td>11.600000</td>\n",
       "      <td>167.000000</td>\n",
       "      <td>3.600000</td>\n",
       "      <td>137.000000</td>\n",
       "      <td>0.500000</td>\n",
       "      <td>5.930000</td>\n",
       "      <td>1.302083</td>\n",
       "      <td>0.0</td>\n",
       "    </tr>\n",
       "    <tr>\n",
       "      <th>50%</th>\n",
       "      <td>4.499423e+08</td>\n",
       "      <td>1.503455e+08</td>\n",
       "      <td>2.503584e+08</td>\n",
       "      <td>2.880000e+03</td>\n",
       "      <td>60.000000</td>\n",
       "      <td>61.000000</td>\n",
       "      <td>161.000000</td>\n",
       "      <td>2.000000</td>\n",
       "      <td>0.000000</td>\n",
       "      <td>3.345000e+03</td>\n",
       "      <td>...</td>\n",
       "      <td>12.100000</td>\n",
       "      <td>23.900000</td>\n",
       "      <td>20.500000</td>\n",
       "      <td>207.000000</td>\n",
       "      <td>3.900000</td>\n",
       "      <td>140.000000</td>\n",
       "      <td>0.700000</td>\n",
       "      <td>7.940000</td>\n",
       "      <td>2.482639</td>\n",
       "      <td>0.0</td>\n",
       "    </tr>\n",
       "    <tr>\n",
       "      <th>75%</th>\n",
       "      <td>4.750742e+08</td>\n",
       "      <td>1.750075e+08</td>\n",
       "      <td>2.751091e+08</td>\n",
       "      <td>1.008000e+04</td>\n",
       "      <td>70.000000</td>\n",
       "      <td>69.000000</td>\n",
       "      <td>167.000000</td>\n",
       "      <td>2.000000</td>\n",
       "      <td>0.000000</td>\n",
       "      <td>1.063500e+04</td>\n",
       "      <td>...</td>\n",
       "      <td>13.400000</td>\n",
       "      <td>25.700000</td>\n",
       "      <td>30.400000</td>\n",
       "      <td>250.000000</td>\n",
       "      <td>4.200000</td>\n",
       "      <td>141.000000</td>\n",
       "      <td>1.000000</td>\n",
       "      <td>10.892500</td>\n",
       "      <td>5.284722</td>\n",
       "      <td>0.0</td>\n",
       "    </tr>\n",
       "    <tr>\n",
       "      <th>max</th>\n",
       "      <td>4.999976e+08</td>\n",
       "      <td>1.999994e+08</td>\n",
       "      <td>2.999989e+08</td>\n",
       "      <td>5.132160e+06</td>\n",
       "      <td>90.000000</td>\n",
       "      <td>354.000000</td>\n",
       "      <td>17409.000000</td>\n",
       "      <td>6.000000</td>\n",
       "      <td>1.000000</td>\n",
       "      <td>5.133090e+06</td>\n",
       "      <td>...</td>\n",
       "      <td>25.500000</td>\n",
       "      <td>46.800000</td>\n",
       "      <td>97.000000</td>\n",
       "      <td>1113.000000</td>\n",
       "      <td>7.950000</td>\n",
       "      <td>181.000000</td>\n",
       "      <td>24.800000</td>\n",
       "      <td>85.620000</td>\n",
       "      <td>79.399306</td>\n",
       "      <td>0.0</td>\n",
       "    </tr>\n",
       "  </tbody>\n",
       "</table>\n",
       "<p>8 rows × 52 columns</p>\n",
       "</div>"
      ],
      "text/plain": [
       "              op_id    subject_id       hadm_id        opdate           age  \\\n",
       "count  4.422700e+04  4.422700e+04  4.422700e+04  4.422700e+04  44227.000000   \n",
       "mean   4.499775e+08  1.501176e+08  2.501736e+08  2.041050e+05     56.058629   \n",
       "std    2.886688e+07  2.885716e+07  2.890335e+07  6.263424e+05     15.463223   \n",
       "min    4.000005e+08  1.000008e+08  2.000024e+08  0.000000e+00     20.000000   \n",
       "25%    4.250528e+08  1.250958e+08  2.251778e+08  1.440000e+03     45.000000   \n",
       "50%    4.499423e+08  1.503455e+08  2.503584e+08  2.880000e+03     60.000000   \n",
       "75%    4.750742e+08  1.750075e+08  2.751091e+08  1.008000e+04     70.000000   \n",
       "max    4.999976e+08  1.999994e+08  2.999989e+08  5.132160e+06     90.000000   \n",
       "\n",
       "             weight        height           asa          emop     orin_time  \\\n",
       "count  43778.000000  44016.000000  42955.000000  44227.000000  4.422700e+04   \n",
       "mean      62.245374    161.595352      1.727273      0.097316  2.048240e+05   \n",
       "std       11.911047     83.332957      0.627437      0.296391  6.263466e+05   \n",
       "min       -1.000000     -1.000000      1.000000      0.000000  1.000000e+01   \n",
       "25%       54.000000    155.000000      1.000000      0.000000  2.030000e+03   \n",
       "50%       61.000000    161.000000      2.000000      0.000000  3.345000e+03   \n",
       "75%       69.000000    167.000000      2.000000      0.000000  1.063500e+04   \n",
       "max      354.000000  17409.000000      6.000000      1.000000  5.133090e+06   \n",
       "\n",
       "       ...            hb         hco3    lymphocyte      platelet  \\\n",
       "count  ...  12754.000000  9944.000000  10416.000000  11972.000000   \n",
       "mean   ...     12.093747    23.863936     21.713297    212.305212   \n",
       "std    ...      1.958106     2.925450     12.177941     72.319081   \n",
       "min    ...      4.100000     4.600000      0.000000     19.000000   \n",
       "25%    ...     10.700000    22.100000     11.600000    167.000000   \n",
       "50%    ...     12.100000    23.900000     20.500000    207.000000   \n",
       "75%    ...     13.400000    25.700000     30.400000    250.000000   \n",
       "max    ...     25.500000    46.800000     97.000000   1113.000000   \n",
       "\n",
       "          potassium        sodium  total_bilirubin           wbc  \\\n",
       "count  17264.000000  17135.000000      8134.000000  11744.000000   \n",
       "mean       3.924631    139.196177         0.957155      8.834136   \n",
       "std        0.452148      3.616322         1.083636      4.076440   \n",
       "min        2.000000    115.000000         0.100000      0.560000   \n",
       "25%        3.600000    137.000000         0.500000      5.930000   \n",
       "50%        3.900000    140.000000         0.700000      7.940000   \n",
       "75%        4.200000    141.000000         1.000000     10.892500   \n",
       "max        7.950000    181.000000        24.800000     85.620000   \n",
       "\n",
       "                LOS  is_outlier  \n",
       "count  44227.000000     44227.0  \n",
       "mean       3.924024         0.0  \n",
       "std        4.742772         0.0  \n",
       "min       -1.385417         0.0  \n",
       "25%        1.302083         0.0  \n",
       "50%        2.482639         0.0  \n",
       "75%        5.284722         0.0  \n",
       "max       79.399306         0.0  \n",
       "\n",
       "[8 rows x 52 columns]"
      ]
     },
     "execution_count": 20,
     "metadata": {},
     "output_type": "execute_result"
    }
   ],
   "source": [
    "import pandas as pd\n",
    "import numpy as np\n",
    "\n",
    "# Assuming df is your DataFrame, 'column_name' is the column you're examining,\n",
    "# and 'category_column' is the column with the categorical data\n",
    "df['LOS']=(df['discharge_time']-df['orout_time'])/1440 # LOS is time following surgery to dishcarge converted to days. \n",
    "\n",
    "# Define a function to calculate the 75th percentile for a series\n",
    "def calculate_percentile_75(series):\n",
    "    return series.quantile(0.75)\n",
    "\n",
    "# Apply the function to each group's 'icd10_pcs' and create a new column for the 75th percentile\n",
    "df['percentile_75'] = df.groupby('icd10_pcs')['LOS'].transform(calculate_percentile_75)\n",
    "\n",
    "# Create a new column with 0/1 based on the condition, using the group-specific 75th percentile\n",
    "df['is_outlier'] = np.where(df['LOS'] > df['percentile_75'], 1, 0)\n",
    "\n",
    "# Drop the 'percentile_75' column if it's no longer needed\n",
    "df.drop('percentile_75', axis=1, inplace=True)\n",
    "\n",
    "df\n",
    "# Optionally, if you still need the filtered DataFrame without outliers, you can filter the DataFrame\n",
    "df_no_outlier = df[df['is_outlier'] == 0]\n"
   ]
  },
  {
   "cell_type": "code",
   "execution_count": 17,
   "metadata": {},
   "outputs": [
    {
     "data": {
      "application/vnd.plotly.v1+json": {
       "config": {
        "plotlyServerURL": "https://plot.ly"
       },
       "data": [
        {
         "alignmentgroup": "True",
         "box": {
          "visible": true
         },
         "customdata": [
          [
           478413008,
           133278262,
           277235295,
           0,
           35,
           "F",
           54,
           null,
           "Asian",
           null,
           1,
           "OG",
           "Neuraxial",
           "Obstetrics",
           "Extraction of Products of Conception",
           "10D",
           210,
           340,
           230,
           330,
           0,
           5755,
           215,
           340,
           null,
           null,
           null,
           null,
           null,
           133278262,
           340,
           null,
           null,
           null,
           null,
           null,
           null,
           null,
           null,
           null,
           100,
           null,
           380,
           null,
           null,
           null,
           null,
           null,
           null,
           12.7,
           null,
           8.3,
           244,
           null,
           null,
           null,
           17.62,
           0
          ],
          [
           467425045,
           134213281,
           225860669,
           1440,
           60,
           "F",
           62,
           154,
           "Asian",
           1,
           0,
           "GS",
           "General",
           "Endocrine System",
           "Resection of Thyroid Gland",
           "0GT",
           2055,
           2165,
           2080,
           2150,
           0,
           7195,
           2070,
           2160,
           null,
           null,
           null,
           null,
           null,
           134213281,
           2160,
           null,
           null,
           null,
           null,
           null,
           62,
           5,
           null,
           9.5,
           100,
           28,
           null,
           null,
           null,
           null,
           null,
           null,
           null,
           null,
           null,
           null,
           null,
           null,
           null,
           null,
           null,
           0
          ],
          [
           461473883,
           134195201,
           265770645,
           1440,
           35,
           "F",
           50,
           160,
           "Asian",
           1,
           0,
           "OS",
           "Neuraxial",
           "Ear",
           "Excision of Right External Ear",
           "09B",
           2370,
           2535,
           2410,
           2525,
           0,
           8635,
           2380,
           2530,
           null,
           null,
           null,
           null,
           null,
           134195201,
           2535,
           null,
           null,
           null,
           null,
           null,
           82,
           null,
           null,
           24.5,
           100,
           null,
           3390,
           36,
           7,
           19,
           104,
           0.7,
           98,
           10.4,
           null,
           13.3,
           124,
           3.9,
           138,
           0.6,
           6.31,
           0
          ],
          [
           466389608,
           160947402,
           262240911,
           1440,
           60,
           "F",
           52,
           152,
           "Asian",
           1,
           0,
           "OL",
           "General",
           "Ear",
           "Repair Right Tympanic Membrane",
           "09Q",
           1910,
           2000,
           1950,
           1980,
           0,
           4315,
           1915,
           2005,
           null,
           null,
           null,
           null,
           null,
           160947402,
           2000,
           null,
           null,
           null,
           null,
           null,
           68,
           4,
           null,
           14,
           100,
           88,
           null,
           null,
           null,
           null,
           null,
           null,
           null,
           null,
           null,
           null,
           null,
           null,
           null,
           null,
           null,
           0
          ],
          [
           439560439,
           163619571,
           279388936,
           0,
           75,
           "F",
           65,
           154,
           "Asian",
           2,
           0,
           "OT",
           "MAC",
           "Eye",
           "Extraction of Right Lens",
           "08D",
           540,
           565,
           550,
           565,
           0,
           1435,
           545,
           570,
           null,
           null,
           null,
           null,
           null,
           163619571,
           565,
           null,
           null,
           null,
           null,
           null,
           50,
           null,
           null,
           null,
           100,
           null,
           null,
           null,
           null,
           null,
           null,
           null,
           null,
           null,
           null,
           null,
           null,
           null,
           null,
           null,
           null,
           0
          ]
         ],
         "hovertemplate": "sex=%{customdata[5]}<br>icd10_pcs=%{x}<br>LOS=%{y}<br>op_id=%{customdata[0]}<br>subject_id=%{customdata[1]}<br>hadm_id=%{customdata[2]}<br>opdate=%{customdata[3]}<br>age=%{customdata[4]}<br>weight=%{customdata[6]}<br>height=%{customdata[7]}<br>race=%{customdata[8]}<br>asa=%{customdata[9]}<br>emop=%{customdata[10]}<br>department=%{customdata[11]}<br>antype=%{customdata[12]}<br>category_desc=%{customdata[13]}<br>desc_short=%{customdata[14]}<br>category_id=%{customdata[15]}<br>orin_time=%{customdata[16]}<br>orout_time=%{customdata[17]}<br>opstart_time=%{customdata[18]}<br>opend_time=%{customdata[19]}<br>admission_time=%{customdata[20]}<br>discharge_time=%{customdata[21]}<br>anstart_time=%{customdata[22]}<br>anend_time=%{customdata[23]}<br>cpbon_time=%{customdata[24]}<br>cpboff_time=%{customdata[25]}<br>icuin_time=%{customdata[26]}<br>icuout_time=%{customdata[27]}<br>inhosp_death_time=%{customdata[28]}<br>subject_id_y=%{customdata[29]}<br>chart_time_x=%{customdata[30]}<br>art_dbp=%{customdata[31]}<br>art_mbp=%{customdata[32]}<br>art_sbp=%{customdata[33]}<br>bt=%{customdata[34]}<br>cvp=%{customdata[35]}<br>hr=%{customdata[36]}<br>pip=%{customdata[37]}<br>pmean=%{customdata[38]}<br>rr=%{customdata[39]}<br>spo2=%{customdata[40]}<br>vt=%{customdata[41]}<br>chart_time_y=%{customdata[42]}<br>alp=%{customdata[43]}<br>alt=%{customdata[44]}<br>ast=%{customdata[45]}<br>chloride=%{customdata[46]}<br>creatinine=%{customdata[47]}<br>glucose=%{customdata[48]}<br>hb=%{customdata[49]}<br>hco3=%{customdata[50]}<br>lymphocyte=%{customdata[51]}<br>platelet=%{customdata[52]}<br>potassium=%{customdata[53]}<br>sodium=%{customdata[54]}<br>total_bilirubin=%{customdata[55]}<br>wbc=%{customdata[56]}<br>is_outlier=%{customdata[57]}<extra></extra>",
         "legendgroup": "F",
         "marker": {
          "color": "#636efa"
         },
         "name": "F",
         "offsetgroup": "F",
         "orientation": "v",
         "scalegroup": "True",
         "showlegend": true,
         "type": "violin",
         "x": [
          "10D00",
          "0GTK0",
          "09B00",
          "09Q70",
          "08DJ3"
         ],
         "x0": " ",
         "xaxis": "x",
         "y": [
          3.7604166666666665,
          3.4930555555555554,
          4.236111111111111,
          1.6076388888888888,
          0.6041666666666666
         ],
         "y0": " ",
         "yaxis": "y"
        }
       ],
       "layout": {
        "legend": {
         "title": {
          "text": "sex"
         },
         "tracegroupgap": 0
        },
        "margin": {
         "t": 60
        },
        "template": {
         "data": {
          "bar": [
           {
            "error_x": {
             "color": "#2a3f5f"
            },
            "error_y": {
             "color": "#2a3f5f"
            },
            "marker": {
             "line": {
              "color": "#E5ECF6",
              "width": 0.5
             },
             "pattern": {
              "fillmode": "overlay",
              "size": 10,
              "solidity": 0.2
             }
            },
            "type": "bar"
           }
          ],
          "barpolar": [
           {
            "marker": {
             "line": {
              "color": "#E5ECF6",
              "width": 0.5
             },
             "pattern": {
              "fillmode": "overlay",
              "size": 10,
              "solidity": 0.2
             }
            },
            "type": "barpolar"
           }
          ],
          "carpet": [
           {
            "aaxis": {
             "endlinecolor": "#2a3f5f",
             "gridcolor": "white",
             "linecolor": "white",
             "minorgridcolor": "white",
             "startlinecolor": "#2a3f5f"
            },
            "baxis": {
             "endlinecolor": "#2a3f5f",
             "gridcolor": "white",
             "linecolor": "white",
             "minorgridcolor": "white",
             "startlinecolor": "#2a3f5f"
            },
            "type": "carpet"
           }
          ],
          "choropleth": [
           {
            "colorbar": {
             "outlinewidth": 0,
             "ticks": ""
            },
            "type": "choropleth"
           }
          ],
          "contour": [
           {
            "colorbar": {
             "outlinewidth": 0,
             "ticks": ""
            },
            "colorscale": [
             [
              0,
              "#0d0887"
             ],
             [
              0.1111111111111111,
              "#46039f"
             ],
             [
              0.2222222222222222,
              "#7201a8"
             ],
             [
              0.3333333333333333,
              "#9c179e"
             ],
             [
              0.4444444444444444,
              "#bd3786"
             ],
             [
              0.5555555555555556,
              "#d8576b"
             ],
             [
              0.6666666666666666,
              "#ed7953"
             ],
             [
              0.7777777777777778,
              "#fb9f3a"
             ],
             [
              0.8888888888888888,
              "#fdca26"
             ],
             [
              1,
              "#f0f921"
             ]
            ],
            "type": "contour"
           }
          ],
          "contourcarpet": [
           {
            "colorbar": {
             "outlinewidth": 0,
             "ticks": ""
            },
            "type": "contourcarpet"
           }
          ],
          "heatmap": [
           {
            "colorbar": {
             "outlinewidth": 0,
             "ticks": ""
            },
            "colorscale": [
             [
              0,
              "#0d0887"
             ],
             [
              0.1111111111111111,
              "#46039f"
             ],
             [
              0.2222222222222222,
              "#7201a8"
             ],
             [
              0.3333333333333333,
              "#9c179e"
             ],
             [
              0.4444444444444444,
              "#bd3786"
             ],
             [
              0.5555555555555556,
              "#d8576b"
             ],
             [
              0.6666666666666666,
              "#ed7953"
             ],
             [
              0.7777777777777778,
              "#fb9f3a"
             ],
             [
              0.8888888888888888,
              "#fdca26"
             ],
             [
              1,
              "#f0f921"
             ]
            ],
            "type": "heatmap"
           }
          ],
          "heatmapgl": [
           {
            "colorbar": {
             "outlinewidth": 0,
             "ticks": ""
            },
            "colorscale": [
             [
              0,
              "#0d0887"
             ],
             [
              0.1111111111111111,
              "#46039f"
             ],
             [
              0.2222222222222222,
              "#7201a8"
             ],
             [
              0.3333333333333333,
              "#9c179e"
             ],
             [
              0.4444444444444444,
              "#bd3786"
             ],
             [
              0.5555555555555556,
              "#d8576b"
             ],
             [
              0.6666666666666666,
              "#ed7953"
             ],
             [
              0.7777777777777778,
              "#fb9f3a"
             ],
             [
              0.8888888888888888,
              "#fdca26"
             ],
             [
              1,
              "#f0f921"
             ]
            ],
            "type": "heatmapgl"
           }
          ],
          "histogram": [
           {
            "marker": {
             "pattern": {
              "fillmode": "overlay",
              "size": 10,
              "solidity": 0.2
             }
            },
            "type": "histogram"
           }
          ],
          "histogram2d": [
           {
            "colorbar": {
             "outlinewidth": 0,
             "ticks": ""
            },
            "colorscale": [
             [
              0,
              "#0d0887"
             ],
             [
              0.1111111111111111,
              "#46039f"
             ],
             [
              0.2222222222222222,
              "#7201a8"
             ],
             [
              0.3333333333333333,
              "#9c179e"
             ],
             [
              0.4444444444444444,
              "#bd3786"
             ],
             [
              0.5555555555555556,
              "#d8576b"
             ],
             [
              0.6666666666666666,
              "#ed7953"
             ],
             [
              0.7777777777777778,
              "#fb9f3a"
             ],
             [
              0.8888888888888888,
              "#fdca26"
             ],
             [
              1,
              "#f0f921"
             ]
            ],
            "type": "histogram2d"
           }
          ],
          "histogram2dcontour": [
           {
            "colorbar": {
             "outlinewidth": 0,
             "ticks": ""
            },
            "colorscale": [
             [
              0,
              "#0d0887"
             ],
             [
              0.1111111111111111,
              "#46039f"
             ],
             [
              0.2222222222222222,
              "#7201a8"
             ],
             [
              0.3333333333333333,
              "#9c179e"
             ],
             [
              0.4444444444444444,
              "#bd3786"
             ],
             [
              0.5555555555555556,
              "#d8576b"
             ],
             [
              0.6666666666666666,
              "#ed7953"
             ],
             [
              0.7777777777777778,
              "#fb9f3a"
             ],
             [
              0.8888888888888888,
              "#fdca26"
             ],
             [
              1,
              "#f0f921"
             ]
            ],
            "type": "histogram2dcontour"
           }
          ],
          "mesh3d": [
           {
            "colorbar": {
             "outlinewidth": 0,
             "ticks": ""
            },
            "type": "mesh3d"
           }
          ],
          "parcoords": [
           {
            "line": {
             "colorbar": {
              "outlinewidth": 0,
              "ticks": ""
             }
            },
            "type": "parcoords"
           }
          ],
          "pie": [
           {
            "automargin": true,
            "type": "pie"
           }
          ],
          "scatter": [
           {
            "fillpattern": {
             "fillmode": "overlay",
             "size": 10,
             "solidity": 0.2
            },
            "type": "scatter"
           }
          ],
          "scatter3d": [
           {
            "line": {
             "colorbar": {
              "outlinewidth": 0,
              "ticks": ""
             }
            },
            "marker": {
             "colorbar": {
              "outlinewidth": 0,
              "ticks": ""
             }
            },
            "type": "scatter3d"
           }
          ],
          "scattercarpet": [
           {
            "marker": {
             "colorbar": {
              "outlinewidth": 0,
              "ticks": ""
             }
            },
            "type": "scattercarpet"
           }
          ],
          "scattergeo": [
           {
            "marker": {
             "colorbar": {
              "outlinewidth": 0,
              "ticks": ""
             }
            },
            "type": "scattergeo"
           }
          ],
          "scattergl": [
           {
            "marker": {
             "colorbar": {
              "outlinewidth": 0,
              "ticks": ""
             }
            },
            "type": "scattergl"
           }
          ],
          "scattermapbox": [
           {
            "marker": {
             "colorbar": {
              "outlinewidth": 0,
              "ticks": ""
             }
            },
            "type": "scattermapbox"
           }
          ],
          "scatterpolar": [
           {
            "marker": {
             "colorbar": {
              "outlinewidth": 0,
              "ticks": ""
             }
            },
            "type": "scatterpolar"
           }
          ],
          "scatterpolargl": [
           {
            "marker": {
             "colorbar": {
              "outlinewidth": 0,
              "ticks": ""
             }
            },
            "type": "scatterpolargl"
           }
          ],
          "scatterternary": [
           {
            "marker": {
             "colorbar": {
              "outlinewidth": 0,
              "ticks": ""
             }
            },
            "type": "scatterternary"
           }
          ],
          "surface": [
           {
            "colorbar": {
             "outlinewidth": 0,
             "ticks": ""
            },
            "colorscale": [
             [
              0,
              "#0d0887"
             ],
             [
              0.1111111111111111,
              "#46039f"
             ],
             [
              0.2222222222222222,
              "#7201a8"
             ],
             [
              0.3333333333333333,
              "#9c179e"
             ],
             [
              0.4444444444444444,
              "#bd3786"
             ],
             [
              0.5555555555555556,
              "#d8576b"
             ],
             [
              0.6666666666666666,
              "#ed7953"
             ],
             [
              0.7777777777777778,
              "#fb9f3a"
             ],
             [
              0.8888888888888888,
              "#fdca26"
             ],
             [
              1,
              "#f0f921"
             ]
            ],
            "type": "surface"
           }
          ],
          "table": [
           {
            "cells": {
             "fill": {
              "color": "#EBF0F8"
             },
             "line": {
              "color": "white"
             }
            },
            "header": {
             "fill": {
              "color": "#C8D4E3"
             },
             "line": {
              "color": "white"
             }
            },
            "type": "table"
           }
          ]
         },
         "layout": {
          "annotationdefaults": {
           "arrowcolor": "#2a3f5f",
           "arrowhead": 0,
           "arrowwidth": 1
          },
          "autotypenumbers": "strict",
          "coloraxis": {
           "colorbar": {
            "outlinewidth": 0,
            "ticks": ""
           }
          },
          "colorscale": {
           "diverging": [
            [
             0,
             "#8e0152"
            ],
            [
             0.1,
             "#c51b7d"
            ],
            [
             0.2,
             "#de77ae"
            ],
            [
             0.3,
             "#f1b6da"
            ],
            [
             0.4,
             "#fde0ef"
            ],
            [
             0.5,
             "#f7f7f7"
            ],
            [
             0.6,
             "#e6f5d0"
            ],
            [
             0.7,
             "#b8e186"
            ],
            [
             0.8,
             "#7fbc41"
            ],
            [
             0.9,
             "#4d9221"
            ],
            [
             1,
             "#276419"
            ]
           ],
           "sequential": [
            [
             0,
             "#0d0887"
            ],
            [
             0.1111111111111111,
             "#46039f"
            ],
            [
             0.2222222222222222,
             "#7201a8"
            ],
            [
             0.3333333333333333,
             "#9c179e"
            ],
            [
             0.4444444444444444,
             "#bd3786"
            ],
            [
             0.5555555555555556,
             "#d8576b"
            ],
            [
             0.6666666666666666,
             "#ed7953"
            ],
            [
             0.7777777777777778,
             "#fb9f3a"
            ],
            [
             0.8888888888888888,
             "#fdca26"
            ],
            [
             1,
             "#f0f921"
            ]
           ],
           "sequentialminus": [
            [
             0,
             "#0d0887"
            ],
            [
             0.1111111111111111,
             "#46039f"
            ],
            [
             0.2222222222222222,
             "#7201a8"
            ],
            [
             0.3333333333333333,
             "#9c179e"
            ],
            [
             0.4444444444444444,
             "#bd3786"
            ],
            [
             0.5555555555555556,
             "#d8576b"
            ],
            [
             0.6666666666666666,
             "#ed7953"
            ],
            [
             0.7777777777777778,
             "#fb9f3a"
            ],
            [
             0.8888888888888888,
             "#fdca26"
            ],
            [
             1,
             "#f0f921"
            ]
           ]
          },
          "colorway": [
           "#636efa",
           "#EF553B",
           "#00cc96",
           "#ab63fa",
           "#FFA15A",
           "#19d3f3",
           "#FF6692",
           "#B6E880",
           "#FF97FF",
           "#FECB52"
          ],
          "font": {
           "color": "#2a3f5f"
          },
          "geo": {
           "bgcolor": "white",
           "lakecolor": "white",
           "landcolor": "#E5ECF6",
           "showlakes": true,
           "showland": true,
           "subunitcolor": "white"
          },
          "hoverlabel": {
           "align": "left"
          },
          "hovermode": "closest",
          "mapbox": {
           "style": "light"
          },
          "paper_bgcolor": "white",
          "plot_bgcolor": "#E5ECF6",
          "polar": {
           "angularaxis": {
            "gridcolor": "white",
            "linecolor": "white",
            "ticks": ""
           },
           "bgcolor": "#E5ECF6",
           "radialaxis": {
            "gridcolor": "white",
            "linecolor": "white",
            "ticks": ""
           }
          },
          "scene": {
           "xaxis": {
            "backgroundcolor": "#E5ECF6",
            "gridcolor": "white",
            "gridwidth": 2,
            "linecolor": "white",
            "showbackground": true,
            "ticks": "",
            "zerolinecolor": "white"
           },
           "yaxis": {
            "backgroundcolor": "#E5ECF6",
            "gridcolor": "white",
            "gridwidth": 2,
            "linecolor": "white",
            "showbackground": true,
            "ticks": "",
            "zerolinecolor": "white"
           },
           "zaxis": {
            "backgroundcolor": "#E5ECF6",
            "gridcolor": "white",
            "gridwidth": 2,
            "linecolor": "white",
            "showbackground": true,
            "ticks": "",
            "zerolinecolor": "white"
           }
          },
          "shapedefaults": {
           "line": {
            "color": "#2a3f5f"
           }
          },
          "ternary": {
           "aaxis": {
            "gridcolor": "white",
            "linecolor": "white",
            "ticks": ""
           },
           "baxis": {
            "gridcolor": "white",
            "linecolor": "white",
            "ticks": ""
           },
           "bgcolor": "#E5ECF6",
           "caxis": {
            "gridcolor": "white",
            "linecolor": "white",
            "ticks": ""
           }
          },
          "title": {
           "x": 0.05
          },
          "xaxis": {
           "automargin": true,
           "gridcolor": "white",
           "linecolor": "white",
           "ticks": "",
           "title": {
            "standoff": 15
           },
           "zerolinecolor": "white",
           "zerolinewidth": 2
          },
          "yaxis": {
           "automargin": true,
           "gridcolor": "white",
           "linecolor": "white",
           "ticks": "",
           "title": {
            "standoff": 15
           },
           "zerolinecolor": "white",
           "zerolinewidth": 2
          }
         }
        },
        "violinmode": "group",
        "xaxis": {
         "anchor": "y",
         "domain": [
          0,
          1
         ],
         "title": {
          "text": "icd10_pcs"
         }
        },
        "yaxis": {
         "anchor": "x",
         "domain": [
          0,
          1
         ],
         "title": {
          "text": "LOS"
         }
        }
       }
      }
     },
     "metadata": {},
     "output_type": "display_data"
    }
   ],
   "source": [
    "import plotly.express as px\n",
    "\n",
    "\n",
    "fig = px.violin(df_no_outlier, y=\"LOS\", x=\"icd10_pcs\", color=\"sex\", box=True,hover_data=df.columns)\n",
    "fig.show()"
   ]
  },
  {
   "cell_type": "code",
   "execution_count": 23,
   "metadata": {},
   "outputs": [
    {
     "data": {
      "text/html": [
       "<div>\n",
       "<style scoped>\n",
       "    .dataframe tbody tr th:only-of-type {\n",
       "        vertical-align: middle;\n",
       "    }\n",
       "\n",
       "    .dataframe tbody tr th {\n",
       "        vertical-align: top;\n",
       "    }\n",
       "\n",
       "    .dataframe thead th {\n",
       "        text-align: right;\n",
       "    }\n",
       "</style>\n",
       "<table border=\"1\" class=\"dataframe\">\n",
       "  <thead>\n",
       "    <tr style=\"text-align: right;\">\n",
       "      <th></th>\n",
       "      <th>op_id</th>\n",
       "      <th>subject_id</th>\n",
       "      <th>hadm_id</th>\n",
       "      <th>opdate</th>\n",
       "      <th>age</th>\n",
       "      <th>sex</th>\n",
       "      <th>weight</th>\n",
       "      <th>height</th>\n",
       "      <th>race</th>\n",
       "      <th>asa</th>\n",
       "      <th>...</th>\n",
       "      <th>hco3</th>\n",
       "      <th>lymphocyte</th>\n",
       "      <th>platelet</th>\n",
       "      <th>potassium</th>\n",
       "      <th>sodium</th>\n",
       "      <th>total_bilirubin</th>\n",
       "      <th>wbc</th>\n",
       "      <th>LOS</th>\n",
       "      <th>is_outlier</th>\n",
       "      <th>icu_visit</th>\n",
       "    </tr>\n",
       "  </thead>\n",
       "  <tbody>\n",
       "    <tr>\n",
       "      <th>0</th>\n",
       "      <td>446270725</td>\n",
       "      <td>158995752</td>\n",
       "      <td>257857903</td>\n",
       "      <td>0</td>\n",
       "      <td>70</td>\n",
       "      <td>M</td>\n",
       "      <td>43.0</td>\n",
       "      <td>169.0</td>\n",
       "      <td>Asian</td>\n",
       "      <td>NaN</td>\n",
       "      <td>...</td>\n",
       "      <td>18.0</td>\n",
       "      <td>38.1</td>\n",
       "      <td>124.0</td>\n",
       "      <td>4.2</td>\n",
       "      <td>140.0</td>\n",
       "      <td>0.5</td>\n",
       "      <td>NaN</td>\n",
       "      <td>47.920139</td>\n",
       "      <td>1</td>\n",
       "      <td>True</td>\n",
       "    </tr>\n",
       "    <tr>\n",
       "      <th>5</th>\n",
       "      <td>487807079</td>\n",
       "      <td>145247513</td>\n",
       "      <td>259299532</td>\n",
       "      <td>74880</td>\n",
       "      <td>25</td>\n",
       "      <td>M</td>\n",
       "      <td>47.0</td>\n",
       "      <td>172.0</td>\n",
       "      <td>Asian</td>\n",
       "      <td>2.0</td>\n",
       "      <td>...</td>\n",
       "      <td>NaN</td>\n",
       "      <td>NaN</td>\n",
       "      <td>NaN</td>\n",
       "      <td>NaN</td>\n",
       "      <td>NaN</td>\n",
       "      <td>NaN</td>\n",
       "      <td>NaN</td>\n",
       "      <td>23.131944</td>\n",
       "      <td>1</td>\n",
       "      <td>True</td>\n",
       "    </tr>\n",
       "    <tr>\n",
       "      <th>13</th>\n",
       "      <td>480242953</td>\n",
       "      <td>187733661</td>\n",
       "      <td>238035661</td>\n",
       "      <td>10080</td>\n",
       "      <td>55</td>\n",
       "      <td>F</td>\n",
       "      <td>46.0</td>\n",
       "      <td>152.0</td>\n",
       "      <td>Asian</td>\n",
       "      <td>2.0</td>\n",
       "      <td>...</td>\n",
       "      <td>27.9</td>\n",
       "      <td>NaN</td>\n",
       "      <td>NaN</td>\n",
       "      <td>3.3</td>\n",
       "      <td>139.0</td>\n",
       "      <td>NaN</td>\n",
       "      <td>NaN</td>\n",
       "      <td>16.302083</td>\n",
       "      <td>0</td>\n",
       "      <td>True</td>\n",
       "    </tr>\n",
       "    <tr>\n",
       "      <th>17</th>\n",
       "      <td>432945014</td>\n",
       "      <td>126077562</td>\n",
       "      <td>272790506</td>\n",
       "      <td>2880</td>\n",
       "      <td>50</td>\n",
       "      <td>F</td>\n",
       "      <td>61.0</td>\n",
       "      <td>149.0</td>\n",
       "      <td>Asian</td>\n",
       "      <td>2.0</td>\n",
       "      <td>...</td>\n",
       "      <td>NaN</td>\n",
       "      <td>NaN</td>\n",
       "      <td>NaN</td>\n",
       "      <td>NaN</td>\n",
       "      <td>NaN</td>\n",
       "      <td>3.8</td>\n",
       "      <td>NaN</td>\n",
       "      <td>17.305556</td>\n",
       "      <td>0</td>\n",
       "      <td>True</td>\n",
       "    </tr>\n",
       "    <tr>\n",
       "      <th>18</th>\n",
       "      <td>461524976</td>\n",
       "      <td>194549663</td>\n",
       "      <td>293384214</td>\n",
       "      <td>2880</td>\n",
       "      <td>50</td>\n",
       "      <td>M</td>\n",
       "      <td>75.0</td>\n",
       "      <td>171.0</td>\n",
       "      <td>Asian</td>\n",
       "      <td>2.0</td>\n",
       "      <td>...</td>\n",
       "      <td>18.8</td>\n",
       "      <td>NaN</td>\n",
       "      <td>NaN</td>\n",
       "      <td>4.3</td>\n",
       "      <td>132.0</td>\n",
       "      <td>NaN</td>\n",
       "      <td>NaN</td>\n",
       "      <td>11.069444</td>\n",
       "      <td>0</td>\n",
       "      <td>True</td>\n",
       "    </tr>\n",
       "    <tr>\n",
       "      <th>...</th>\n",
       "      <td>...</td>\n",
       "      <td>...</td>\n",
       "      <td>...</td>\n",
       "      <td>...</td>\n",
       "      <td>...</td>\n",
       "      <td>...</td>\n",
       "      <td>...</td>\n",
       "      <td>...</td>\n",
       "      <td>...</td>\n",
       "      <td>...</td>\n",
       "      <td>...</td>\n",
       "      <td>...</td>\n",
       "      <td>...</td>\n",
       "      <td>...</td>\n",
       "      <td>...</td>\n",
       "      <td>...</td>\n",
       "      <td>...</td>\n",
       "      <td>...</td>\n",
       "      <td>...</td>\n",
       "      <td>...</td>\n",
       "      <td>...</td>\n",
       "    </tr>\n",
       "    <tr>\n",
       "      <th>58794</th>\n",
       "      <td>475125418</td>\n",
       "      <td>128375644</td>\n",
       "      <td>289406001</td>\n",
       "      <td>24480</td>\n",
       "      <td>50</td>\n",
       "      <td>F</td>\n",
       "      <td>61.0</td>\n",
       "      <td>155.0</td>\n",
       "      <td>Asian</td>\n",
       "      <td>3.0</td>\n",
       "      <td>...</td>\n",
       "      <td>24.2</td>\n",
       "      <td>NaN</td>\n",
       "      <td>NaN</td>\n",
       "      <td>4.3</td>\n",
       "      <td>135.0</td>\n",
       "      <td>NaN</td>\n",
       "      <td>NaN</td>\n",
       "      <td>18.312500</td>\n",
       "      <td>0</td>\n",
       "      <td>True</td>\n",
       "    </tr>\n",
       "    <tr>\n",
       "      <th>58795</th>\n",
       "      <td>486837329</td>\n",
       "      <td>104340242</td>\n",
       "      <td>298141008</td>\n",
       "      <td>105120</td>\n",
       "      <td>65</td>\n",
       "      <td>M</td>\n",
       "      <td>48.0</td>\n",
       "      <td>161.0</td>\n",
       "      <td>Asian</td>\n",
       "      <td>4.0</td>\n",
       "      <td>...</td>\n",
       "      <td>NaN</td>\n",
       "      <td>NaN</td>\n",
       "      <td>NaN</td>\n",
       "      <td>NaN</td>\n",
       "      <td>NaN</td>\n",
       "      <td>NaN</td>\n",
       "      <td>NaN</td>\n",
       "      <td>106.173611</td>\n",
       "      <td>1</td>\n",
       "      <td>True</td>\n",
       "    </tr>\n",
       "    <tr>\n",
       "      <th>58802</th>\n",
       "      <td>447857589</td>\n",
       "      <td>163754043</td>\n",
       "      <td>274747413</td>\n",
       "      <td>11520</td>\n",
       "      <td>70</td>\n",
       "      <td>M</td>\n",
       "      <td>59.0</td>\n",
       "      <td>168.0</td>\n",
       "      <td>Asian</td>\n",
       "      <td>4.0</td>\n",
       "      <td>...</td>\n",
       "      <td>24.3</td>\n",
       "      <td>NaN</td>\n",
       "      <td>NaN</td>\n",
       "      <td>5.2</td>\n",
       "      <td>135.0</td>\n",
       "      <td>NaN</td>\n",
       "      <td>NaN</td>\n",
       "      <td>15.361111</td>\n",
       "      <td>1</td>\n",
       "      <td>True</td>\n",
       "    </tr>\n",
       "    <tr>\n",
       "      <th>58803</th>\n",
       "      <td>494319208</td>\n",
       "      <td>150497300</td>\n",
       "      <td>289152391</td>\n",
       "      <td>3483360</td>\n",
       "      <td>80</td>\n",
       "      <td>F</td>\n",
       "      <td>52.0</td>\n",
       "      <td>150.0</td>\n",
       "      <td>Asian</td>\n",
       "      <td>4.0</td>\n",
       "      <td>...</td>\n",
       "      <td>NaN</td>\n",
       "      <td>10.6</td>\n",
       "      <td>227.0</td>\n",
       "      <td>3.3</td>\n",
       "      <td>141.0</td>\n",
       "      <td>0.5</td>\n",
       "      <td>15.79</td>\n",
       "      <td>60.829861</td>\n",
       "      <td>1</td>\n",
       "      <td>True</td>\n",
       "    </tr>\n",
       "    <tr>\n",
       "      <th>58813</th>\n",
       "      <td>419787421</td>\n",
       "      <td>195835964</td>\n",
       "      <td>293939099</td>\n",
       "      <td>12960</td>\n",
       "      <td>85</td>\n",
       "      <td>M</td>\n",
       "      <td>74.0</td>\n",
       "      <td>171.0</td>\n",
       "      <td>Asian</td>\n",
       "      <td>4.0</td>\n",
       "      <td>...</td>\n",
       "      <td>22.6</td>\n",
       "      <td>NaN</td>\n",
       "      <td>NaN</td>\n",
       "      <td>3.9</td>\n",
       "      <td>137.0</td>\n",
       "      <td>NaN</td>\n",
       "      <td>NaN</td>\n",
       "      <td>9.309028</td>\n",
       "      <td>1</td>\n",
       "      <td>True</td>\n",
       "    </tr>\n",
       "  </tbody>\n",
       "</table>\n",
       "<p>7250 rows × 61 columns</p>\n",
       "</div>"
      ],
      "text/plain": [
       "           op_id  subject_id    hadm_id   opdate  age sex  weight  height  \\\n",
       "0      446270725   158995752  257857903        0   70   M    43.0   169.0   \n",
       "5      487807079   145247513  259299532    74880   25   M    47.0   172.0   \n",
       "13     480242953   187733661  238035661    10080   55   F    46.0   152.0   \n",
       "17     432945014   126077562  272790506     2880   50   F    61.0   149.0   \n",
       "18     461524976   194549663  293384214     2880   50   M    75.0   171.0   \n",
       "...          ...         ...        ...      ...  ...  ..     ...     ...   \n",
       "58794  475125418   128375644  289406001    24480   50   F    61.0   155.0   \n",
       "58795  486837329   104340242  298141008   105120   65   M    48.0   161.0   \n",
       "58802  447857589   163754043  274747413    11520   70   M    59.0   168.0   \n",
       "58803  494319208   150497300  289152391  3483360   80   F    52.0   150.0   \n",
       "58813  419787421   195835964  293939099    12960   85   M    74.0   171.0   \n",
       "\n",
       "        race  asa  ...  hco3 lymphocyte platelet potassium sodium  \\\n",
       "0      Asian  NaN  ...  18.0       38.1    124.0       4.2  140.0   \n",
       "5      Asian  2.0  ...   NaN        NaN      NaN       NaN    NaN   \n",
       "13     Asian  2.0  ...  27.9        NaN      NaN       3.3  139.0   \n",
       "17     Asian  2.0  ...   NaN        NaN      NaN       NaN    NaN   \n",
       "18     Asian  2.0  ...  18.8        NaN      NaN       4.3  132.0   \n",
       "...      ...  ...  ...   ...        ...      ...       ...    ...   \n",
       "58794  Asian  3.0  ...  24.2        NaN      NaN       4.3  135.0   \n",
       "58795  Asian  4.0  ...   NaN        NaN      NaN       NaN    NaN   \n",
       "58802  Asian  4.0  ...  24.3        NaN      NaN       5.2  135.0   \n",
       "58803  Asian  4.0  ...   NaN       10.6    227.0       3.3  141.0   \n",
       "58813  Asian  4.0  ...  22.6        NaN      NaN       3.9  137.0   \n",
       "\n",
       "      total_bilirubin    wbc         LOS  is_outlier  icu_visit  \n",
       "0                 0.5    NaN   47.920139           1       True  \n",
       "5                 NaN    NaN   23.131944           1       True  \n",
       "13                NaN    NaN   16.302083           0       True  \n",
       "17                3.8    NaN   17.305556           0       True  \n",
       "18                NaN    NaN   11.069444           0       True  \n",
       "...               ...    ...         ...         ...        ...  \n",
       "58794             NaN    NaN   18.312500           0       True  \n",
       "58795             NaN    NaN  106.173611           1       True  \n",
       "58802             NaN    NaN   15.361111           1       True  \n",
       "58803             0.5  15.79   60.829861           1       True  \n",
       "58813             NaN    NaN    9.309028           1       True  \n",
       "\n",
       "[7250 rows x 61 columns]"
      ]
     },
     "execution_count": 23,
     "metadata": {},
     "output_type": "execute_result"
    }
   ],
   "source": [
    "## Create flag if subject went to ICU\n",
    "\n",
    "df['icu_visit'] = df['icuin_time'] > 0\n",
    "df[df['icu_visit']== True]\n",
    "\n",
    "## 7250 subjects went to ICU post op. \n",
    "\n"
   ]
  },
  {
   "cell_type": "code",
   "execution_count": null,
   "metadata": {},
   "outputs": [],
   "source": []
  }
 ],
 "metadata": {
  "kernelspec": {
   "display_name": "Lighthouse_env",
   "language": "python",
   "name": "python3"
  },
  "language_info": {
   "codemirror_mode": {
    "name": "ipython",
    "version": 3
   },
   "file_extension": ".py",
   "mimetype": "text/x-python",
   "name": "python",
   "nbconvert_exporter": "python",
   "pygments_lexer": "ipython3",
   "version": "3.10.13"
  }
 },
 "nbformat": 4,
 "nbformat_minor": 2
}
