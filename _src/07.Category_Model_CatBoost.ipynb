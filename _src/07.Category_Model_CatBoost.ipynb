{
 "cells": [
  {
   "cell_type": "markdown",
   "metadata": {},
   "source": [
    "# Categorization Model Creation\n",
    "In the following notebook, the operations data and corresponding clinical information are used to determine if the patient's Length of Stay is likely to be categorized as 'prolonged'\n",
    "A prolonged legth of stay were determined previoulsy to be an LOS that exceed 1 stadard deviation from the mean for the given surgery type. Refer to Notebook [04.EDA](_src\\04.EDA_4_outliers_impute.ipynb) for additional details or to revise the business rule. \n"
   ]
  },
  {
   "cell_type": "markdown",
   "metadata": {},
   "source": [
    "## Import Libraries"
   ]
  },
  {
   "cell_type": "code",
   "execution_count": 1,
   "metadata": {},
   "outputs": [],
   "source": [
    "import os\n",
    "from operator import itemgetter    \n",
    "import numpy as np\n",
    "import pandas as pd\n",
    "import matplotlib.pyplot as plt\n",
    "import warnings\n",
    "warnings.filterwarnings('ignore')\n"
   ]
  },
  {
   "cell_type": "markdown",
   "metadata": {},
   "source": [
    "### Import Data from Pre-Processing\n",
    "* Missing values HAVE been imputed.\n",
    "* No PCA performed yet, no 1hot encoding. \n"
   ]
  },
  {
   "cell_type": "code",
   "execution_count": 2,
   "metadata": {},
   "outputs": [],
   "source": [
    "######################\n",
    "#\n",
    "# Import Data from PreProcessing\n",
    "#\n",
    "#####################\n",
    "\n",
    "df= pd.read_csv('../_data/operations_imputed_CLEAN_v2.csv', index_col=0)\n",
    "\n",
    "df.drop(['race'], axis=1, inplace=True)"
   ]
  },
  {
   "cell_type": "code",
   "execution_count": 3,
   "metadata": {},
   "outputs": [
    {
     "name": "stdout",
     "output_type": "stream",
     "text": [
      "<class 'pandas.core.frame.DataFrame'>\n",
      "Index: 76742 entries, 8 to 128030\n",
      "Data columns (total 37 columns):\n",
      " #   Column           Non-Null Count  Dtype  \n",
      "---  ------           --------------  -----  \n",
      " 0   op_id            76742 non-null  int64  \n",
      " 1   subject_id       76742 non-null  int64  \n",
      " 2   hadm_id          76742 non-null  int64  \n",
      " 3   opdate           76742 non-null  int64  \n",
      " 4   age              76742 non-null  int64  \n",
      " 5   sex              76742 non-null  object \n",
      " 6   weight           76742 non-null  float64\n",
      " 7   height           76742 non-null  float64\n",
      " 8   asa              76742 non-null  float64\n",
      " 9   department       76742 non-null  object \n",
      " 10  antype           76742 non-null  object \n",
      " 11  icd10_pcs        76742 non-null  object \n",
      " 12  category_desc    76742 non-null  object \n",
      " 13  desc_short       76742 non-null  object \n",
      " 14  category_id      76742 non-null  object \n",
      " 15  hr               76742 non-null  float64\n",
      " 16  pip              76742 non-null  float64\n",
      " 17  pmean            76742 non-null  float64\n",
      " 18  rr               76742 non-null  float64\n",
      " 19  spo2             76742 non-null  float64\n",
      " 20  vt               76742 non-null  float64\n",
      " 21  chloride         76742 non-null  float64\n",
      " 22  creatinine       76742 non-null  float64\n",
      " 23  glucose          76742 non-null  float64\n",
      " 24  hb               76742 non-null  float64\n",
      " 25  hco3             76742 non-null  float64\n",
      " 26  lymphocyte       76742 non-null  float64\n",
      " 27  platelet         76742 non-null  float64\n",
      " 28  potassium        76742 non-null  float64\n",
      " 29  sodium           76742 non-null  float64\n",
      " 30  total_bilirubin  76742 non-null  float64\n",
      " 31  wbc              76742 non-null  float64\n",
      " 32  LOS              76742 non-null  float64\n",
      " 33  prolonged_LOS    76742 non-null  int64  \n",
      " 34  icu_visit        76742 non-null  int64  \n",
      " 35  or_duration      76742 non-null  float64\n",
      " 36  anesth_duration  76742 non-null  float64\n",
      "dtypes: float64(23), int64(7), object(7)\n",
      "memory usage: 22.2+ MB\n"
     ]
    }
   ],
   "source": [
    "df.info()"
   ]
  },
  {
   "cell_type": "markdown",
   "metadata": {},
   "source": [
    "### Create the X and y DataFrames for CATEGORICAL Model\n",
    "\n",
    "  * create y\n",
    "  * create X (complete with all the features)\n",
    "  * drop the features we identified as not meeting impact threshold.\n",
    "  * Target = `prolonged_LOS` (0 or 1) \n",
    "\n"
   ]
  },
  {
   "cell_type": "code",
   "execution_count": 4,
   "metadata": {},
   "outputs": [
    {
     "name": "stdout",
     "output_type": "stream",
     "text": [
      "<class 'pandas.core.frame.DataFrame'>\n",
      "Index: 76742 entries, 8 to 128030\n",
      "Data columns (total 27 columns):\n",
      " #   Column           Non-Null Count  Dtype  \n",
      "---  ------           --------------  -----  \n",
      " 0   category_id      76742 non-null  object \n",
      " 1   age              76742 non-null  int64  \n",
      " 2   sex              76742 non-null  object \n",
      " 3   weight           76742 non-null  float64\n",
      " 4   height           76742 non-null  float64\n",
      " 5   hr               76742 non-null  float64\n",
      " 6   pip              76742 non-null  float64\n",
      " 7   pmean            76742 non-null  float64\n",
      " 8   rr               76742 non-null  float64\n",
      " 9   spo2             76742 non-null  float64\n",
      " 10  vt               76742 non-null  float64\n",
      " 11  chloride         76742 non-null  float64\n",
      " 12  creatinine       76742 non-null  float64\n",
      " 13  glucose          76742 non-null  float64\n",
      " 14  hb               76742 non-null  float64\n",
      " 15  hco3             76742 non-null  float64\n",
      " 16  lymphocyte       76742 non-null  float64\n",
      " 17  platelet         76742 non-null  float64\n",
      " 18  potassium        76742 non-null  float64\n",
      " 19  sodium           76742 non-null  float64\n",
      " 20  total_bilirubin  76742 non-null  float64\n",
      " 21  wbc              76742 non-null  float64\n",
      " 22  icu_visit        76742 non-null  int64  \n",
      " 23  or_duration      76742 non-null  float64\n",
      " 24  anesth_duration  76742 non-null  float64\n",
      " 25  department       76742 non-null  object \n",
      " 26  antype           76742 non-null  object \n",
      "dtypes: float64(21), int64(2), object(4)\n",
      "memory usage: 16.4+ MB\n"
     ]
    }
   ],
   "source": [
    "# When doing a Categorical Model, reinsert 'prolonged_LOS' and instead, drop 'LOS'\n",
    "\n",
    "## Features to retain are those in X that will be used in training. Exludued features are features such as Operation_ID, Subject_ID..\n",
    "features_to_retain = ['category_id','age','sex',\t'weight',\t'height',\t'hr',\t'pip',\t'pmean',\t'rr',\t'spo2',\t'vt',\t'chloride',\t'creatinine',\t'glucose',\t'hb',\t'hco3',\t'lymphocyte',\t'platelet',\t'potassium',\t'sodium',\t'total_bilirubin',\t'wbc',\t'icu_visit',\t'or_duration',\t'anesth_duration',\t'department','antype'] \n",
    "\n",
    "## Create the Y, the Target\n",
    "y = df['prolonged_LOS']\n",
    "\n",
    "## Create X the Features for Train/Test/Validate\n",
    "X = df.drop('prolonged_LOS', axis=1)\n",
    "X= X[features_to_retain]\n",
    "\n",
    "X.info()"
   ]
  },
  {
   "cell_type": "markdown",
   "metadata": {},
   "source": [
    "### Identify Features to be either cast as Str or Scaled"
   ]
  },
  {
   "cell_type": "code",
   "execution_count": 5,
   "metadata": {},
   "outputs": [
    {
     "name": "stdout",
     "output_type": "stream",
     "text": [
      "Category Cols to encode: ['category_id', 'antype', 'sex', 'department']\n",
      "Numerical Cols to scale: Index(['age', 'weight', 'height', 'hr', 'pip', 'pmean', 'rr', 'spo2', 'vt',\n",
      "       'chloride', 'creatinine', 'glucose', 'hb', 'hco3', 'lymphocyte',\n",
      "       'platelet', 'potassium', 'sodium', 'total_bilirubin', 'wbc',\n",
      "       'icu_visit', 'or_duration', 'anesth_duration'],\n",
      "      dtype='object')\n",
      "<class 'pandas.core.frame.DataFrame'>\n",
      "Index: 76742 entries, 8 to 128030\n",
      "Data columns (total 27 columns):\n",
      " #   Column           Non-Null Count  Dtype  \n",
      "---  ------           --------------  -----  \n",
      " 0   category_id      76742 non-null  object \n",
      " 1   age              76742 non-null  int64  \n",
      " 2   sex              76742 non-null  object \n",
      " 3   weight           76742 non-null  float64\n",
      " 4   height           76742 non-null  float64\n",
      " 5   hr               76742 non-null  float64\n",
      " 6   pip              76742 non-null  float64\n",
      " 7   pmean            76742 non-null  float64\n",
      " 8   rr               76742 non-null  float64\n",
      " 9   spo2             76742 non-null  float64\n",
      " 10  vt               76742 non-null  float64\n",
      " 11  chloride         76742 non-null  float64\n",
      " 12  creatinine       76742 non-null  float64\n",
      " 13  glucose          76742 non-null  float64\n",
      " 14  hb               76742 non-null  float64\n",
      " 15  hco3             76742 non-null  float64\n",
      " 16  lymphocyte       76742 non-null  float64\n",
      " 17  platelet         76742 non-null  float64\n",
      " 18  potassium        76742 non-null  float64\n",
      " 19  sodium           76742 non-null  float64\n",
      " 20  total_bilirubin  76742 non-null  float64\n",
      " 21  wbc              76742 non-null  float64\n",
      " 22  icu_visit        76742 non-null  int64  \n",
      " 23  or_duration      76742 non-null  float64\n",
      " 24  anesth_duration  76742 non-null  float64\n",
      " 25  department       76742 non-null  object \n",
      " 26  antype           76742 non-null  object \n",
      "dtypes: float64(21), int64(2), object(4)\n",
      "memory usage: 16.4+ MB\n"
     ]
    }
   ],
   "source": [
    "###########################################################\n",
    "#\n",
    "#  Identify the columns that need to be either cast as Str or Scaled\n",
    "#\n",
    "############################################################\n",
    "\n",
    "#Category Columns that will need encoding. Cast them as String\n",
    "COLS_TO_CAST = ['category_id','antype','sex','department']  #When restoring scope to full category list, add cat_id here.\n",
    "                                                            # Convert the object data type columns to string\n",
    "\n",
    "X[COLS_TO_CAST] = X[COLS_TO_CAST].astype(str)\n",
    "\n",
    "# Numerical Columns for Scaling. Filter columns with dtype 'numeric' for scaling later in the Pipleine\n",
    "COLS_TO_SCALE = X.select_dtypes(include=['int', 'float']).columns\n",
    "\n",
    "\n",
    "print(f'Category Cols to encode: {COLS_TO_CAST}')\n",
    "print(f'Numerical Cols to scale: {COLS_TO_SCALE}')\n",
    "X.info()"
   ]
  },
  {
   "cell_type": "markdown",
   "metadata": {},
   "source": [
    "## Training-Test-Validation Split\n",
    "\n",
    "- Training Set (80% of total): \n",
    "  - Used to train the models.\n",
    "- Validation Set (20% of Traning Set ): \n",
    "  - Used to fine-tune hyperparameters, select models, and monitor training progress.  \n",
    "- Testing Set (20% of total): \n",
    "  - Used to evaluate the final model's performance on unseen data and estimate its generalization performance.\n",
    "- Given this is a CATEGORICAL model, use `stratify` to mitigate any class imbalance in split."
   ]
  },
  {
   "cell_type": "code",
   "execution_count": 6,
   "metadata": {},
   "outputs": [
    {
     "name": "stdout",
     "output_type": "stream",
     "text": [
      "X_train shape: (49114, 27)\n",
      "X_validate shape: (12279, 27)\n",
      "X_test shape: (15349, 27)\n",
      "y_train shape: (49114,)\n",
      "y_validate shape: (12279,)\n",
      "y_test shape: (15349,)\n"
     ]
    }
   ],
   "source": [
    "from sklearn.model_selection import train_test_split\n",
    "\n",
    "TEST_SPLIT = .2\n",
    "TRAINING_SPLIT = 1-TEST_SPLIT\n",
    "VALIDATION_SPLIT = .2\n",
    "\n",
    "# Split data into training and testing sets (80% training, 20% testing)\n",
    "X_train, X_test, y_train, y_test = train_test_split(X, y, test_size=TEST_SPLIT, stratify=y, random_state=85100)\n",
    "\n",
    "# Split the Training AGAIN into train and Validate\n",
    "X_train, X_validate, y_train, y_validate = train_test_split(X_train, y_train, test_size=TEST_SPLIT, random_state=85100)\n",
    "\n",
    "# use X_train and y_train for model training and X_val and y_val for turning.\n",
    "\n",
    "data_subset_dict = {\n",
    "    'X_train': X_train,\n",
    "    'X_validate': X_validate,\n",
    "    'X_test': X_test,\n",
    "    'y_train': y_train,\n",
    "    'y_validate': y_validate,\n",
    "    'y_test': y_test}\n",
    "\n",
    "for key, value in data_subset_dict.items():\n",
    "    shape = value.shape\n",
    "    print(f\"{key} shape: {shape}\")\n"
   ]
  },
  {
   "cell_type": "markdown",
   "metadata": {},
   "source": [
    "## Scale X (Numerical)\n",
    "* We do NOT scale Y, the target\n",
    "* We fit the StandardScaler on X_training and then transform both your training and validation sets"
   ]
  },
  {
   "cell_type": "code",
   "execution_count": 7,
   "metadata": {},
   "outputs": [],
   "source": [
    "##### \n",
    "## SCALE X_train and X_validate\n",
    "#########\n",
    "from sklearn.compose import ColumnTransformer\n",
    "from sklearn.preprocessing import StandardScaler\n",
    "from sklearn.model_selection import train_test_split\n",
    "\n",
    "# Create the preprocessor\n",
    "preprocessor = ColumnTransformer(\n",
    "    transformers=[\n",
    "                ('num', StandardScaler(), COLS_TO_SCALE)\n",
    "                ],\n",
    "    remainder='passthrough')  # Leaves the rest of the columns alone\n",
    "\n",
    "# Fit on the training data\n",
    "preprocessor.fit(X_train)\n",
    "\n",
    "# Transform the training and validation data\n",
    "X_train_scaled = preprocessor.transform(X_train)\n",
    "X_validate_scaled = preprocessor.transform(X_validate)\n",
    "\n",
    "# Now X_train_scaled and X_validate_scaled have the specified columns scaled, and the rest are unchanged"
   ]
  },
  {
   "cell_type": "markdown",
   "metadata": {},
   "source": [
    "## MODEL PIPELINE\n",
    "\n",
    "### Data Frame for the Evaluation measures\n",
    "\n",
    "* We will be creating a number of metrics through the various models. \n",
    "* Create a dataframe (ie table) to maintain all these measures. \n",
    "* Update the table with the measures automatically when evaluation is completed. "
   ]
  },
  {
   "cell_type": "code",
   "execution_count": 32,
   "metadata": {},
   "outputs": [],
   "source": [
    "result_data = pd.DataFrame(columns = [\"Model_Name\",\"Sensitivity\", \"Specificity\", \"Accuracy\"])"
   ]
  },
  {
   "cell_type": "markdown",
   "metadata": {},
   "source": [
    "### Logistic Regression - Baseline"
   ]
  },
  {
   "cell_type": "code",
   "execution_count": 16,
   "metadata": {},
   "outputs": [
    {
     "name": "stdout",
     "output_type": "stream",
     "text": [
      "Accuracy of base model: 0.8232755110351005\n"
     ]
    }
   ],
   "source": [
    "#########################\n",
    "#\n",
    "#  SIMPLE LOGISTIC REGRESSION Pipeline -\n",
    "#  -- No tuning. \n",
    "########################\n",
    "\n",
    "from sklearn.linear_model import LogisticRegression\n",
    "from sklearn.pipeline import Pipeline\n",
    "\n",
    "from sklearn.decomposition import PCA\n",
    "from sklearn.compose import ColumnTransformer\n",
    "from sklearn.preprocessing import OneHotEncoder\n",
    "from sklearn.metrics import accuracy_score\n",
    "\n",
    "categorical_transform = Pipeline([('one-hot-encode', OneHotEncoder(sparse_output=False, handle_unknown='ignore'))])\n",
    "\n",
    "preprocessing_df = ColumnTransformer([('categorical', categorical_transform, COLS_TO_CAST)])\n",
    "\n",
    "category_model_base = Pipeline([('preprocessing', preprocessing_df),\n",
    "                          ('model', LogisticRegression())])\n",
    "category_model_base.fit(X_train, y_train)\n",
    "\n",
    "y_pred = category_model_base.predict(X_validate)\n",
    "\n",
    "##### Evaluate Model\n",
    "\n",
    "accuracy = accuracy_score(y_validate, y_pred)\n",
    "\n",
    "print(f'Accuracy of base model: {accuracy}')\n",
    "# print(f\"RMSE of the base model: {:.3f}\")\n",
    "\n",
    "\n"
   ]
  },
  {
   "cell_type": "markdown",
   "metadata": {},
   "source": [
    "### Define Confusion Matrix Function\n",
    "\n",
    "1. Define the confusion matrix\n",
    "2. append the specificity/sensitivity/accuracy to the \"results_data\" dataframe\n",
    "   "
   ]
  },
  {
   "cell_type": "code",
   "execution_count": null,
   "metadata": {},
   "outputs": [],
   "source": [
    "# Confusion Matrix \n",
    "from sklearn.metrics import confusion_matrix\n",
    "import seaborn as sns\n",
    "import matplotlib.pyplot as plt\n",
    "from sklearn.metrics import classification_report\n",
    "\n",
    "def plot_confusion_matrix(y_true, y_pred,modelname=\"Model\"):\n",
    "    \n",
    "    accuracy = round(accuracy_score(y_true, y_pred), 2)\n",
    "    cm = confusion_matrix(y_pred=y_pred, y_true=y_true)\n",
    "    \n",
    "    \n",
    "    sns.heatmap(cm, annot=True, fmt=\".0f\", xticklabels=[\"Positive\", \"Negative\"], yticklabels=[\"Positive\", \"Negative\"])\n",
    "    plt.xlabel(\"Prediction\")\n",
    "    plt.ylabel(\"Actual\")\n",
    "    plt.title(\"Accuracy Score: {0}\".format(accuracy), size=10)\n",
    "    plt.show()\n",
    "\n",
    "    # Extract values from the confusion matrix\n",
    "    TN, FP, FN, TP = cm.ravel()\n",
    "\n",
    "    # Calculate Sensitivity (True Positive Rate)\n",
    "    sensitivity = TP / (TP + FN)\n",
    "\n",
    "    # Calculate Specificity (True Negative Rate)\n",
    "    specificity = TN / (TN + FP)\n",
    "    \n",
    "    # Append the values to the Results DataFrame\n",
    "    result_data.loc[len(result_data)] = [modelname,sensitivity, specificity,accuracy]\n",
    "    \n",
    "    print(classification_report(y_validate, y_pred))\n",
    "    print(f\"Sensitivity: {sensitivity_log}\")\n",
    "    print(f\"Specificity: {specificity_log}\")\n",
    "         \n",
    "    return sensitivity, specificity, accuracy\n",
    "\n"
   ]
  },
  {
   "cell_type": "markdown",
   "metadata": {},
   "source": [
    "### Implement Confusion Matrix for Logistic Regression"
   ]
  },
  {
   "cell_type": "code",
   "execution_count": 39,
   "metadata": {},
   "outputs": [
    {
     "data": {
      "image/png": "[encoded data removed]",
      "text/plain": [
       "<Figure size 640x480 with 2 Axes>"
      ]
     },
     "metadata": {},
     "output_type": "display_data"
    },
    {
     "name": "stdout",
     "output_type": "stream",
     "text": [
      "              precision    recall  f1-score   support\n",
      "\n",
      "           0       0.82      0.94      0.87      7708\n",
      "           1       0.86      0.66      0.74      4571\n",
      "\n",
      "    accuracy                           0.83     12279\n",
      "   macro avg       0.84      0.80      0.81     12279\n",
      "weighted avg       0.83      0.83      0.83     12279\n",
      "\n",
      "Sensitivity: 0.6567490702253336\n",
      "Specificity: 0.935391800726518\n"
     ]
    },
    {
     "data": {
      "text/html": [
       "<div>\n",
       "<style scoped>\n",
       "    .dataframe tbody tr th:only-of-type {\n",
       "        vertical-align: middle;\n",
       "    }\n",
       "\n",
       "    .dataframe tbody tr th {\n",
       "        vertical-align: top;\n",
       "    }\n",
       "\n",
       "    .dataframe thead th {\n",
       "        text-align: right;\n",
       "    }\n",
       "</style>\n",
       "<table border=\"1\" class=\"dataframe\">\n",
       "  <thead>\n",
       "    <tr style=\"text-align: right;\">\n",
       "      <th></th>\n",
       "      <th>Model_Name</th>\n",
       "      <th>Sensitivity</th>\n",
       "      <th>Specificity</th>\n",
       "      <th>Accuracy</th>\n",
       "    </tr>\n",
       "  </thead>\n",
       "  <tbody>\n",
       "    <tr>\n",
       "      <th>0</th>\n",
       "      <td>Logistic Regression</td>\n",
       "      <td>0.656749</td>\n",
       "      <td>0.935392</td>\n",
       "      <td>0.83</td>\n",
       "    </tr>\n",
       "  </tbody>\n",
       "</table>\n",
       "</div>"
      ],
      "text/plain": [
       "            Model_Name  Sensitivity  Specificity  Accuracy\n",
       "0  Logistic Regression     0.656749     0.935392      0.83"
      ]
     },
     "execution_count": 39,
     "metadata": {},
     "output_type": "execute_result"
    }
   ],
   "source": [
    "sensitivity_log, specificity_log, accuracy_log = plot_confusion_matrix(y_validate, y_pred, \"Logistic Regression\")  # Capture the returned values\n",
    "\n",
    "result_data"
   ]
  },
  {
   "cell_type": "code",
   "execution_count": 38,
   "metadata": {},
   "outputs": [],
   "source": [
    "#### Reset the Results_data df while debugging.\n",
    "result_data=result_data[0:0]"
   ]
  },
  {
   "cell_type": "markdown",
   "metadata": {},
   "source": [
    "### Evaluation with ROC and AUC\n",
    "\n",
    "The target feature in our scenario is binary (yes or no). The prediction output needs to reflect the probability of 1 instead of the values ( 0 or 1). This is acheived by using the `predict_prob` method (as opposed to the .predict)\n"
   ]
  },
  {
   "cell_type": "code",
   "execution_count": 19,
   "metadata": {},
   "outputs": [
    {
     "data": {
      "image/png": "[encoded data removed]",
      "text/plain": [
       "<Figure size 800x600 with 1 Axes>"
      ]
     },
     "metadata": {},
     "output_type": "display_data"
    }
   ],
   "source": [
    "from sklearn.metrics import roc_curve, roc_auc_score\n",
    "\n",
    "\n",
    "## ROC Visualization \n",
    "Modelname = \"Logistic Regression\"\n",
    "y_pred_prob_val = category_model_base.predict_proba(X_validate)[:, 1]\n",
    "\n",
    "# Generate the ROC \n",
    "fpr, tpr, thresholds = roc_curve(y_validate, y_pred_prob_val)\n",
    "\n",
    "# Calculate the Area Under Curve\n",
    "roc_auc = roc_auc_score(y_validate, y_pred_prob_val)\n",
    "\n",
    "# Graph it all together.\n",
    "plt.figure(figsize=(8, 6))\n",
    "plt.plot(fpr, tpr, color='blue', lw=2, label=f'ROC curve (area = {roc_auc:.2f})')\n",
    "plt.plot([0, 1], [0, 1], color='gray', linestyle='--')\n",
    "plt.xlim([0.0, 1.0])\n",
    "plt.ylim([0.0, 1.05])\n",
    "plt.xlabel('False Positive Rate')\n",
    "plt.ylabel('True Positive Rate')\n",
    "plt.title(f'{Modelname}: Receiver Operating Characteristic (ROC)')\n",
    "plt.legend(loc='lower right')\n",
    "plt.show()"
   ]
  },
  {
   "cell_type": "code",
   "execution_count": null,
   "metadata": {},
   "outputs": [],
   "source": [
    "from sklearn import set_config\n",
    "set_config(display='diagram')\n",
    "category_model_base"
   ]
  },
  {
   "cell_type": "markdown",
   "metadata": {},
   "source": [
    "## Ensemble Models - Baselines  \n",
    "\n",
    "Models employed:\n",
    "* ExtraTreesClassifier\n",
    "* Random Forest\n",
    "* XGBRegressor\n",
    "* CatBoost"
   ]
  },
  {
   "cell_type": "code",
   "execution_count": 21,
   "metadata": {},
   "outputs": [
    {
     "name": "stdout",
     "output_type": "stream",
     "text": [
      "LogisticRegression(): Accuracy: 0.82\n",
      "ExtraTreesClassifier(n_jobs=-1): Accuracy: 0.83\n",
      "RandomForestClassifier(n_jobs=-1): Accuracy: 0.83\n",
      "XGBClassifier(base_score=None, booster=None, callbacks=None,\n",
      "              colsample_bylevel=None, colsample_bynode=None,\n",
      "              colsample_bytree=None, early_stopping_rounds=None,\n",
      "              enable_categorical=False, eval_metric=None, feature_types=None,\n",
      "              gamma=None, gpu_id=None, grow_policy=None, importance_type=None,\n",
      "              interaction_constraints=None, learning_rate=None, max_bin=None,\n",
      "              max_cat_threshold=None, max_cat_to_onehot=None,\n",
      "              max_delta_step=None, max_depth=None, max_leaves=None,\n",
      "              min_child_weight=None, missing=nan, monotone_constraints=None,\n",
      "              n_estimators=100, n_jobs=-1, num_parallel_tree=None,\n",
      "              predictor=None, random_state=None, ...): Accuracy: 0.83\n",
      "____________________________________________________________________________________________________\n",
      "LogisticRegression: Accuracy: 0.823\n",
      "RandomForestClassifier: Accuracy: 0.830\n",
      "ExtraTreesClassifier: Accuracy: 0.830\n",
      "XGBClassifier: Accuracy: 0.832\n"
     ]
    },
    {
     "data": {
      "text/plain": [
       "'Random Forest: RMSE: 3.995\\nXGBRegressor: RMSE: 4.004\\nExtraTreesRegressor: RMSE: 4.032\\nLinear Regression: RMSE: 9515250466.184'"
      ]
     },
     "execution_count": 21,
     "metadata": {},
     "output_type": "execute_result"
    }
   ],
   "source": [
    "#########################\n",
    "#\n",
    "#  Ensemble Pipeline -\n",
    "#  -- No tuning. \n",
    "########################\n",
    "\n",
    "from sklearn.linear_model import LogisticRegression\n",
    "from sklearn.pipeline import Pipeline\n",
    "\n",
    "from sklearn.ensemble import RandomForestClassifier,  ExtraTreesClassifier, BaggingRegressor\n",
    "from sklearn.preprocessing import StandardScaler\n",
    "from sklearn.decomposition import PCA\n",
    "from sklearn.compose import ColumnTransformer\n",
    "from sklearn.preprocessing import OneHotEncoder\n",
    "from sklearn.impute import SimpleImputer\n",
    "\n",
    "from xgboost import XGBClassifier\n",
    "from sklearn.metrics import accuracy_score\n",
    "\n",
    "model_list= [LogisticRegression(),ExtraTreesClassifier(n_jobs=-1),RandomForestClassifier(n_jobs=-1),XGBClassifier(n_jobs=-1)]\n",
    "model_names = [\"LogisticRegression\",\"ExtraTreesClassifier\", \"RandomForestClassifier\",\"XGBClassifier\"]\n",
    "\n",
    "\n",
    "ModScores = {}\n",
    "\n",
    "categorical_transform = Pipeline([('one-hot-encode', OneHotEncoder(sparse_output=False, handle_unknown='ignore'))])\n",
    "\n",
    "preprocessing_df = ColumnTransformer([('categorical', categorical_transform, COLS_TO_CAST)])\n",
    "\n",
    "for model_names, model in zip(model_names, model_list):\n",
    "    pipeline_base = Pipeline([('preprocessing', preprocessing_df),\n",
    "                          ('model', model)])\n",
    "    pipeline_base.fit(X_train, y_train)\n",
    "\n",
    "    y_pred = pipeline_base.predict(X_validate)\n",
    "    \n",
    "    # Calculate the Accuracy value\n",
    "    accuracy = accuracy_score(y_validate, y_pred)    \n",
    "    \n",
    "    ModScores[model_names] = accuracy\n",
    "    \n",
    "    print(f\"{model}: Accuracy: {accuracy:.2f}\")\n",
    "          ## add this back when have the Spec and sens >> , RMSE: {rmse:.2f}\")\n",
    "\n",
    "print(\"_\"*100)\n",
    "for key, value in sorted(ModScores.items(), key=itemgetter(1), reverse=False):\n",
    "    print(f\"{key}: Accuracy: {value:.3f}\")\n",
    "\n",
    "########################\n",
    "## Output:\n",
    "########################\n",
    "'''LogisticRegression: Accuracy: 0.823\n",
    "RandomForestClassifier: Accuracy: 0.830\n",
    "ExtraTreesClassifier: Accuracy: 0.830\n",
    "XGBClassifier: Accuracy: 0.832'''"
   ]
  },
  {
   "cell_type": "code",
   "execution_count": 24,
   "metadata": {},
   "outputs": [
    {
     "data": {
      "application/vnd.jupyter.widget-view+json": {
       "model_id": "0a4e3c19f0af40a3813d8885dcd2d399",
       "version_major": 2,
       "version_minor": 0
      },
      "text/plain": [
       "MetricVisualizer(layout=Layout(align_self='stretch', height='500px'))"
      ]
     },
     "metadata": {},
     "output_type": "display_data"
    },
    {
     "name": "stdout",
     "output_type": "stream",
     "text": [
      "Learning rate set to 0.082916\n",
      "0:\tlearn: 0.6346919\ttest: 0.6342878\tbest: 0.6342878 (0)\ttotal: 67.5ms\tremaining: 1m 7s\n",
      "10:\tlearn: 0.4202010\ttest: 0.4189325\tbest: 0.4189325 (10)\ttotal: 736ms\tremaining: 1m 6s\n",
      "20:\tlearn: 0.3798588\ttest: 0.3793999\tbest: 0.3793999 (20)\ttotal: 1.44s\tremaining: 1m 6s\n",
      "30:\tlearn: 0.3635168\ttest: 0.3625216\tbest: 0.3625216 (30)\ttotal: 2.12s\tremaining: 1m 6s\n",
      "40:\tlearn: 0.3542800\ttest: 0.3540148\tbest: 0.3540148 (40)\ttotal: 2.87s\tremaining: 1m 7s\n",
      "50:\tlearn: 0.3492706\ttest: 0.3499723\tbest: 0.3499723 (50)\ttotal: 3.58s\tremaining: 1m 6s\n",
      "60:\tlearn: 0.3461019\ttest: 0.3477757\tbest: 0.3477757 (60)\ttotal: 4.26s\tremaining: 1m 5s\n",
      "70:\tlearn: 0.3433465\ttest: 0.3456685\tbest: 0.3456685 (70)\ttotal: 4.96s\tremaining: 1m 4s\n",
      "80:\tlearn: 0.3406933\ttest: 0.3439742\tbest: 0.3439742 (80)\ttotal: 5.7s\tremaining: 1m 4s\n",
      "90:\tlearn: 0.3385998\ttest: 0.3425508\tbest: 0.3425508 (90)\ttotal: 6.41s\tremaining: 1m 4s\n",
      "100:\tlearn: 0.3367240\ttest: 0.3414173\tbest: 0.3414173 (100)\ttotal: 7.25s\tremaining: 1m 4s\n",
      "110:\tlearn: 0.3352152\ttest: 0.3408035\tbest: 0.3408035 (110)\ttotal: 7.97s\tremaining: 1m 3s\n",
      "120:\tlearn: 0.3327879\ttest: 0.3393322\tbest: 0.3393322 (120)\ttotal: 8.73s\tremaining: 1m 3s\n",
      "130:\tlearn: 0.3313329\ttest: 0.3388300\tbest: 0.3388300 (130)\ttotal: 9.78s\tremaining: 1m 4s\n",
      "140:\tlearn: 0.3302023\ttest: 0.3381544\tbest: 0.3381544 (140)\ttotal: 10.5s\tremaining: 1m 3s\n",
      "150:\tlearn: 0.3290782\ttest: 0.3378460\tbest: 0.3378460 (150)\ttotal: 11.1s\tremaining: 1m 2s\n",
      "160:\tlearn: 0.3281395\ttest: 0.3375221\tbest: 0.3375221 (160)\ttotal: 11.8s\tremaining: 1m 1s\n",
      "170:\tlearn: 0.3271507\ttest: 0.3372882\tbest: 0.3372680 (169)\ttotal: 12.5s\tremaining: 1m\n",
      "180:\tlearn: 0.3260060\ttest: 0.3370815\tbest: 0.3370421 (177)\ttotal: 13.1s\tremaining: 59.5s\n",
      "190:\tlearn: 0.3247223\ttest: 0.3368015\tbest: 0.3367605 (186)\ttotal: 13.8s\tremaining: 58.4s\n",
      "200:\tlearn: 0.3235483\ttest: 0.3362064\tbest: 0.3362064 (200)\ttotal: 14.5s\tremaining: 57.4s\n",
      "210:\tlearn: 0.3222492\ttest: 0.3361076\tbest: 0.3360897 (209)\ttotal: 15.1s\tremaining: 56.5s\n",
      "220:\tlearn: 0.3209305\ttest: 0.3357509\tbest: 0.3357509 (220)\ttotal: 15.8s\tremaining: 55.6s\n",
      "230:\tlearn: 0.3194986\ttest: 0.3354240\tbest: 0.3354234 (228)\ttotal: 16.4s\tremaining: 54.7s\n",
      "240:\tlearn: 0.3186619\ttest: 0.3354398\tbest: 0.3354234 (228)\ttotal: 17.1s\tremaining: 53.9s\n",
      "250:\tlearn: 0.3175718\ttest: 0.3352057\tbest: 0.3352057 (250)\ttotal: 17.8s\tremaining: 53s\n",
      "260:\tlearn: 0.3164727\ttest: 0.3350338\tbest: 0.3349760 (257)\ttotal: 18.4s\tremaining: 52.2s\n",
      "270:\tlearn: 0.3152366\ttest: 0.3346118\tbest: 0.3346118 (270)\ttotal: 19.1s\tremaining: 51.4s\n",
      "280:\tlearn: 0.3142877\ttest: 0.3344636\tbest: 0.3344636 (280)\ttotal: 19.8s\tremaining: 50.6s\n",
      "290:\tlearn: 0.3132619\ttest: 0.3343994\tbest: 0.3343976 (288)\ttotal: 20.4s\tremaining: 49.8s\n",
      "300:\tlearn: 0.3121641\ttest: 0.3343229\tbest: 0.3342781 (299)\ttotal: 21.1s\tremaining: 49.1s\n",
      "310:\tlearn: 0.3110176\ttest: 0.3342604\tbest: 0.3342550 (307)\ttotal: 21.8s\tremaining: 48.3s\n",
      "320:\tlearn: 0.3100740\ttest: 0.3343032\tbest: 0.3342003 (317)\ttotal: 22.5s\tremaining: 47.5s\n",
      "330:\tlearn: 0.3089999\ttest: 0.3342810\tbest: 0.3342003 (317)\ttotal: 23.1s\tremaining: 46.8s\n",
      "340:\tlearn: 0.3080984\ttest: 0.3342428\tbest: 0.3341815 (336)\ttotal: 23.8s\tremaining: 46s\n",
      "350:\tlearn: 0.3073112\ttest: 0.3343658\tbest: 0.3341815 (336)\ttotal: 24.5s\tremaining: 45.3s\n",
      "360:\tlearn: 0.3060071\ttest: 0.3340644\tbest: 0.3340644 (360)\ttotal: 25.2s\tremaining: 44.5s\n",
      "370:\tlearn: 0.3048230\ttest: 0.3341230\tbest: 0.3340644 (360)\ttotal: 25.8s\tremaining: 43.8s\n",
      "380:\tlearn: 0.3037623\ttest: 0.3339271\tbest: 0.3338827 (379)\ttotal: 26.5s\tremaining: 43s\n",
      "390:\tlearn: 0.3028522\ttest: 0.3337244\tbest: 0.3337244 (390)\ttotal: 27.1s\tremaining: 42.3s\n",
      "400:\tlearn: 0.3019235\ttest: 0.3336706\tbest: 0.3336706 (400)\ttotal: 27.8s\tremaining: 41.6s\n",
      "410:\tlearn: 0.3009488\ttest: 0.3337534\tbest: 0.3336262 (405)\ttotal: 28.5s\tremaining: 40.8s\n",
      "420:\tlearn: 0.2999965\ttest: 0.3338790\tbest: 0.3336262 (405)\ttotal: 29.1s\tremaining: 40.1s\n",
      "430:\tlearn: 0.2990661\ttest: 0.3337356\tbest: 0.3336262 (405)\ttotal: 29.8s\tremaining: 39.4s\n",
      "440:\tlearn: 0.2981533\ttest: 0.3337316\tbest: 0.3336262 (405)\ttotal: 30.5s\tremaining: 38.6s\n",
      "450:\tlearn: 0.2970258\ttest: 0.3337025\tbest: 0.3336262 (405)\ttotal: 31.1s\tremaining: 37.9s\n",
      "460:\tlearn: 0.2963149\ttest: 0.3336694\tbest: 0.3336154 (454)\ttotal: 31.8s\tremaining: 37.2s\n",
      "470:\tlearn: 0.2955928\ttest: 0.3334536\tbest: 0.3334536 (470)\ttotal: 32.5s\tremaining: 36.5s\n",
      "480:\tlearn: 0.2946840\ttest: 0.3334329\tbest: 0.3333501 (476)\ttotal: 33.2s\tremaining: 35.8s\n",
      "490:\tlearn: 0.2937772\ttest: 0.3336002\tbest: 0.3333501 (476)\ttotal: 33.9s\tremaining: 35.1s\n",
      "500:\tlearn: 0.2927657\ttest: 0.3335354\tbest: 0.3333501 (476)\ttotal: 34.5s\tremaining: 34.4s\n",
      "510:\tlearn: 0.2919321\ttest: 0.3336086\tbest: 0.3333501 (476)\ttotal: 35.2s\tremaining: 33.7s\n",
      "520:\tlearn: 0.2910142\ttest: 0.3336320\tbest: 0.3333501 (476)\ttotal: 35.9s\tremaining: 33s\n",
      "530:\tlearn: 0.2902581\ttest: 0.3336337\tbest: 0.3333501 (476)\ttotal: 36.5s\tremaining: 32.3s\n",
      "540:\tlearn: 0.2894287\ttest: 0.3335365\tbest: 0.3333501 (476)\ttotal: 37.2s\tremaining: 31.5s\n",
      "550:\tlearn: 0.2884523\ttest: 0.3335161\tbest: 0.3333501 (476)\ttotal: 37.9s\tremaining: 30.9s\n",
      "560:\tlearn: 0.2873642\ttest: 0.3333837\tbest: 0.3333152 (557)\ttotal: 38.5s\tremaining: 30.1s\n",
      "570:\tlearn: 0.2863296\ttest: 0.3332730\tbest: 0.3332730 (570)\ttotal: 39.2s\tremaining: 29.5s\n",
      "580:\tlearn: 0.2854829\ttest: 0.3329771\tbest: 0.3329771 (580)\ttotal: 39.9s\tremaining: 28.8s\n",
      "590:\tlearn: 0.2846726\ttest: 0.3329374\tbest: 0.3328978 (585)\ttotal: 40.6s\tremaining: 28.1s\n",
      "600:\tlearn: 0.2838822\ttest: 0.3329925\tbest: 0.3328978 (585)\ttotal: 41.2s\tremaining: 27.4s\n",
      "610:\tlearn: 0.2832308\ttest: 0.3330509\tbest: 0.3328978 (585)\ttotal: 41.9s\tremaining: 26.7s\n",
      "620:\tlearn: 0.2823420\ttest: 0.3331476\tbest: 0.3328978 (585)\ttotal: 42.5s\tremaining: 26s\n",
      "630:\tlearn: 0.2816168\ttest: 0.3331691\tbest: 0.3328978 (585)\ttotal: 43.2s\tremaining: 25.3s\n",
      "640:\tlearn: 0.2808485\ttest: 0.3331834\tbest: 0.3328978 (585)\ttotal: 43.9s\tremaining: 24.6s\n",
      "650:\tlearn: 0.2799866\ttest: 0.3330940\tbest: 0.3328978 (585)\ttotal: 44.5s\tremaining: 23.9s\n",
      "660:\tlearn: 0.2791573\ttest: 0.3331377\tbest: 0.3328978 (585)\ttotal: 45.2s\tremaining: 23.2s\n",
      "670:\tlearn: 0.2783750\ttest: 0.3330958\tbest: 0.3328978 (585)\ttotal: 45.9s\tremaining: 22.5s\n",
      "680:\tlearn: 0.2774907\ttest: 0.3330669\tbest: 0.3328978 (585)\ttotal: 46.5s\tremaining: 21.8s\n",
      "690:\tlearn: 0.2767049\ttest: 0.3330822\tbest: 0.3328978 (585)\ttotal: 47.2s\tremaining: 21.1s\n",
      "700:\tlearn: 0.2760114\ttest: 0.3330946\tbest: 0.3328978 (585)\ttotal: 47.9s\tremaining: 20.4s\n",
      "710:\tlearn: 0.2752885\ttest: 0.3332414\tbest: 0.3328978 (585)\ttotal: 48.6s\tremaining: 19.7s\n",
      "720:\tlearn: 0.2743981\ttest: 0.3331507\tbest: 0.3328978 (585)\ttotal: 49.2s\tremaining: 19.1s\n",
      "730:\tlearn: 0.2735503\ttest: 0.3331209\tbest: 0.3328978 (585)\ttotal: 49.9s\tremaining: 18.4s\n",
      "740:\tlearn: 0.2727431\ttest: 0.3330835\tbest: 0.3328978 (585)\ttotal: 50.6s\tremaining: 17.7s\n",
      "750:\tlearn: 0.2721567\ttest: 0.3330344\tbest: 0.3328978 (585)\ttotal: 51.3s\tremaining: 17s\n",
      "760:\tlearn: 0.2714332\ttest: 0.3330264\tbest: 0.3328978 (585)\ttotal: 52s\tremaining: 16.3s\n",
      "770:\tlearn: 0.2706705\ttest: 0.3330625\tbest: 0.3328978 (585)\ttotal: 52.6s\tremaining: 15.6s\n",
      "780:\tlearn: 0.2700320\ttest: 0.3331150\tbest: 0.3328978 (585)\ttotal: 53.4s\tremaining: 15s\n",
      "790:\tlearn: 0.2692347\ttest: 0.3333151\tbest: 0.3328978 (585)\ttotal: 54s\tremaining: 14.3s\n",
      "800:\tlearn: 0.2685278\ttest: 0.3332514\tbest: 0.3328978 (585)\ttotal: 54.7s\tremaining: 13.6s\n",
      "810:\tlearn: 0.2678144\ttest: 0.3332732\tbest: 0.3328978 (585)\ttotal: 55.3s\tremaining: 12.9s\n",
      "820:\tlearn: 0.2673931\ttest: 0.3333037\tbest: 0.3328978 (585)\ttotal: 56s\tremaining: 12.2s\n",
      "830:\tlearn: 0.2667531\ttest: 0.3333224\tbest: 0.3328978 (585)\ttotal: 56.7s\tremaining: 11.5s\n",
      "840:\tlearn: 0.2661517\ttest: 0.3334360\tbest: 0.3328978 (585)\ttotal: 57.4s\tremaining: 10.8s\n",
      "850:\tlearn: 0.2654704\ttest: 0.3334288\tbest: 0.3328978 (585)\ttotal: 58s\tremaining: 10.2s\n",
      "860:\tlearn: 0.2647462\ttest: 0.3334480\tbest: 0.3328978 (585)\ttotal: 58.7s\tremaining: 9.47s\n",
      "870:\tlearn: 0.2640593\ttest: 0.3335599\tbest: 0.3328978 (585)\ttotal: 59.4s\tremaining: 8.79s\n",
      "880:\tlearn: 0.2634662\ttest: 0.3335540\tbest: 0.3328978 (585)\ttotal: 1m\tremaining: 8.11s\n",
      "890:\tlearn: 0.2628797\ttest: 0.3334658\tbest: 0.3328978 (585)\ttotal: 1m\tremaining: 7.42s\n",
      "900:\tlearn: 0.2621699\ttest: 0.3335049\tbest: 0.3328978 (585)\ttotal: 1m 1s\tremaining: 6.74s\n",
      "910:\tlearn: 0.2616151\ttest: 0.3335276\tbest: 0.3328978 (585)\ttotal: 1m 1s\tremaining: 6.06s\n",
      "920:\tlearn: 0.2609210\ttest: 0.3334327\tbest: 0.3328978 (585)\ttotal: 1m 2s\tremaining: 5.38s\n",
      "930:\tlearn: 0.2601966\ttest: 0.3334696\tbest: 0.3328978 (585)\ttotal: 1m 3s\tremaining: 4.69s\n",
      "940:\tlearn: 0.2594324\ttest: 0.3335292\tbest: 0.3328978 (585)\ttotal: 1m 4s\tremaining: 4.01s\n",
      "950:\tlearn: 0.2588599\ttest: 0.3335913\tbest: 0.3328978 (585)\ttotal: 1m 4s\tremaining: 3.33s\n",
      "960:\tlearn: 0.2581315\ttest: 0.3336016\tbest: 0.3328978 (585)\ttotal: 1m 5s\tremaining: 2.65s\n",
      "970:\tlearn: 0.2576522\ttest: 0.3336267\tbest: 0.3328978 (585)\ttotal: 1m 6s\tremaining: 1.97s\n",
      "980:\tlearn: 0.2570985\ttest: 0.3336608\tbest: 0.3328978 (585)\ttotal: 1m 6s\tremaining: 1.29s\n",
      "990:\tlearn: 0.2563503\ttest: 0.3336366\tbest: 0.3328978 (585)\ttotal: 1m 7s\tremaining: 613ms\n",
      "999:\tlearn: 0.2557645\ttest: 0.3336780\tbest: 0.3328978 (585)\ttotal: 1m 8s\tremaining: 0us\n",
      "\n",
      "bestTest = 0.3328977644\n",
      "bestIteration = 585\n",
      "\n",
      "Shrink model to first 586 iterations.\n",
      "Accuracy base model: 0.8316638162716834\n"
     ]
    },
    {
     "data": {
      "text/plain": [
       "'Shrink model to first 586 iterations.\\nAccuracy base model: 0.8316638162716834'"
      ]
     },
     "execution_count": 24,
     "metadata": {},
     "output_type": "execute_result"
    }
   ],
   "source": [
    "#########################\n",
    "#\n",
    "#  CatBoost - Baseline\n",
    "# \n",
    "########################\n",
    "\n",
    "from catboost import CatBoostClassifier\n",
    "from catboost import Pool\n",
    "\n",
    "from sklearn.preprocessing import StandardScaler\n",
    "\n",
    "from sklearn.compose import ColumnTransformer\n",
    "from sklearn.preprocessing import OneHotEncoder\n",
    "from sklearn.impute import SimpleImputer\n",
    "from sklearn.metrics import accuracy_score\n",
    "from sklearn.metrics import roc_curve, roc_auc_score\n",
    "import matplotlib.pyplot as plt\n",
    "\n",
    "###############\n",
    "# Specify categorical feature indices\n",
    "categorical_features_indices = [0, 2, 25, 26]\n",
    "\n",
    "\n",
    "# Create the Pool for training data\n",
    "train_pool = Pool(data=X_train, label=y_train, cat_features=categorical_features_indices)\n",
    "\n",
    "# If you have a validation dataset\n",
    "validation_pool = Pool(data=X_validate, label=y_validate, cat_features=categorical_features_indices)\n",
    "\n",
    "\n",
    "# Instantiate CatBoostRegressor with the best hyperparameters\n",
    "cat_model = CatBoostClassifier()\n",
    "\n",
    "cat_model.fit(\n",
    "    train_pool,\n",
    "    eval_set=validation_pool,  # Remove this if you don't have a validation set\n",
    "    verbose=10,  # This will print the progress every 10 iterations\n",
    "    plot=True    # This will plot the learning curve (only works in Jupyter notebooks)\n",
    ")\n",
    "\n",
    "# Predict probabilities for the positive class\n",
    "predictions_proba = cat_model.predict_proba(X_validate)[:, 1]  # Index 1 for 'yes' class\n",
    "\n",
    "\n",
    "# Calculate the R-squared value\n",
    "accuracy = accuracy_score(y_validate, y_pred)\n",
    "\n",
    "\n",
    "print(f'Accuracy base model: {accuracy}')\n",
    "\n",
    "\n",
    "########################\n",
    "## Output:\n",
    "########################\n",
    "'''Shrink model to first 586 iterations.\n",
    "Accuracy base model: 0.8316638162716834'''"
   ]
  },
  {
   "cell_type": "code",
   "execution_count": 25,
   "metadata": {},
   "outputs": [
    {
     "data": {
      "image/png": "[encoded data removed]",
      "text/plain": [
       "<Figure size 640x480 with 2 Axes>"
      ]
     },
     "metadata": {},
     "output_type": "display_data"
    }
   ],
   "source": [
    "sensitivity_log, specificity_log, accuracy_log = plot_confusion_matrix(y_validate, y_pred, \"CatBoostClassifier\")  # Capture the returned values"
   ]
  },
  {
   "cell_type": "markdown",
   "metadata": {},
   "source": [
    "## Tuning -  Optimize Model with Hyperparameter Tuning via Grid Search\n",
    "\n",
    "## CatBoost\n"
   ]
  },
  {
   "cell_type": "code",
   "execution_count": null,
   "metadata": {},
   "outputs": [],
   "source": [
    "#########################\n",
    "#\n",
    "#  STANDALONE TUNING  - CatBoost\n",
    "# \n",
    "########################\n",
    "from sklearn.ensemble import RandomForestRegressor, GradientBoostingRegressor, ExtraTreesRegressor, BaggingRegressor\n",
    "from sklearn.pipeline import Pipeline\n",
    "from sklearn.feature_selection import SelectKBest\n",
    "from tqdm import tqdm  # Import tqdm\n",
    "from xgboost import XGBRegressor\n",
    "from sklearn.model_selection import cross_val_score, GridSearchCV\n",
    "from catboost import Pool, CatBoostRegressor"
   ]
  },
  {
   "cell_type": "markdown",
   "metadata": {},
   "source": [
    "### Define a Scorer for Grid Search"
   ]
  },
  {
   "cell_type": "code",
   "execution_count": null,
   "metadata": {},
   "outputs": [],
   "source": [
    "#########################\n",
    "#\n",
    "#  RMSE Scorer for GridSearch\n",
    "# \n",
    "########################\n",
    "\n",
    "def rmse_scorer(estimator, X, y):\n",
    "    \"\"\"\n",
    "    Custom scoring function to calculate the negative RMSE (Root Mean Squared Error).\n",
    "\n",
    "    Parameters:\n",
    "        estimator: Scikit-learn estimator object\n",
    "            The model to be evaluated.\n",
    "        X: array-like or pd.DataFrame\n",
    "            Features for prediction.\n",
    "        y: array-like or pd.Series\n",
    "            True target values.\n",
    "\n",
    "    Returns:\n",
    "        float\n",
    "            Negative RMSE value.\n",
    "    \"\"\"\n",
    "    y_pred = estimator.predict(X)\n",
    "    mse = mean_squared_error(y, y_pred)\n",
    "    rmse = sqrt(mse)\n",
    "    \n",
    "    # Return negative RMSE for grid search to minimize\n",
    "    return -rmse"
   ]
  },
  {
   "cell_type": "markdown",
   "metadata": {},
   "source": [
    "### CatBoost -  Perform GridSearch"
   ]
  },
  {
   "cell_type": "code",
   "execution_count": null,
   "metadata": {},
   "outputs": [],
   "source": [
    "from catboost import CatBoostRegressor\n",
    "from sklearn.model_selection import GridSearchCV, train_test_split\n",
    "\n",
    "\n",
    "categorical_features_indices =[0, 2, 25, 26]\n",
    "\n",
    "\n",
    "# Define the parameter grid to search\n",
    "param_grid = {\n",
    "    'iterations': [100, 200, 300],      # Number of boosting iterations\n",
    "    'depth': [6, 8, 10],                # Depth of trees\n",
    "    'learning_rate': [0.01, 0.1, 0.2],  # Learning rate  \n",
    "    }\n",
    "\n",
    "# Create a CatBoostRegressor model\n",
    "catboost_model = CatBoostRegressor()\n",
    "\n",
    "# Initialize the GridSearchCV object\n",
    "grid_search = GridSearchCV(estimator=catboost_model, param_grid=param_grid, cv=5, scoring=rmse_scorer, n_jobs=-1, error_score='raise')\n",
    "\n",
    "# Perform the grid search\n",
    "grid_search.fit(X_train, y_train, cat_features=categorical_features_indices)\n",
    "\n",
    "# Print the best hyperparameters and corresponding MSE score\n",
    "print(\"Best hyperparameters found:\")\n",
    "print(grid_search.best_params_)\n",
    "print(\"Best RMSE score:\", -grid_search.best_score_)\n",
    "\n",
    "# Get the best trained model\n",
    "best_catboost_model = grid_search.best_estimator_\n",
    "\n",
    "# Evaluate the best model on the validation set\n",
    "validation_predictions = best_catboost_model.predict(X_validate)\n",
    "\n",
    "########################\n",
    "## Output:\n",
    "########################\n",
    "'''Best hyperparameters found:\n",
    "{'depth': 10, 'iterations': 300, 'learning_rate': 0.1}\n",
    "Best RMSE score: 3.834154628241867'''"
   ]
  },
  {
   "cell_type": "markdown",
   "metadata": {},
   "source": [
    "### CatBoost - Train Model on Optimized Hyperparameters"
   ]
  },
  {
   "cell_type": "code",
   "execution_count": null,
   "metadata": {},
   "outputs": [],
   "source": [
    "#########################\n",
    "#\n",
    "#  OPTIMIZED - CatBoost\n",
    "# \n",
    "########################\n",
    "\n",
    "from catboost import CatBoostRegressor\n",
    "from catboost import Pool\n",
    "from sklearn.pipeline import Pipeline\n",
    "from sklearn.pipeline import Pipeline\n",
    "from sklearn.preprocessing import StandardScaler\n",
    "from sklearn.decomposition import PCA\n",
    "from sklearn.compose import ColumnTransformer\n",
    "from sklearn.preprocessing import OneHotEncoder\n",
    "from sklearn.impute import SimpleImputer\n",
    "from sklearn.metrics import mean_squared_error\n",
    "from sklearn.metrics import r2_score\n",
    "\n",
    "\n",
    "###############\n",
    "# Specify categorical feature indices\n",
    "categorical_features_indices = [0, 2, 25, 26]\n",
    "\n",
    "\n",
    "# Create the Pool for training data\n",
    "train_pool = Pool(data=X_train, label=y_train, cat_features=categorical_features_indices)\n",
    "\n",
    "# If you have a validation dataset\n",
    "validation_pool = Pool(data=X_validate, label=y_validate, cat_features=categorical_features_indices)\n",
    "\n",
    "#########\n",
    "# Best hyperparameters found (after hyperparameter tuning)\n",
    "best_params = {'depth': 8, 'iterations': 200, 'learning_rate': 0.1}\n",
    "\n",
    "# Instantiate CatBoostRegressor with the best hyperparameters\n",
    "cat_model = CatBoostRegressor(**best_params)\n",
    "\n",
    "cat_model.fit(\n",
    "    train_pool,\n",
    "    eval_set=validation_pool,  # Remove this if you don't have a validation set\n",
    "    verbose=10,  # This will print the progress every 10 iterations\n",
    "    plot=True    # This will plot the learning curve (only works in Jupyter notebooks)\n",
    ")\n",
    "\n",
    "\n",
    "predictions = cat_model.predict(X_validate)  # If you used Pool, the data here should not be the Pool object but raw data.\n",
    "\n",
    "\n",
    "# Calculate the R-squared value\n",
    "r2 = r2_score(y_validate, predictions)\n",
    "rmse = mean_squared_error(y_validate, predictions, squared=False)\n",
    "\n",
    "\n",
    "print(f'R-squared of base model: {r2}')\n",
    "print(f\"RMSE of the base model: {rmse:.3f}\")\n",
    "\n",
    "\n",
    "########################\n",
    "## Output:\n",
    "########################\n",
    "'''bestTest = 3.855040513\n",
    "bestIteration = 195\n",
    "\n",
    "Shrink model to first 196 iterations.\n",
    "R-squared of base model: 0.5232318591945018\n",
    "RMSE of the base model: 3.855'''"
   ]
  },
  {
   "cell_type": "markdown",
   "metadata": {},
   "source": [
    "### BONUS - Random Forest - GridSearch"
   ]
  },
  {
   "cell_type": "code",
   "execution_count": null,
   "metadata": {},
   "outputs": [],
   "source": [
    "from sklearn.model_selection import GridSearchCV, train_test_split\n",
    "from sklearn.ensemble import RandomForestRegressor\n",
    "from sklearn.metrics import r2_score, mean_squared_error\n",
    "from sklearn.compose import ColumnTransformer\n",
    "from sklearn.preprocessing import OneHotEncoder\n",
    "from sklearn.pipeline import Pipeline\n",
    "import pandas as pd\n",
    "\n",
    "\n",
    "# Define the parameter grid to search\n",
    "param_grid = {\n",
    "    'n_estimators': [50, 100, 200],\n",
    "    'max_depth': [None, 10, 20, 30],\n",
    "    'min_samples_split': [2, 5, 10],\n",
    "    'min_samples_leaf': [1, 2, 4]    }\n",
    "\n",
    "categorical_transform = Pipeline([('one-hot-encode', OneHotEncoder(sparse_output=False, handle_unknown='ignore'))])\n",
    "preprocessing_df = ColumnTransformer([('categorical', categorical_transform, COLS_TO_CAST)])\n",
    "\n",
    "# X_train, X_validate, y_train, y_validate = train_test_split(X, y, test_size=0.2, random_state=42)\n",
    "\n",
    "rf_model = RandomForestRegressor()\n",
    "grid_search = GridSearchCV(estimator=rf_model, param_grid=param_grid, cv=5, scoring=rmse_scorer, n_jobs=-1, error_score='raise')\n",
    "grid_search.fit(X_train, y_train)\n",
    "print(\"Best hyperparameters found:\")\n",
    "print(grid_search.best_params_)\n",
    "print(\"Best RMSE score:\", -grid_search.best_score_)\n",
    "\n",
    "best_randomforest_model = grid_search.best_estimator_\n",
    "validation_predictions = best_randomforest_model.predict(X_validate)\n",
    "\n",
    "r2 = r2_score(y_validate, validation_predictions)\n",
    "rmse = mean_squared_error(y_validate, validation_predictions, squared=False)\n",
    "\n",
    "print(f'R-squared of the best model: {r2}')\n",
    "print(f\"RMSE of the best model: {rmse:.3f}\")\n"
   ]
  }
 ],
 "metadata": {
  "kernelspec": {
   "display_name": "Lighthouse_env",
   "language": "python",
   "name": "python3"
  },
  "language_info": {
   "codemirror_mode": {
    "name": "ipython",
    "version": 3
   },
   "file_extension": ".py",
   "mimetype": "text/x-python",
   "name": "python",
   "nbconvert_exporter": "python",
   "pygments_lexer": "ipython3",
   "version": "3.10.13"
  }
 },
 "nbformat": 4,
 "nbformat_minor": 2
}
