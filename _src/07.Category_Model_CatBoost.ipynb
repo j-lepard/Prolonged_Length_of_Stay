{
 "cells": [
  {
   "cell_type": "markdown",
   "metadata": {},
   "source": [
    "# Categorization Model Creation\n",
    "In the following notebook, the operations data and corresponding clinical information are used to determine if the patient's Length of Stay is likely to be categorized as 'prolonged'\n",
    "A prolonged legth of stay were determined previoulsy to be an LOS that exceed 1 stadard deviation from the mean for the given surgery type. Refer to Notebook [04.EDA](_src\\04.EDA_4_outliers_impute.ipynb) for additional details or to revise the business rule. \n"
   ]
  },
  {
   "cell_type": "markdown",
   "metadata": {},
   "source": [
    "## Import Libraries"
   ]
  },
  {
   "cell_type": "code",
   "execution_count": 1,
   "metadata": {},
   "outputs": [],
   "source": [
    "import os\n",
    "from operator import itemgetter    \n",
    "import numpy as np\n",
    "import pandas as pd\n",
    "import matplotlib.pyplot as plt\n",
    "import warnings\n",
    "warnings.filterwarnings('ignore')\n"
   ]
  },
  {
   "cell_type": "markdown",
   "metadata": {},
   "source": [
    "### Import Data from Pre-Processing\n",
    "* Missing values HAVE been imputed.\n",
    "* No PCA performed yet, no 1hot encoding. \n"
   ]
  },
  {
   "cell_type": "code",
   "execution_count": 2,
   "metadata": {},
   "outputs": [],
   "source": [
    "######################\n",
    "#\n",
    "# Import Data from PreProcessing\n",
    "#\n",
    "#####################\n",
    "\n",
    "df= pd.read_csv('../_data/operations_imputed_CLEAN_v2.csv', index_col=0)\n",
    "\n",
    "df.drop(['race'], axis=1, inplace=True)"
   ]
  },
  {
   "cell_type": "code",
   "execution_count": 3,
   "metadata": {},
   "outputs": [
    {
     "name": "stdout",
     "output_type": "stream",
     "text": [
      "<class 'pandas.core.frame.DataFrame'>\n",
      "Index: 76742 entries, 8 to 128030\n",
      "Data columns (total 37 columns):\n",
      " #   Column           Non-Null Count  Dtype  \n",
      "---  ------           --------------  -----  \n",
      " 0   op_id            76742 non-null  int64  \n",
      " 1   subject_id       76742 non-null  int64  \n",
      " 2   hadm_id          76742 non-null  int64  \n",
      " 3   opdate           76742 non-null  int64  \n",
      " 4   age              76742 non-null  int64  \n",
      " 5   sex              76742 non-null  object \n",
      " 6   weight           76742 non-null  float64\n",
      " 7   height           76742 non-null  float64\n",
      " 8   asa              76742 non-null  float64\n",
      " 9   department       76742 non-null  object \n",
      " 10  antype           76742 non-null  object \n",
      " 11  icd10_pcs        76742 non-null  object \n",
      " 12  category_desc    76742 non-null  object \n",
      " 13  desc_short       76742 non-null  object \n",
      " 14  category_id      76742 non-null  object \n",
      " 15  hr               76742 non-null  float64\n",
      " 16  pip              76742 non-null  float64\n",
      " 17  pmean            76742 non-null  float64\n",
      " 18  rr               76742 non-null  float64\n",
      " 19  spo2             76742 non-null  float64\n",
      " 20  vt               76742 non-null  float64\n",
      " 21  chloride         76742 non-null  float64\n",
      " 22  creatinine       76742 non-null  float64\n",
      " 23  glucose          76742 non-null  float64\n",
      " 24  hb               76742 non-null  float64\n",
      " 25  hco3             76742 non-null  float64\n",
      " 26  lymphocyte       76742 non-null  float64\n",
      " 27  platelet         76742 non-null  float64\n",
      " 28  potassium        76742 non-null  float64\n",
      " 29  sodium           76742 non-null  float64\n",
      " 30  total_bilirubin  76742 non-null  float64\n",
      " 31  wbc              76742 non-null  float64\n",
      " 32  LOS              76742 non-null  float64\n",
      " 33  prolonged_LOS    76742 non-null  int64  \n",
      " 34  icu_visit        76742 non-null  int64  \n",
      " 35  or_duration      76742 non-null  float64\n",
      " 36  anesth_duration  76742 non-null  float64\n",
      "dtypes: float64(23), int64(7), object(7)\n",
      "memory usage: 22.2+ MB\n"
     ]
    }
   ],
   "source": [
    "df.info()"
   ]
  },
  {
   "cell_type": "markdown",
   "metadata": {},
   "source": [
    "### Create the X and y DataFrames for CATEGORICAL Model\n",
    "\n",
    "  * create y\n",
    "  * create X (complete with all the features)\n",
    "  * drop the features we identified as not meeting impact threshold.\n",
    "  * Target = `prolonged_LOS` (0 or 1) \n",
    "\n"
   ]
  },
  {
   "cell_type": "code",
   "execution_count": 4,
   "metadata": {},
   "outputs": [
    {
     "name": "stdout",
     "output_type": "stream",
     "text": [
      "<class 'pandas.core.frame.DataFrame'>\n",
      "Index: 76742 entries, 8 to 128030\n",
      "Data columns (total 27 columns):\n",
      " #   Column           Non-Null Count  Dtype  \n",
      "---  ------           --------------  -----  \n",
      " 0   category_id      76742 non-null  object \n",
      " 1   age              76742 non-null  int64  \n",
      " 2   sex              76742 non-null  object \n",
      " 3   weight           76742 non-null  float64\n",
      " 4   height           76742 non-null  float64\n",
      " 5   hr               76742 non-null  float64\n",
      " 6   pip              76742 non-null  float64\n",
      " 7   pmean            76742 non-null  float64\n",
      " 8   rr               76742 non-null  float64\n",
      " 9   spo2             76742 non-null  float64\n",
      " 10  vt               76742 non-null  float64\n",
      " 11  chloride         76742 non-null  float64\n",
      " 12  creatinine       76742 non-null  float64\n",
      " 13  glucose          76742 non-null  float64\n",
      " 14  hb               76742 non-null  float64\n",
      " 15  hco3             76742 non-null  float64\n",
      " 16  lymphocyte       76742 non-null  float64\n",
      " 17  platelet         76742 non-null  float64\n",
      " 18  potassium        76742 non-null  float64\n",
      " 19  sodium           76742 non-null  float64\n",
      " 20  total_bilirubin  76742 non-null  float64\n",
      " 21  wbc              76742 non-null  float64\n",
      " 22  icu_visit        76742 non-null  int64  \n",
      " 23  or_duration      76742 non-null  float64\n",
      " 24  anesth_duration  76742 non-null  float64\n",
      " 25  department       76742 non-null  object \n",
      " 26  antype           76742 non-null  object \n",
      "dtypes: float64(21), int64(2), object(4)\n",
      "memory usage: 16.4+ MB\n"
     ]
    }
   ],
   "source": [
    "# When doing a Categorical Model, reinsert 'prolonged_LOS' and instead, drop 'LOS'\n",
    "\n",
    "## Features to retain are those in X that will be used in training. Exludued features are features such as Operation_ID, Subject_ID..\n",
    "features_to_retain = ['category_id','age','sex',\t'weight',\t'height',\t'hr',\t'pip',\t'pmean',\t'rr',\t'spo2',\t'vt',\t'chloride',\t'creatinine',\t'glucose',\t'hb',\t'hco3',\t'lymphocyte',\t'platelet',\t'potassium',\t'sodium',\t'total_bilirubin',\t'wbc',\t'icu_visit',\t'or_duration',\t'anesth_duration',\t'department','antype'] \n",
    "\n",
    "## Create the Y, the Target\n",
    "y = df['prolonged_LOS']\n",
    "\n",
    "## Create X the Features for Train/Test/Validate\n",
    "X = df.drop('prolonged_LOS', axis=1)\n",
    "X= X[features_to_retain]\n",
    "\n",
    "X.info()"
   ]
  },
  {
   "cell_type": "markdown",
   "metadata": {},
   "source": [
    "### Identify Features to be either cast as Str or Scaled"
   ]
  },
  {
   "cell_type": "code",
   "execution_count": 5,
   "metadata": {},
   "outputs": [
    {
     "name": "stdout",
     "output_type": "stream",
     "text": [
      "Category Cols to encode: ['category_id', 'antype', 'sex', 'department', 'icu_visit']\n",
      "Numerical Cols to scale: Index(['age', 'weight', 'height', 'hr', 'pip', 'pmean', 'rr', 'spo2', 'vt',\n",
      "       'chloride', 'creatinine', 'glucose', 'hb', 'hco3', 'lymphocyte',\n",
      "       'platelet', 'potassium', 'sodium', 'total_bilirubin', 'wbc',\n",
      "       'or_duration', 'anesth_duration'],\n",
      "      dtype='object')\n",
      "<class 'pandas.core.frame.DataFrame'>\n",
      "Index: 76742 entries, 8 to 128030\n",
      "Data columns (total 27 columns):\n",
      " #   Column           Non-Null Count  Dtype  \n",
      "---  ------           --------------  -----  \n",
      " 0   category_id      76742 non-null  object \n",
      " 1   age              76742 non-null  int64  \n",
      " 2   sex              76742 non-null  object \n",
      " 3   weight           76742 non-null  float64\n",
      " 4   height           76742 non-null  float64\n",
      " 5   hr               76742 non-null  float64\n",
      " 6   pip              76742 non-null  float64\n",
      " 7   pmean            76742 non-null  float64\n",
      " 8   rr               76742 non-null  float64\n",
      " 9   spo2             76742 non-null  float64\n",
      " 10  vt               76742 non-null  float64\n",
      " 11  chloride         76742 non-null  float64\n",
      " 12  creatinine       76742 non-null  float64\n",
      " 13  glucose          76742 non-null  float64\n",
      " 14  hb               76742 non-null  float64\n",
      " 15  hco3             76742 non-null  float64\n",
      " 16  lymphocyte       76742 non-null  float64\n",
      " 17  platelet         76742 non-null  float64\n",
      " 18  potassium        76742 non-null  float64\n",
      " 19  sodium           76742 non-null  float64\n",
      " 20  total_bilirubin  76742 non-null  float64\n",
      " 21  wbc              76742 non-null  float64\n",
      " 22  icu_visit        76742 non-null  object \n",
      " 23  or_duration      76742 non-null  float64\n",
      " 24  anesth_duration  76742 non-null  float64\n",
      " 25  department       76742 non-null  object \n",
      " 26  antype           76742 non-null  object \n",
      "dtypes: float64(21), int64(1), object(5)\n",
      "memory usage: 16.4+ MB\n"
     ]
    }
   ],
   "source": [
    "###########################################################\n",
    "#\n",
    "#  Identify the columns that need to be either cast as Str or Scaled\n",
    "#\n",
    "############################################################\n",
    "\n",
    "#Category Columns that will need encoding. Cast them as String\n",
    "COLS_TO_CAST = ['category_id','antype','sex','department', 'icu_visit']  #When restoring scope to full category list, add cat_id here.\n",
    "                                                            # Convert the object data type columns to string\n",
    "\n",
    "X[COLS_TO_CAST] = X[COLS_TO_CAST].astype(str)\n",
    "\n",
    "# Numerical Columns for Scaling. Filter columns with dtype 'numeric' for scaling later in the Pipleine\n",
    "COLS_TO_SCALE = X.select_dtypes(include=['int', 'float']).columns\n",
    "\n",
    "\n",
    "print(f'Category Cols to encode: {COLS_TO_CAST}')\n",
    "print(f'Numerical Cols to scale: {COLS_TO_SCALE}')\n",
    "X.info()"
   ]
  },
  {
   "cell_type": "markdown",
   "metadata": {},
   "source": [
    "## Training-Test-Validation Split\n",
    "\n",
    "- Training Set (80% of total): \n",
    "  - Used to train the models.\n",
    "- Validation Set (20% of Traning Set ): \n",
    "  - Used to fine-tune hyperparameters, select models, and monitor training progress.  \n",
    "- Testing Set (20% of total): \n",
    "  - Used to evaluate the final model's performance on unseen data and estimate its generalization performance.\n",
    "- Given this is a CATEGORICAL model, use `stratify` to mitigate any class imbalance in split."
   ]
  },
  {
   "cell_type": "code",
   "execution_count": 6,
   "metadata": {},
   "outputs": [
    {
     "name": "stdout",
     "output_type": "stream",
     "text": [
      "X_train shape: (49114, 27)\n",
      "X_validate shape: (12279, 27)\n",
      "X_test shape: (15349, 27)\n",
      "y_train shape: (49114,)\n",
      "y_validate shape: (12279,)\n",
      "y_test shape: (15349,)\n"
     ]
    }
   ],
   "source": [
    "from sklearn.model_selection import train_test_split\n",
    "\n",
    "TEST_SPLIT = .2\n",
    "TRAINING_SPLIT = 1-TEST_SPLIT\n",
    "VALIDATION_SPLIT = .2\n",
    "\n",
    "# Split data into training and testing sets (80% training, 20% testing)\n",
    "X_train, X_test, y_train, y_test = train_test_split(X, y, test_size=TEST_SPLIT, stratify=y, random_state=85100)\n",
    "\n",
    "# Split the Training AGAIN into train and Validate\n",
    "X_train, X_validate, y_train, y_validate = train_test_split(X_train, y_train, test_size=TEST_SPLIT, random_state=85100)\n",
    "\n",
    "# use X_train and y_train for model training and X_val and y_val for turning.\n",
    "\n",
    "data_subset_dict = {\n",
    "    'X_train': X_train,\n",
    "    'X_validate': X_validate,\n",
    "    'X_test': X_test,\n",
    "    'y_train': y_train,\n",
    "    'y_validate': y_validate,\n",
    "    'y_test': y_test}\n",
    "\n",
    "for key, value in data_subset_dict.items():\n",
    "    shape = value.shape\n",
    "    print(f\"{key} shape: {shape}\")\n"
   ]
  },
  {
   "cell_type": "markdown",
   "metadata": {},
   "source": [
    "## Scale X (Numerical)\n",
    "* We do NOT scale Y, the target\n",
    "* We fit the StandardScaler on X_training and then transform both your training and validation sets"
   ]
  },
  {
   "cell_type": "code",
   "execution_count": 7,
   "metadata": {},
   "outputs": [],
   "source": [
    "##### \n",
    "## SCALE X_train and X_validate\n",
    "#########\n",
    "from sklearn.compose import ColumnTransformer\n",
    "from sklearn.preprocessing import StandardScaler\n",
    "from sklearn.model_selection import train_test_split\n",
    "\n",
    "# Create the preprocessor\n",
    "preprocessor = ColumnTransformer(\n",
    "    transformers=[\n",
    "                ('num', StandardScaler(), COLS_TO_SCALE)\n",
    "                ],\n",
    "    remainder='passthrough')  # Leaves the rest of the columns alone\n",
    "\n",
    "# Fit on the training data\n",
    "preprocessor.fit(X_train)\n",
    "\n",
    "# Transform the training and validation data\n",
    "X_train_scaled = preprocessor.transform(X_train)\n",
    "X_validate_scaled = preprocessor.transform(X_validate)\n",
    "\n",
    "# Now X_train_scaled and X_validate_scaled have the specified columns scaled, and the rest are unchanged"
   ]
  },
  {
   "cell_type": "markdown",
   "metadata": {},
   "source": [
    "## MODEL\n",
    "\n",
    "### Data Frame for the Evaluation measures\n",
    "\n",
    "* We will be creating a number of metrics through the various models. \n",
    "* Create a dataframe (ie table) to maintain all these measures. \n",
    "* Update the table with the measures automatically when evaluation is completed. "
   ]
  },
  {
   "cell_type": "code",
   "execution_count": 8,
   "metadata": {},
   "outputs": [],
   "source": [
    "result_data = pd.DataFrame(columns = [\"Model_Name\",\"Sensitivity\", \"Specificity\", \"Accuracy\"])"
   ]
  },
  {
   "cell_type": "markdown",
   "metadata": {},
   "source": [
    "### Logistic Regression - Baseline"
   ]
  },
  {
   "cell_type": "code",
   "execution_count": 9,
   "metadata": {},
   "outputs": [
    {
     "name": "stdout",
     "output_type": "stream",
     "text": [
      "Accuracy of base model: 0.82465998859842\n"
     ]
    }
   ],
   "source": [
    "#########################\n",
    "#\n",
    "#  SIMPLE LOGISTIC REGRESSION Pipeline -\n",
    "#  -- No tuning. \n",
    "########################\n",
    "\n",
    "from sklearn.linear_model import LogisticRegression\n",
    "from sklearn.pipeline import Pipeline\n",
    "\n",
    "from sklearn.decomposition import PCA\n",
    "from sklearn.compose import ColumnTransformer\n",
    "from sklearn.preprocessing import OneHotEncoder\n",
    "from sklearn.metrics import accuracy_score\n",
    "\n",
    "categorical_transform = Pipeline([('one-hot-encode', OneHotEncoder(sparse_output=False, handle_unknown='ignore'))])\n",
    "\n",
    "preprocessing_df = ColumnTransformer([('categorical', categorical_transform, COLS_TO_CAST)])\n",
    "\n",
    "category_model_base = Pipeline([('preprocessing', preprocessing_df),\n",
    "                          ('model', LogisticRegression())])\n",
    "category_model_base.fit(X_train, y_train)\n",
    "\n",
    "y_pred_log = category_model_base.predict(X_validate)\n",
    "\n",
    "##### Evaluate Model\n",
    "\n",
    "accuracy = accuracy_score(y_validate, y_pred_log)\n",
    "\n",
    "print(f'Accuracy of base model: {accuracy}')\n",
    "# print(f\"RMSE of the base model: {:.3f}\")\n",
    "\n",
    "\n"
   ]
  },
  {
   "cell_type": "markdown",
   "metadata": {},
   "source": [
    "### Define Confusion Matrix Function\n",
    "\n",
    "1. Define the confusion matrix\n",
    "2. append the specificity/sensitivity/accuracy to the \"results_data\" dataframe\n",
    "   "
   ]
  },
  {
   "cell_type": "code",
   "execution_count": 10,
   "metadata": {},
   "outputs": [],
   "source": [
    "# Confusion Matrix \n",
    "from sklearn.metrics import confusion_matrix\n",
    "import seaborn as sns\n",
    "import matplotlib.pyplot as plt\n",
    "from sklearn.metrics import classification_report\n",
    "\n",
    "def plot_confusion_matrix(y_true, y_pred,modelname=\"Model\"):\n",
    "    print(\"True labels:\")\n",
    "    print(y_true)\n",
    "    print(\"\\nPredicted labels:\")\n",
    "    print(y_pred)\n",
    "    \n",
    "    \n",
    "    \n",
    "    accuracy = round(accuracy_score(y_true, y_pred), 2)\n",
    "    cm = confusion_matrix(y_pred=y_pred, y_true=y_true)\n",
    "    \n",
    "    \n",
    "    sns.heatmap(cm, annot=True, fmt=\".0f\", xticklabels=[\"Positive\", \"Negative\"], yticklabels=[\"Positive\", \"Negative\"])\n",
    "    plt.xlabel(\"Prediction\")\n",
    "    plt.ylabel(\"Actual\")\n",
    "    plt.title(\"Accuracy Score: {0}\".format(accuracy), size=10)\n",
    "    plt.show()\n",
    "\n",
    "    # Extract values from the confusion matrix\n",
    "    TN, FP, FN, TP = cm.ravel()\n",
    "\n",
    "    # Calculate Sensitivity (True Positive Rate)\n",
    "    sensitivity = TP / (TP + FN)\n",
    "\n",
    "    # Calculate Specificity (True Negative Rate)\n",
    "    specificity = TN / (TN + FP)\n",
    "    \n",
    "    # Append the values to the Results DataFrame\n",
    "    result_data.loc[len(result_data)] = [modelname,sensitivity, specificity,accuracy]\n",
    "    \n",
    "    print(classification_report(y_true, y_pred))\n",
    "         \n",
    "    return sensitivity, specificity, accuracy\n",
    "\n"
   ]
  },
  {
   "cell_type": "markdown",
   "metadata": {},
   "source": [
    "### Implement Confusion Matrix for Logistic Regression"
   ]
  },
  {
   "cell_type": "code",
   "execution_count": 11,
   "metadata": {},
   "outputs": [
    {
     "name": "stdout",
     "output_type": "stream",
     "text": [
      "True labels:\n",
      "116394    0\n",
      "102011    0\n",
      "11564     0\n",
      "93856     1\n",
      "47594     0\n",
      "         ..\n",
      "112235    0\n",
      "14985     0\n",
      "60829     0\n",
      "95194     0\n",
      "76465     0\n",
      "Name: prolonged_LOS, Length: 12279, dtype: int64\n",
      "\n",
      "Predicted labels:\n",
      "[0 0 0 ... 0 0 0]\n"
     ]
    },
    {
     "data": {
      "image/png": "[encoded data removed]",
      "text/plain": [
       "<Figure size 640x480 with 2 Axes>"
      ]
     },
     "metadata": {},
     "output_type": "display_data"
    },
    {
     "name": "stdout",
     "output_type": "stream",
     "text": [
      "              precision    recall  f1-score   support\n",
      "\n",
      "           0       0.82      0.93      0.87      7708\n",
      "           1       0.84      0.65      0.73      4571\n",
      "\n",
      "    accuracy                           0.82     12279\n",
      "   macro avg       0.83      0.79      0.80     12279\n",
      "weighted avg       0.83      0.82      0.82     12279\n",
      "\n"
     ]
    },
    {
     "data": {
      "text/html": [
       "<div>\n",
       "<style scoped>\n",
       "    .dataframe tbody tr th:only-of-type {\n",
       "        vertical-align: middle;\n",
       "    }\n",
       "\n",
       "    .dataframe tbody tr th {\n",
       "        vertical-align: top;\n",
       "    }\n",
       "\n",
       "    .dataframe thead th {\n",
       "        text-align: right;\n",
       "    }\n",
       "</style>\n",
       "<table border=\"1\" class=\"dataframe\">\n",
       "  <thead>\n",
       "    <tr style=\"text-align: right;\">\n",
       "      <th></th>\n",
       "      <th>Model_Name</th>\n",
       "      <th>Sensitivity</th>\n",
       "      <th>Specificity</th>\n",
       "      <th>Accuracy</th>\n",
       "    </tr>\n",
       "  </thead>\n",
       "  <tbody>\n",
       "    <tr>\n",
       "      <th>0</th>\n",
       "      <td>Logistic Regression</td>\n",
       "      <td>0.649092</td>\n",
       "      <td>0.928775</td>\n",
       "      <td>0.82</td>\n",
       "    </tr>\n",
       "  </tbody>\n",
       "</table>\n",
       "</div>"
      ],
      "text/plain": [
       "            Model_Name  Sensitivity  Specificity  Accuracy\n",
       "0  Logistic Regression     0.649092     0.928775      0.82"
      ]
     },
     "execution_count": 11,
     "metadata": {},
     "output_type": "execute_result"
    }
   ],
   "source": [
    "sensitivity_log, specificity_log, accuracy_log = plot_confusion_matrix(y_validate, y_pred_log, \"Logistic Regression\")  # Capture the returned values\n",
    "\n",
    "result_data"
   ]
  },
  {
   "cell_type": "code",
   "execution_count": null,
   "metadata": {},
   "outputs": [],
   "source": [
    "#### Reset the Results_data df while debugging.\n",
    "result_data=result_data[0:0]"
   ]
  },
  {
   "cell_type": "markdown",
   "metadata": {},
   "source": [
    "### Evaluation with ROC and AUC - Logistic Regression\n",
    "\n",
    "The target feature in our scenario is binary (yes or no). The prediction output needs to reflect the probability of 1 instead of the values ( 0 or 1). This is acheived by using the `predict_prob` method (as opposed to the .predict)\n"
   ]
  },
  {
   "cell_type": "code",
   "execution_count": 12,
   "metadata": {},
   "outputs": [
    {
     "data": {
      "image/png": "[encoded data removed]",
      "text/plain": [
       "<Figure size 800x600 with 1 Axes>"
      ]
     },
     "metadata": {},
     "output_type": "display_data"
    }
   ],
   "source": [
    "from sklearn.metrics import roc_curve, roc_auc_score\n",
    "\n",
    "\n",
    "## ROC Visualization \n",
    "Modelname = \"Logistic Regression\"\n",
    "y_pred_prob_log = category_model_base.predict_proba(X_validate)[:, 1]\n",
    "\n",
    "# Generate the ROC \n",
    "fpr, tpr, thresholds = roc_curve(y_validate, y_pred_prob_log)\n",
    "\n",
    "# Calculate the Area Under Curve\n",
    "roc_auc = roc_auc_score(y_validate, y_pred_prob_log)\n",
    "\n",
    "# Graph it all together.\n",
    "plt.figure(figsize=(8, 6))\n",
    "plt.plot(fpr, tpr, color='blue', lw=2, label=f'ROC curve (area = {roc_auc:.2f})')\n",
    "plt.plot([0, 1], [0, 1], color='gray', linestyle='--')\n",
    "plt.xlim([0.0, 1.0])\n",
    "plt.ylim([0.0, 1.05])\n",
    "plt.xlabel('False Positive Rate')\n",
    "plt.ylabel('True Positive Rate')\n",
    "plt.title(f'{Modelname}: Receiver Operating Characteristic (ROC)')\n",
    "plt.legend(loc='lower right')\n",
    "plt.show()"
   ]
  },
  {
   "cell_type": "code",
   "execution_count": null,
   "metadata": {},
   "outputs": [],
   "source": [
    "from sklearn import set_config\n",
    "set_config(display='diagram')\n",
    "category_model_base"
   ]
  },
  {
   "cell_type": "markdown",
   "metadata": {},
   "source": [
    "## Ensemble Models - Baselines  \n",
    "\n",
    "Models employed:\n",
    "* ExtraTreesClassifier\n",
    "* Random Forest\n",
    "* XGBRegressor\n",
    "* CatBoost"
   ]
  },
  {
   "cell_type": "code",
   "execution_count": 13,
   "metadata": {},
   "outputs": [
    {
     "name": "stdout",
     "output_type": "stream",
     "text": [
      "LogisticRegression(): Accuracy: 0.82\n",
      "ExtraTreesClassifier(n_jobs=-1): Accuracy: 0.83\n",
      "RandomForestClassifier(n_jobs=-1): Accuracy: 0.83\n",
      "XGBClassifier(base_score=None, booster=None, callbacks=None,\n",
      "              colsample_bylevel=None, colsample_bynode=None,\n",
      "              colsample_bytree=None, early_stopping_rounds=None,\n",
      "              enable_categorical=False, eval_metric=None, feature_types=None,\n",
      "              gamma=None, gpu_id=None, grow_policy=None, importance_type=None,\n",
      "              interaction_constraints=None, learning_rate=None, max_bin=None,\n",
      "              max_cat_threshold=None, max_cat_to_onehot=None,\n",
      "              max_delta_step=None, max_depth=None, max_leaves=None,\n",
      "              min_child_weight=None, missing=nan, monotone_constraints=None,\n",
      "              n_estimators=100, n_jobs=-1, num_parallel_tree=None,\n",
      "              predictor=None, random_state=None, ...): Accuracy: 0.83\n",
      "____________________________________________________________________________________________________\n",
      "LogisticRegression: Accuracy: 0.825\n",
      "RandomForestClassifier: Accuracy: 0.832\n",
      "ExtraTreesClassifier: Accuracy: 0.832\n",
      "XGBClassifier: Accuracy: 0.833\n"
     ]
    },
    {
     "data": {
      "text/plain": [
       "'LogisticRegression: Accuracy: 0.823\\nRandomForestClassifier: Accuracy: 0.830\\nExtraTreesClassifier: Accuracy: 0.830\\nXGBClassifier: Accuracy: 0.832'"
      ]
     },
     "execution_count": 13,
     "metadata": {},
     "output_type": "execute_result"
    }
   ],
   "source": [
    "#########################\n",
    "#\n",
    "#  Ensemble Pipeline -\n",
    "#  -- No tuning. \n",
    "########################\n",
    "\n",
    "from sklearn.linear_model import LogisticRegression\n",
    "from sklearn.pipeline import Pipeline\n",
    "\n",
    "from sklearn.ensemble import RandomForestClassifier,  ExtraTreesClassifier, BaggingRegressor\n",
    "from sklearn.preprocessing import StandardScaler\n",
    "from sklearn.decomposition import PCA\n",
    "from sklearn.compose import ColumnTransformer\n",
    "from sklearn.preprocessing import OneHotEncoder\n",
    "from sklearn.impute import SimpleImputer\n",
    "\n",
    "from xgboost import XGBClassifier\n",
    "from sklearn.metrics import accuracy_score\n",
    "\n",
    "model_list= [LogisticRegression(),ExtraTreesClassifier(n_jobs=-1),RandomForestClassifier(n_jobs=-1),XGBClassifier(n_jobs=-1)]\n",
    "model_names = [\"LogisticRegression\",\"ExtraTreesClassifier\", \"RandomForestClassifier\",\"XGBClassifier\"]\n",
    "\n",
    "\n",
    "ModScores = {}\n",
    "\n",
    "categorical_transform = Pipeline([('one-hot-encode', OneHotEncoder(sparse_output=False, handle_unknown='ignore'))])\n",
    "\n",
    "preprocessing_df = ColumnTransformer([('categorical', categorical_transform, COLS_TO_CAST)])\n",
    "\n",
    "for model_names, model in zip(model_names, model_list):\n",
    "    pipeline_base = Pipeline([('preprocessing', preprocessing_df),\n",
    "                          ('model', model)])\n",
    "    pipeline_base.fit(X_train, y_train)\n",
    "\n",
    "    y_pred = pipeline_base.predict(X_validate)\n",
    "    \n",
    "    # Calculate the Accuracy value\n",
    "    accuracy = accuracy_score(y_validate, y_pred)    \n",
    "    \n",
    "    ModScores[model_names] = accuracy\n",
    "    \n",
    "    print(f\"{model}: Accuracy: {accuracy:.2f}\")\n",
    "          ## add this back when have the Spec and sens >> , RMSE: {rmse:.2f}\")\n",
    "\n",
    "print(\"_\"*100)\n",
    "for key, value in sorted(ModScores.items(), key=itemgetter(1), reverse=False):\n",
    "    print(f\"{key}: Accuracy: {value:.3f}\")\n",
    "\n",
    "########################\n",
    "## Output:\n",
    "########################\n",
    "'''LogisticRegression: Accuracy: 0.823\n",
    "RandomForestClassifier: Accuracy: 0.830\n",
    "ExtraTreesClassifier: Accuracy: 0.830\n",
    "XGBClassifier: Accuracy: 0.832'''"
   ]
  },
  {
   "cell_type": "code",
   "execution_count": 16,
   "metadata": {},
   "outputs": [
    {
     "data": {
      "application/vnd.jupyter.widget-view+json": {
       "model_id": "403a533e4f4a4103b31847ddcb47b50d",
       "version_major": 2,
       "version_minor": 0
      },
      "text/plain": [
       "MetricVisualizer(layout=Layout(align_self='stretch', height='500px'))"
      ]
     },
     "metadata": {},
     "output_type": "display_data"
    },
    {
     "name": "stdout",
     "output_type": "stream",
     "text": [
      "Learning rate set to 0.082916\n",
      "0:\tlearn: 0.6346919\ttest: 0.6342878\tbest: 0.6342878 (0)\ttotal: 89.4ms\tremaining: 1m 29s\n",
      "10:\tlearn: 0.4166995\ttest: 0.4158861\tbest: 0.4158861 (10)\ttotal: 1.04s\tremaining: 1m 33s\n",
      "20:\tlearn: 0.3803762\ttest: 0.3801801\tbest: 0.3801801 (20)\ttotal: 2.05s\tremaining: 1m 35s\n",
      "30:\tlearn: 0.3662522\ttest: 0.3666557\tbest: 0.3666557 (30)\ttotal: 2.72s\tremaining: 1m 25s\n",
      "40:\tlearn: 0.3559723\ttest: 0.3566252\tbest: 0.3566252 (40)\ttotal: 3.42s\tremaining: 1m 19s\n",
      "50:\tlearn: 0.3510070\ttest: 0.3523449\tbest: 0.3523449 (50)\ttotal: 4.08s\tremaining: 1m 15s\n",
      "60:\tlearn: 0.3472249\ttest: 0.3493559\tbest: 0.3493559 (60)\ttotal: 4.77s\tremaining: 1m 13s\n",
      "70:\tlearn: 0.3445678\ttest: 0.3474918\tbest: 0.3474918 (70)\ttotal: 5.57s\tremaining: 1m 12s\n",
      "80:\tlearn: 0.3419542\ttest: 0.3456282\tbest: 0.3456282 (80)\ttotal: 6.22s\tremaining: 1m 10s\n",
      "90:\tlearn: 0.3399539\ttest: 0.3444606\tbest: 0.3444606 (90)\ttotal: 7.02s\tremaining: 1m 10s\n",
      "100:\tlearn: 0.3383684\ttest: 0.3434636\tbest: 0.3434636 (100)\ttotal: 7.72s\tremaining: 1m 8s\n",
      "110:\tlearn: 0.3364350\ttest: 0.3424549\tbest: 0.3424549 (110)\ttotal: 8.38s\tremaining: 1m 7s\n",
      "120:\tlearn: 0.3344731\ttest: 0.3412067\tbest: 0.3411745 (119)\ttotal: 9.08s\tremaining: 1m 5s\n",
      "130:\tlearn: 0.3329014\ttest: 0.3401828\tbest: 0.3401828 (130)\ttotal: 9.9s\tremaining: 1m 5s\n",
      "140:\tlearn: 0.3314506\ttest: 0.3396001\tbest: 0.3396001 (140)\ttotal: 10.7s\tremaining: 1m 5s\n",
      "150:\tlearn: 0.3301674\ttest: 0.3392444\tbest: 0.3392444 (150)\ttotal: 11.5s\tremaining: 1m 4s\n",
      "160:\tlearn: 0.3289383\ttest: 0.3387586\tbest: 0.3387369 (159)\ttotal: 12.2s\tremaining: 1m 3s\n",
      "170:\tlearn: 0.3272508\ttest: 0.3382311\tbest: 0.3382311 (170)\ttotal: 13s\tremaining: 1m 3s\n",
      "180:\tlearn: 0.3259572\ttest: 0.3377386\tbest: 0.3377386 (180)\ttotal: 13.8s\tremaining: 1m 2s\n",
      "190:\tlearn: 0.3246668\ttest: 0.3372874\tbest: 0.3372874 (190)\ttotal: 14.5s\tremaining: 1m 1s\n",
      "200:\tlearn: 0.3234620\ttest: 0.3370133\tbest: 0.3370133 (200)\ttotal: 15.3s\tremaining: 1m\n",
      "210:\tlearn: 0.3222373\ttest: 0.3367490\tbest: 0.3367406 (208)\ttotal: 16.3s\tremaining: 1m\n",
      "220:\tlearn: 0.3210672\ttest: 0.3364091\tbest: 0.3364091 (220)\ttotal: 17.2s\tremaining: 1m\n",
      "230:\tlearn: 0.3198991\ttest: 0.3364501\tbest: 0.3362958 (224)\ttotal: 18.5s\tremaining: 1m 1s\n",
      "240:\tlearn: 0.3187480\ttest: 0.3363888\tbest: 0.3362958 (224)\ttotal: 19.5s\tremaining: 1m 1s\n",
      "250:\tlearn: 0.3174967\ttest: 0.3361607\tbest: 0.3361324 (248)\ttotal: 20.5s\tremaining: 1m 1s\n",
      "260:\tlearn: 0.3163287\ttest: 0.3362124\tbest: 0.3361310 (251)\ttotal: 21.5s\tremaining: 1m\n",
      "270:\tlearn: 0.3151396\ttest: 0.3360180\tbest: 0.3360180 (270)\ttotal: 22.5s\tremaining: 1m\n",
      "280:\tlearn: 0.3140096\ttest: 0.3358244\tbest: 0.3357279 (274)\ttotal: 23.7s\tremaining: 1m\n",
      "290:\tlearn: 0.3127267\ttest: 0.3356763\tbest: 0.3356763 (290)\ttotal: 24.9s\tremaining: 1m\n",
      "300:\tlearn: 0.3117048\ttest: 0.3356688\tbest: 0.3356688 (300)\ttotal: 26.2s\tremaining: 1m\n",
      "310:\tlearn: 0.3107335\ttest: 0.3352223\tbest: 0.3352201 (309)\ttotal: 27.4s\tremaining: 1m\n",
      "320:\tlearn: 0.3097883\ttest: 0.3352506\tbest: 0.3351884 (311)\ttotal: 28.6s\tremaining: 1m\n",
      "330:\tlearn: 0.3088671\ttest: 0.3350581\tbest: 0.3350581 (330)\ttotal: 29.9s\tremaining: 1m\n",
      "340:\tlearn: 0.3077519\ttest: 0.3348760\tbest: 0.3348211 (339)\ttotal: 31.1s\tremaining: 1m\n",
      "350:\tlearn: 0.3069462\ttest: 0.3346498\tbest: 0.3346490 (349)\ttotal: 32.2s\tremaining: 59.5s\n",
      "360:\tlearn: 0.3058866\ttest: 0.3344792\tbest: 0.3344696 (358)\ttotal: 33.4s\tremaining: 59.1s\n",
      "370:\tlearn: 0.3046923\ttest: 0.3342424\tbest: 0.3342392 (369)\ttotal: 34.6s\tremaining: 58.7s\n",
      "380:\tlearn: 0.3038107\ttest: 0.3343250\tbest: 0.3342392 (369)\ttotal: 35.8s\tremaining: 58.2s\n",
      "390:\tlearn: 0.3027208\ttest: 0.3340465\tbest: 0.3340465 (390)\ttotal: 36.9s\tremaining: 57.5s\n",
      "400:\tlearn: 0.3017134\ttest: 0.3340609\tbest: 0.3339801 (394)\ttotal: 38.2s\tremaining: 57s\n",
      "410:\tlearn: 0.3007161\ttest: 0.3339231\tbest: 0.3339000 (409)\ttotal: 39.3s\tremaining: 56.3s\n",
      "420:\tlearn: 0.2997420\ttest: 0.3338429\tbest: 0.3337675 (419)\ttotal: 40.5s\tremaining: 55.7s\n",
      "430:\tlearn: 0.2989480\ttest: 0.3337085\tbest: 0.3336991 (429)\ttotal: 41.7s\tremaining: 55.1s\n",
      "440:\tlearn: 0.2980867\ttest: 0.3335377\tbest: 0.3335377 (440)\ttotal: 42.9s\tremaining: 54.4s\n",
      "450:\tlearn: 0.2972807\ttest: 0.3334826\tbest: 0.3334826 (450)\ttotal: 44.1s\tremaining: 53.6s\n",
      "460:\tlearn: 0.2962536\ttest: 0.3333233\tbest: 0.3333048 (459)\ttotal: 45.3s\tremaining: 52.9s\n",
      "470:\tlearn: 0.2956267\ttest: 0.3334018\tbest: 0.3333048 (459)\ttotal: 46.5s\tremaining: 52.2s\n",
      "480:\tlearn: 0.2948451\ttest: 0.3332381\tbest: 0.3332299 (473)\ttotal: 47.8s\tremaining: 51.5s\n",
      "490:\tlearn: 0.2938544\ttest: 0.3331619\tbest: 0.3331124 (488)\ttotal: 49s\tremaining: 50.8s\n",
      "500:\tlearn: 0.2929569\ttest: 0.3332080\tbest: 0.3330950 (492)\ttotal: 49.8s\tremaining: 49.6s\n",
      "510:\tlearn: 0.2921030\ttest: 0.3330796\tbest: 0.3330215 (508)\ttotal: 50.9s\tremaining: 48.7s\n",
      "520:\tlearn: 0.2912749\ttest: 0.3330773\tbest: 0.3330215 (508)\ttotal: 52s\tremaining: 47.8s\n",
      "530:\tlearn: 0.2904137\ttest: 0.3330509\tbest: 0.3330215 (508)\ttotal: 52.9s\tremaining: 46.7s\n",
      "540:\tlearn: 0.2895882\ttest: 0.3328505\tbest: 0.3328150 (539)\ttotal: 54s\tremaining: 45.8s\n",
      "550:\tlearn: 0.2887670\ttest: 0.3327637\tbest: 0.3327517 (549)\ttotal: 55.2s\tremaining: 45s\n",
      "560:\tlearn: 0.2879275\ttest: 0.3326507\tbest: 0.3325703 (555)\ttotal: 56.5s\tremaining: 44.2s\n",
      "570:\tlearn: 0.2872073\ttest: 0.3325800\tbest: 0.3325318 (567)\ttotal: 57.8s\tremaining: 43.4s\n",
      "580:\tlearn: 0.2862426\ttest: 0.3325649\tbest: 0.3325318 (567)\ttotal: 59s\tremaining: 42.5s\n",
      "590:\tlearn: 0.2853294\ttest: 0.3324855\tbest: 0.3324597 (587)\ttotal: 1m\tremaining: 41.7s\n",
      "600:\tlearn: 0.2844965\ttest: 0.3324787\tbest: 0.3324597 (587)\ttotal: 1m 1s\tremaining: 40.8s\n",
      "610:\tlearn: 0.2836260\ttest: 0.3323359\tbest: 0.3323169 (608)\ttotal: 1m 2s\tremaining: 40s\n",
      "620:\tlearn: 0.2828227\ttest: 0.3321763\tbest: 0.3321609 (619)\ttotal: 1m 4s\tremaining: 39.1s\n",
      "630:\tlearn: 0.2821171\ttest: 0.3322180\tbest: 0.3321609 (619)\ttotal: 1m 5s\tremaining: 38.2s\n",
      "640:\tlearn: 0.2812149\ttest: 0.3321797\tbest: 0.3321584 (632)\ttotal: 1m 6s\tremaining: 37.3s\n",
      "650:\tlearn: 0.2804139\ttest: 0.3322136\tbest: 0.3321584 (632)\ttotal: 1m 7s\tremaining: 36.3s\n",
      "660:\tlearn: 0.2794877\ttest: 0.3322146\tbest: 0.3321584 (632)\ttotal: 1m 9s\tremaining: 35.4s\n",
      "670:\tlearn: 0.2787741\ttest: 0.3322810\tbest: 0.3321584 (632)\ttotal: 1m 10s\tremaining: 34.4s\n",
      "680:\tlearn: 0.2780219\ttest: 0.3321742\tbest: 0.3321584 (632)\ttotal: 1m 11s\tremaining: 33.5s\n",
      "690:\tlearn: 0.2771748\ttest: 0.3322451\tbest: 0.3321584 (632)\ttotal: 1m 12s\tremaining: 32.3s\n",
      "700:\tlearn: 0.2763096\ttest: 0.3325159\tbest: 0.3321584 (632)\ttotal: 1m 13s\tremaining: 31.3s\n",
      "710:\tlearn: 0.2755841\ttest: 0.3324972\tbest: 0.3321584 (632)\ttotal: 1m 14s\tremaining: 30.3s\n",
      "720:\tlearn: 0.2748401\ttest: 0.3325518\tbest: 0.3321584 (632)\ttotal: 1m 15s\tremaining: 29.4s\n",
      "730:\tlearn: 0.2739838\ttest: 0.3326054\tbest: 0.3321584 (632)\ttotal: 1m 16s\tremaining: 28.3s\n",
      "740:\tlearn: 0.2733304\ttest: 0.3325487\tbest: 0.3321584 (632)\ttotal: 1m 18s\tremaining: 27.3s\n",
      "750:\tlearn: 0.2724655\ttest: 0.3326179\tbest: 0.3321584 (632)\ttotal: 1m 18s\tremaining: 26.2s\n",
      "760:\tlearn: 0.2717818\ttest: 0.3326114\tbest: 0.3321584 (632)\ttotal: 1m 19s\tremaining: 25s\n",
      "770:\tlearn: 0.2710924\ttest: 0.3326079\tbest: 0.3321584 (632)\ttotal: 1m 20s\tremaining: 23.8s\n",
      "780:\tlearn: 0.2701387\ttest: 0.3324938\tbest: 0.3321584 (632)\ttotal: 1m 20s\tremaining: 22.7s\n",
      "790:\tlearn: 0.2694831\ttest: 0.3324605\tbest: 0.3321584 (632)\ttotal: 1m 21s\tremaining: 21.6s\n",
      "800:\tlearn: 0.2688012\ttest: 0.3326260\tbest: 0.3321584 (632)\ttotal: 1m 22s\tremaining: 20.5s\n",
      "810:\tlearn: 0.2681261\ttest: 0.3327234\tbest: 0.3321584 (632)\ttotal: 1m 23s\tremaining: 19.3s\n",
      "820:\tlearn: 0.2675185\ttest: 0.3328732\tbest: 0.3321584 (632)\ttotal: 1m 23s\tremaining: 18.3s\n",
      "830:\tlearn: 0.2668856\ttest: 0.3329439\tbest: 0.3321584 (632)\ttotal: 1m 24s\tremaining: 17.2s\n",
      "840:\tlearn: 0.2661512\ttest: 0.3329236\tbest: 0.3321584 (632)\ttotal: 1m 25s\tremaining: 16.1s\n",
      "850:\tlearn: 0.2652576\ttest: 0.3328400\tbest: 0.3321584 (632)\ttotal: 1m 26s\tremaining: 15.1s\n",
      "860:\tlearn: 0.2643854\ttest: 0.3326121\tbest: 0.3321584 (632)\ttotal: 1m 26s\tremaining: 14s\n",
      "870:\tlearn: 0.2636137\ttest: 0.3326674\tbest: 0.3321584 (632)\ttotal: 1m 27s\tremaining: 12.9s\n",
      "880:\tlearn: 0.2628355\ttest: 0.3326240\tbest: 0.3321584 (632)\ttotal: 1m 28s\tremaining: 11.9s\n",
      "890:\tlearn: 0.2620566\ttest: 0.3325736\tbest: 0.3321584 (632)\ttotal: 1m 28s\tremaining: 10.9s\n",
      "900:\tlearn: 0.2614531\ttest: 0.3326417\tbest: 0.3321584 (632)\ttotal: 1m 29s\tremaining: 9.85s\n",
      "910:\tlearn: 0.2607395\ttest: 0.3326711\tbest: 0.3321584 (632)\ttotal: 1m 30s\tremaining: 8.83s\n",
      "920:\tlearn: 0.2602874\ttest: 0.3326722\tbest: 0.3321584 (632)\ttotal: 1m 31s\tremaining: 7.82s\n",
      "930:\tlearn: 0.2595970\ttest: 0.3327289\tbest: 0.3321584 (632)\ttotal: 1m 31s\tremaining: 6.81s\n",
      "940:\tlearn: 0.2589222\ttest: 0.3327589\tbest: 0.3321584 (632)\ttotal: 1m 32s\tremaining: 5.81s\n",
      "950:\tlearn: 0.2584284\ttest: 0.3327613\tbest: 0.3321584 (632)\ttotal: 1m 33s\tremaining: 4.81s\n",
      "960:\tlearn: 0.2577621\ttest: 0.3327432\tbest: 0.3321584 (632)\ttotal: 1m 34s\tremaining: 3.83s\n",
      "970:\tlearn: 0.2571710\ttest: 0.3327640\tbest: 0.3321584 (632)\ttotal: 1m 35s\tremaining: 2.84s\n",
      "980:\tlearn: 0.2566077\ttest: 0.3329548\tbest: 0.3321584 (632)\ttotal: 1m 35s\tremaining: 1.86s\n",
      "990:\tlearn: 0.2560579\ttest: 0.3328824\tbest: 0.3321584 (632)\ttotal: 1m 36s\tremaining: 879ms\n",
      "999:\tlearn: 0.2555505\ttest: 0.3330347\tbest: 0.3321584 (632)\ttotal: 1m 37s\tremaining: 0us\n",
      "\n",
      "bestTest = 0.3321583949\n",
      "bestIteration = 632\n",
      "\n",
      "Shrink model to first 633 iterations.\n",
      "Accuracy base model: 0.8452642723348807\n"
     ]
    },
    {
     "data": {
      "text/plain": [
       "'Shrink model to first 586 iterations.\\nAccuracy base model: 0.8316638162716834'"
      ]
     },
     "execution_count": 16,
     "metadata": {},
     "output_type": "execute_result"
    }
   ],
   "source": [
    "#########################\n",
    "#\n",
    "#  CatBoost - Baseline\n",
    "# \n",
    "########################\n",
    "\n",
    "from catboost import CatBoostClassifier\n",
    "from catboost import Pool\n",
    "\n",
    "from sklearn.preprocessing import StandardScaler\n",
    "\n",
    "from sklearn.compose import ColumnTransformer\n",
    "from sklearn.preprocessing import OneHotEncoder\n",
    "from sklearn.impute import SimpleImputer\n",
    "from sklearn.metrics import accuracy_score\n",
    "from sklearn.metrics import roc_curve, roc_auc_score\n",
    "import matplotlib.pyplot as plt\n",
    "\n",
    "###############\n",
    "# Specify categorical feature indices\n",
    "categorical_features_indices = [0, 2, 22,25, 26]\n",
    "\n",
    "\n",
    "# Create the Pool for training data\n",
    "train_pool = Pool(data=X_train, label=y_train, cat_features=categorical_features_indices)\n",
    "\n",
    "# If you have a validation dataset\n",
    "validation_pool = Pool(data=X_validate, label=y_validate, cat_features=categorical_features_indices)\n",
    "\n",
    "\n",
    "# Instantiate CatBoostRegressor with the best hyperparameters\n",
    "cat_model = CatBoostClassifier()\n",
    "\n",
    "cat_model.fit(\n",
    "    train_pool,\n",
    "    eval_set=validation_pool,  # Remove this if you don't have a validation set\n",
    "    verbose=10,  # This will print the progress every 10 iterations\n",
    "    plot=True    # This will plot the learning curve (only works in Jupyter notebooks)\n",
    ")\n",
    "\n",
    "# Predict probabilities for the positive class\n",
    "y_pred_cat = cat_model.predict(X_validate)  # Index 1 for 'yes' class\n",
    "\n",
    "\n",
    "# Calculate the Accruacy value\n",
    "accuracy = accuracy_score(y_validate, y_pred_cat)\n",
    "\n",
    "\n",
    "print(f'Accuracy base model: {accuracy}')\n",
    "\n",
    "########################\n",
    "## Output:\n",
    "########################\n",
    "'''Shrink model to first 633 iterations.\n",
    "Accuracy base model: 0.8452642723348807'''"
   ]
  },
  {
   "cell_type": "code",
   "execution_count": 17,
   "metadata": {},
   "outputs": [
    {
     "name": "stdout",
     "output_type": "stream",
     "text": [
      "True labels:\n",
      "116394    0\n",
      "102011    0\n",
      "11564     0\n",
      "93856     1\n",
      "47594     0\n",
      "         ..\n",
      "112235    0\n",
      "14985     0\n",
      "60829     0\n",
      "95194     0\n",
      "76465     0\n",
      "Name: prolonged_LOS, Length: 12279, dtype: int64\n",
      "\n",
      "Predicted labels:\n",
      "[0 0 0 ... 0 0 1]\n"
     ]
    },
    {
     "data": {
      "image/png": "[encoded data removed]",
      "text/plain": [
       "<Figure size 640x480 with 2 Axes>"
      ]
     },
     "metadata": {},
     "output_type": "display_data"
    },
    {
     "name": "stdout",
     "output_type": "stream",
     "text": [
      "              precision    recall  f1-score   support\n",
      "\n",
      "           0       0.85      0.91      0.88      7708\n",
      "           1       0.83      0.73      0.78      4571\n",
      "\n",
      "    accuracy                           0.85     12279\n",
      "   macro avg       0.84      0.82      0.83     12279\n",
      "weighted avg       0.84      0.85      0.84     12279\n",
      "\n"
     ]
    }
   ],
   "source": [
    "sensitivity_cat, specificity_cat, accuracy_cat = plot_confusion_matrix(y_validate, y_pred_cat, \"CatBoostClassifier\")  # Capture the returned values"
   ]
  },
  {
   "cell_type": "code",
   "execution_count": 18,
   "metadata": {},
   "outputs": [
    {
     "data": {
      "text/html": [
       "<div>\n",
       "<style scoped>\n",
       "    .dataframe tbody tr th:only-of-type {\n",
       "        vertical-align: middle;\n",
       "    }\n",
       "\n",
       "    .dataframe tbody tr th {\n",
       "        vertical-align: top;\n",
       "    }\n",
       "\n",
       "    .dataframe thead th {\n",
       "        text-align: right;\n",
       "    }\n",
       "</style>\n",
       "<table border=\"1\" class=\"dataframe\">\n",
       "  <thead>\n",
       "    <tr style=\"text-align: right;\">\n",
       "      <th></th>\n",
       "      <th>Model_Name</th>\n",
       "      <th>Sensitivity</th>\n",
       "      <th>Specificity</th>\n",
       "      <th>Accuracy</th>\n",
       "    </tr>\n",
       "  </thead>\n",
       "  <tbody>\n",
       "    <tr>\n",
       "      <th>0</th>\n",
       "      <td>Logistic Regression</td>\n",
       "      <td>0.649092</td>\n",
       "      <td>0.928775</td>\n",
       "      <td>0.82</td>\n",
       "    </tr>\n",
       "    <tr>\n",
       "      <th>1</th>\n",
       "      <td>CatBoostClassifier</td>\n",
       "      <td>0.732444</td>\n",
       "      <td>0.912169</td>\n",
       "      <td>0.85</td>\n",
       "    </tr>\n",
       "  </tbody>\n",
       "</table>\n",
       "</div>"
      ],
      "text/plain": [
       "            Model_Name  Sensitivity  Specificity  Accuracy\n",
       "0  Logistic Regression     0.649092     0.928775      0.82\n",
       "1   CatBoostClassifier     0.732444     0.912169      0.85"
      ]
     },
     "execution_count": 18,
     "metadata": {},
     "output_type": "execute_result"
    }
   ],
   "source": [
    "result_data"
   ]
  },
  {
   "cell_type": "markdown",
   "metadata": {},
   "source": [
    "### Evaluation with ROC and AUC - CatBoost Classifier - Baseline."
   ]
  },
  {
   "cell_type": "code",
   "execution_count": 19,
   "metadata": {},
   "outputs": [
    {
     "data": {
      "image/png": "[encoded data removed]",
      "text/plain": [
       "<Figure size 800x600 with 1 Axes>"
      ]
     },
     "metadata": {},
     "output_type": "display_data"
    }
   ],
   "source": [
    "## ROC Visualization \n",
    "Modelname = \"CatBoostClassifier\"\n",
    "y_pred_prob_cat = cat_model.predict_proba(X_validate)[:, 1]\n",
    "\n",
    "# Generate the ROC \n",
    "fpr, tpr, thresholds = roc_curve(y_validate, y_pred_prob_cat)\n",
    "\n",
    "# Calculate the Area Under Curve\n",
    "roc_auc = roc_auc_score(y_validate, y_pred_prob_cat)\n",
    "\n",
    "# Graph it all together.\n",
    "plt.figure(figsize=(8, 6))\n",
    "plt.plot(fpr, tpr, color='blue', lw=2, label=f'ROC curve (area = {roc_auc:.2f})')\n",
    "plt.plot([0, 1], [0, 1], color='gray', linestyle='--')\n",
    "plt.xlim([0.0, 1.0])\n",
    "plt.ylim([0.0, 1.05])\n",
    "plt.xlabel('False Positive Rate')\n",
    "plt.ylabel('True Positive Rate')\n",
    "plt.title(f'{Modelname}: Receiver Operating Characteristic (ROC)')\n",
    "plt.legend(loc='lower right')\n",
    "plt.show()"
   ]
  },
  {
   "cell_type": "markdown",
   "metadata": {},
   "source": [
    "## Tuning -  Optimize Model with Hyperparameter Tuning via Grid Search\n",
    "\n",
    "## CatBoost\n"
   ]
  },
  {
   "cell_type": "code",
   "execution_count": null,
   "metadata": {},
   "outputs": [],
   "source": [
    "#########################\n",
    "#\n",
    "#  STANDALONE TUNING  - CatBoost\n",
    "# \n",
    "########################\n",
    "from sklearn.ensemble import RandomForestRegressor, GradientBoostingRegressor, ExtraTreesRegressor, BaggingRegressor\n",
    "from sklearn.pipeline import Pipeline\n",
    "from sklearn.feature_selection import SelectKBest\n",
    "from tqdm import tqdm  # Import tqdm\n",
    "from xgboost import XGBRegressor\n",
    "from sklearn.model_selection import cross_val_score, GridSearchCV\n",
    "from catboost import Pool, CatBoostRegressor"
   ]
  },
  {
   "cell_type": "markdown",
   "metadata": {},
   "source": [
    "### Define a Scorer for Grid Search\n",
    "* Sensitivity and Specificity are both important aspects to optimize. \n",
    "* Want to find an balance between 'over categorizing' likely cases of PLOS (nursing effort) vs 'missing' and we revert to curernt state. \n",
    "* A balanced approach is being optimized in the `combined_score` and averages both equally. \n",
    "* Opportunity to refine based on operational preference. "
   ]
  },
  {
   "cell_type": "code",
   "execution_count": 20,
   "metadata": {},
   "outputs": [],
   "source": [
    "#########################\n",
    "#\n",
    "#  Scorer for GridSearch\n",
    "# \n",
    "########################\n",
    "\n",
    "from sklearn.metrics import confusion_matrix\n",
    "from sklearn.metrics import make_scorer\n",
    "\n",
    "def sensitivity_score(y_true, y_pred):\n",
    "    cm = confusion_matrix(y_true, y_pred)\n",
    "    sensitivity = cm[1, 1] / (cm[1, 0] + cm[1, 1])\n",
    "    return sensitivity\n",
    "\n",
    "def specificity_score(y_true, y_pred):\n",
    "    cm = confusion_matrix(y_true, y_pred)\n",
    "    specificity = cm[0, 0] / (cm[0, 1] + cm[0, 0])\n",
    "    return specificity\n",
    "\n",
    "def combined_score(y_true, y_pred):\n",
    "    sens = sensitivity_score(y_true, y_pred)\n",
    "    spec = specificity_score(y_true, y_pred)\n",
    "    return (sens + spec) / 2\n",
    "\n",
    "sensitivity_scorer = make_scorer(sensitivity_score, greater_is_better=True)\n",
    "specificity_scorer = make_scorer(specificity_score, greater_is_better=True)\n",
    "combined_scorer = make_scorer(combined_score, greater_is_better=True)"
   ]
  },
  {
   "cell_type": "markdown",
   "metadata": {},
   "source": [
    "### CatBoost -  Perform GridSearch"
   ]
  },
  {
   "cell_type": "code",
   "execution_count": 21,
   "metadata": {},
   "outputs": [
    {
     "name": "stdout",
     "output_type": "stream",
     "text": [
      "Fitting 5 folds for each of 27 candidates, totalling 135 fits\n",
      "0:\tlearn: 0.5655919\ttotal: 77.3ms\tremaining: 15.4s\n",
      "1:\tlearn: 0.4800670\ttotal: 151ms\tremaining: 14.9s\n",
      "2:\tlearn: 0.4413290\ttotal: 220ms\tremaining: 14.4s\n",
      "3:\tlearn: 0.4182379\ttotal: 298ms\tremaining: 14.6s\n",
      "4:\tlearn: 0.3996549\ttotal: 374ms\tremaining: 14.6s\n",
      "5:\tlearn: 0.3885536\ttotal: 446ms\tremaining: 14.4s\n",
      "6:\tlearn: 0.3783066\ttotal: 524ms\tremaining: 14.5s\n",
      "7:\tlearn: 0.3742259\ttotal: 593ms\tremaining: 14.2s\n",
      "8:\tlearn: 0.3688192\ttotal: 665ms\tremaining: 14.1s\n",
      "9:\tlearn: 0.3626071\ttotal: 734ms\tremaining: 14s\n",
      "10:\tlearn: 0.3584281\ttotal: 813ms\tremaining: 14s\n",
      "11:\tlearn: 0.3542604\ttotal: 885ms\tremaining: 13.9s\n",
      "12:\tlearn: 0.3506691\ttotal: 963ms\tremaining: 13.9s\n",
      "13:\tlearn: 0.3483017\ttotal: 1.03s\tremaining: 13.7s\n",
      "14:\tlearn: 0.3464989\ttotal: 1.11s\tremaining: 13.7s\n",
      "15:\tlearn: 0.3441790\ttotal: 1.18s\tremaining: 13.6s\n",
      "16:\tlearn: 0.3435104\ttotal: 1.26s\tremaining: 13.5s\n",
      "17:\tlearn: 0.3411142\ttotal: 1.33s\tremaining: 13.5s\n",
      "18:\tlearn: 0.3403069\ttotal: 1.41s\tremaining: 13.4s\n",
      "19:\tlearn: 0.3395850\ttotal: 1.48s\tremaining: 13.3s\n",
      "20:\tlearn: 0.3381619\ttotal: 1.56s\tremaining: 13.3s\n",
      "21:\tlearn: 0.3364309\ttotal: 1.63s\tremaining: 13.2s\n",
      "22:\tlearn: 0.3351564\ttotal: 1.71s\tremaining: 13.1s\n",
      "23:\tlearn: 0.3341650\ttotal: 1.78s\tremaining: 13.1s\n",
      "24:\tlearn: 0.3330830\ttotal: 1.86s\tremaining: 13s\n",
      "25:\tlearn: 0.3321400\ttotal: 1.93s\tremaining: 12.9s\n",
      "26:\tlearn: 0.3312626\ttotal: 2s\tremaining: 12.8s\n",
      "27:\tlearn: 0.3301172\ttotal: 2.08s\tremaining: 12.8s\n",
      "28:\tlearn: 0.3287520\ttotal: 2.15s\tremaining: 12.7s\n",
      "29:\tlearn: 0.3279675\ttotal: 2.23s\tremaining: 12.7s\n",
      "30:\tlearn: 0.3271102\ttotal: 2.31s\tremaining: 12.6s\n",
      "31:\tlearn: 0.3263934\ttotal: 2.39s\tremaining: 12.5s\n",
      "32:\tlearn: 0.3253721\ttotal: 2.47s\tremaining: 12.5s\n",
      "33:\tlearn: 0.3248765\ttotal: 2.54s\tremaining: 12.4s\n",
      "34:\tlearn: 0.3239028\ttotal: 2.64s\tremaining: 12.5s\n",
      "35:\tlearn: 0.3235172\ttotal: 2.74s\tremaining: 12.5s\n",
      "36:\tlearn: 0.3227438\ttotal: 2.82s\tremaining: 12.4s\n",
      "37:\tlearn: 0.3220757\ttotal: 2.9s\tremaining: 12.4s\n",
      "38:\tlearn: 0.3217182\ttotal: 2.99s\tremaining: 12.3s\n",
      "39:\tlearn: 0.3213441\ttotal: 3.06s\tremaining: 12.2s\n",
      "40:\tlearn: 0.3208254\ttotal: 3.14s\tremaining: 12.2s\n",
      "41:\tlearn: 0.3202795\ttotal: 3.21s\tremaining: 12.1s\n",
      "42:\tlearn: 0.3195105\ttotal: 3.29s\tremaining: 12s\n",
      "43:\tlearn: 0.3186688\ttotal: 3.37s\tremaining: 12s\n",
      "44:\tlearn: 0.3180604\ttotal: 3.45s\tremaining: 11.9s\n",
      "45:\tlearn: 0.3173261\ttotal: 3.52s\tremaining: 11.8s\n",
      "46:\tlearn: 0.3168804\ttotal: 3.6s\tremaining: 11.7s\n",
      "47:\tlearn: 0.3162548\ttotal: 3.67s\tremaining: 11.6s\n",
      "48:\tlearn: 0.3157087\ttotal: 3.75s\tremaining: 11.6s\n",
      "49:\tlearn: 0.3146671\ttotal: 3.83s\tremaining: 11.5s\n",
      "50:\tlearn: 0.3142457\ttotal: 3.9s\tremaining: 11.4s\n",
      "51:\tlearn: 0.3134045\ttotal: 3.98s\tremaining: 11.3s\n",
      "52:\tlearn: 0.3122593\ttotal: 4.06s\tremaining: 11.3s\n",
      "53:\tlearn: 0.3113994\ttotal: 4.13s\tremaining: 11.2s\n",
      "54:\tlearn: 0.3107874\ttotal: 4.21s\tremaining: 11.1s\n",
      "55:\tlearn: 0.3106323\ttotal: 4.28s\tremaining: 11s\n",
      "56:\tlearn: 0.3100373\ttotal: 4.36s\tremaining: 10.9s\n",
      "57:\tlearn: 0.3093671\ttotal: 4.43s\tremaining: 10.8s\n",
      "58:\tlearn: 0.3089052\ttotal: 4.51s\tremaining: 10.8s\n",
      "59:\tlearn: 0.3086965\ttotal: 4.58s\tremaining: 10.7s\n",
      "60:\tlearn: 0.3080129\ttotal: 4.66s\tremaining: 10.6s\n",
      "61:\tlearn: 0.3074980\ttotal: 4.74s\tremaining: 10.5s\n",
      "62:\tlearn: 0.3072467\ttotal: 4.82s\tremaining: 10.5s\n",
      "63:\tlearn: 0.3070413\ttotal: 4.9s\tremaining: 10.4s\n",
      "64:\tlearn: 0.3065649\ttotal: 4.98s\tremaining: 10.3s\n",
      "65:\tlearn: 0.3057918\ttotal: 5.05s\tremaining: 10.3s\n",
      "66:\tlearn: 0.3052533\ttotal: 5.13s\tremaining: 10.2s\n",
      "67:\tlearn: 0.3050891\ttotal: 5.2s\tremaining: 10.1s\n",
      "68:\tlearn: 0.3045649\ttotal: 5.28s\tremaining: 10s\n",
      "69:\tlearn: 0.3037260\ttotal: 5.35s\tremaining: 9.94s\n",
      "70:\tlearn: 0.3036631\ttotal: 5.43s\tremaining: 9.86s\n",
      "71:\tlearn: 0.3033788\ttotal: 5.5s\tremaining: 9.78s\n",
      "72:\tlearn: 0.3026495\ttotal: 5.58s\tremaining: 9.71s\n",
      "73:\tlearn: 0.3021284\ttotal: 5.66s\tremaining: 9.63s\n",
      "74:\tlearn: 0.3021179\ttotal: 5.74s\tremaining: 9.56s\n",
      "75:\tlearn: 0.3020041\ttotal: 5.81s\tremaining: 9.48s\n",
      "76:\tlearn: 0.3014831\ttotal: 5.9s\tremaining: 9.42s\n",
      "77:\tlearn: 0.3008204\ttotal: 5.97s\tremaining: 9.34s\n",
      "78:\tlearn: 0.3002381\ttotal: 6.06s\tremaining: 9.28s\n",
      "79:\tlearn: 0.2998979\ttotal: 6.13s\tremaining: 9.2s\n",
      "80:\tlearn: 0.2991604\ttotal: 6.21s\tremaining: 9.12s\n",
      "81:\tlearn: 0.2987020\ttotal: 6.29s\tremaining: 9.05s\n",
      "82:\tlearn: 0.2978438\ttotal: 6.37s\tremaining: 8.98s\n",
      "83:\tlearn: 0.2972572\ttotal: 6.44s\tremaining: 8.9s\n",
      "84:\tlearn: 0.2964226\ttotal: 6.52s\tremaining: 8.83s\n",
      "85:\tlearn: 0.2960548\ttotal: 6.6s\tremaining: 8.75s\n",
      "86:\tlearn: 0.2957007\ttotal: 6.67s\tremaining: 8.67s\n",
      "87:\tlearn: 0.2952590\ttotal: 6.75s\tremaining: 8.59s\n",
      "88:\tlearn: 0.2948848\ttotal: 6.83s\tremaining: 8.52s\n",
      "89:\tlearn: 0.2942659\ttotal: 6.9s\tremaining: 8.43s\n",
      "90:\tlearn: 0.2937264\ttotal: 6.98s\tremaining: 8.36s\n",
      "91:\tlearn: 0.2930632\ttotal: 7.05s\tremaining: 8.28s\n",
      "92:\tlearn: 0.2926361\ttotal: 7.13s\tremaining: 8.21s\n",
      "93:\tlearn: 0.2918393\ttotal: 7.21s\tremaining: 8.13s\n",
      "94:\tlearn: 0.2912322\ttotal: 7.3s\tremaining: 8.06s\n",
      "95:\tlearn: 0.2906789\ttotal: 7.38s\tremaining: 7.99s\n",
      "96:\tlearn: 0.2901402\ttotal: 7.46s\tremaining: 7.92s\n",
      "97:\tlearn: 0.2899438\ttotal: 7.53s\tremaining: 7.84s\n",
      "98:\tlearn: 0.2892083\ttotal: 7.61s\tremaining: 7.76s\n",
      "99:\tlearn: 0.2888637\ttotal: 7.68s\tremaining: 7.68s\n",
      "100:\tlearn: 0.2884128\ttotal: 7.76s\tremaining: 7.61s\n",
      "101:\tlearn: 0.2879595\ttotal: 7.84s\tremaining: 7.53s\n",
      "102:\tlearn: 0.2873098\ttotal: 7.92s\tremaining: 7.45s\n",
      "103:\tlearn: 0.2867740\ttotal: 7.99s\tremaining: 7.38s\n",
      "104:\tlearn: 0.2856058\ttotal: 8.07s\tremaining: 7.3s\n",
      "105:\tlearn: 0.2854684\ttotal: 8.15s\tremaining: 7.22s\n",
      "106:\tlearn: 0.2850774\ttotal: 8.23s\tremaining: 7.15s\n",
      "107:\tlearn: 0.2845531\ttotal: 8.3s\tremaining: 7.07s\n",
      "108:\tlearn: 0.2842402\ttotal: 8.38s\tremaining: 7s\n",
      "109:\tlearn: 0.2839872\ttotal: 8.45s\tremaining: 6.92s\n",
      "110:\tlearn: 0.2835323\ttotal: 8.54s\tremaining: 6.84s\n",
      "111:\tlearn: 0.2831063\ttotal: 8.61s\tremaining: 6.77s\n",
      "112:\tlearn: 0.2825726\ttotal: 8.69s\tremaining: 6.69s\n",
      "113:\tlearn: 0.2823412\ttotal: 8.77s\tremaining: 6.62s\n",
      "114:\tlearn: 0.2819344\ttotal: 8.85s\tremaining: 6.54s\n",
      "115:\tlearn: 0.2812265\ttotal: 8.93s\tremaining: 6.47s\n",
      "116:\tlearn: 0.2804437\ttotal: 9.01s\tremaining: 6.39s\n",
      "117:\tlearn: 0.2799643\ttotal: 9.09s\tremaining: 6.31s\n",
      "118:\tlearn: 0.2796457\ttotal: 9.17s\tremaining: 6.24s\n",
      "119:\tlearn: 0.2794455\ttotal: 9.24s\tremaining: 6.16s\n",
      "120:\tlearn: 0.2789612\ttotal: 9.32s\tremaining: 6.09s\n",
      "121:\tlearn: 0.2788587\ttotal: 9.4s\tremaining: 6.01s\n",
      "122:\tlearn: 0.2782974\ttotal: 9.48s\tremaining: 5.93s\n",
      "123:\tlearn: 0.2778295\ttotal: 9.56s\tremaining: 5.86s\n",
      "124:\tlearn: 0.2771323\ttotal: 9.63s\tremaining: 5.78s\n",
      "125:\tlearn: 0.2767774\ttotal: 9.71s\tremaining: 5.7s\n",
      "126:\tlearn: 0.2759455\ttotal: 9.79s\tremaining: 5.63s\n",
      "127:\tlearn: 0.2752741\ttotal: 9.87s\tremaining: 5.55s\n",
      "128:\tlearn: 0.2747307\ttotal: 9.94s\tremaining: 5.47s\n",
      "129:\tlearn: 0.2745030\ttotal: 10s\tremaining: 5.39s\n",
      "130:\tlearn: 0.2739490\ttotal: 10.1s\tremaining: 5.32s\n",
      "131:\tlearn: 0.2737216\ttotal: 10.2s\tremaining: 5.24s\n",
      "132:\tlearn: 0.2733300\ttotal: 10.2s\tremaining: 5.16s\n",
      "133:\tlearn: 0.2730850\ttotal: 10.3s\tremaining: 5.09s\n",
      "134:\tlearn: 0.2723195\ttotal: 10.4s\tremaining: 5.01s\n",
      "135:\tlearn: 0.2718408\ttotal: 10.5s\tremaining: 4.93s\n",
      "136:\tlearn: 0.2714180\ttotal: 10.6s\tremaining: 4.86s\n",
      "137:\tlearn: 0.2710595\ttotal: 10.6s\tremaining: 4.78s\n",
      "138:\tlearn: 0.2704725\ttotal: 10.7s\tremaining: 4.7s\n",
      "139:\tlearn: 0.2701200\ttotal: 10.8s\tremaining: 4.63s\n",
      "140:\tlearn: 0.2696349\ttotal: 10.9s\tremaining: 4.55s\n",
      "141:\tlearn: 0.2693117\ttotal: 11s\tremaining: 4.47s\n",
      "142:\tlearn: 0.2688780\ttotal: 11s\tremaining: 4.4s\n",
      "143:\tlearn: 0.2683200\ttotal: 11.1s\tremaining: 4.32s\n",
      "144:\tlearn: 0.2676788\ttotal: 11.2s\tremaining: 4.24s\n",
      "145:\tlearn: 0.2674106\ttotal: 11.3s\tremaining: 4.16s\n",
      "146:\tlearn: 0.2671226\ttotal: 11.4s\tremaining: 4.1s\n",
      "147:\tlearn: 0.2666888\ttotal: 11.4s\tremaining: 4.02s\n",
      "148:\tlearn: 0.2659337\ttotal: 11.5s\tremaining: 3.94s\n",
      "149:\tlearn: 0.2657240\ttotal: 11.6s\tremaining: 3.86s\n",
      "150:\tlearn: 0.2652758\ttotal: 11.7s\tremaining: 3.79s\n",
      "151:\tlearn: 0.2648562\ttotal: 11.7s\tremaining: 3.71s\n",
      "152:\tlearn: 0.2646694\ttotal: 11.8s\tremaining: 3.63s\n",
      "153:\tlearn: 0.2643944\ttotal: 11.9s\tremaining: 3.55s\n",
      "154:\tlearn: 0.2639216\ttotal: 12s\tremaining: 3.48s\n",
      "155:\tlearn: 0.2637109\ttotal: 12.1s\tremaining: 3.4s\n",
      "156:\tlearn: 0.2630732\ttotal: 12.1s\tremaining: 3.32s\n",
      "157:\tlearn: 0.2625407\ttotal: 12.2s\tremaining: 3.24s\n",
      "158:\tlearn: 0.2623712\ttotal: 12.3s\tremaining: 3.17s\n",
      "159:\tlearn: 0.2618756\ttotal: 12.4s\tremaining: 3.1s\n",
      "160:\tlearn: 0.2613871\ttotal: 12.5s\tremaining: 3.02s\n",
      "161:\tlearn: 0.2610300\ttotal: 12.6s\tremaining: 2.94s\n",
      "162:\tlearn: 0.2603164\ttotal: 12.6s\tremaining: 2.87s\n",
      "163:\tlearn: 0.2602951\ttotal: 12.7s\tremaining: 2.79s\n",
      "164:\tlearn: 0.2598459\ttotal: 12.8s\tremaining: 2.71s\n",
      "165:\tlearn: 0.2595371\ttotal: 12.9s\tremaining: 2.63s\n",
      "166:\tlearn: 0.2589728\ttotal: 12.9s\tremaining: 2.56s\n",
      "167:\tlearn: 0.2585404\ttotal: 13s\tremaining: 2.48s\n",
      "168:\tlearn: 0.2579767\ttotal: 13.1s\tremaining: 2.4s\n",
      "169:\tlearn: 0.2577348\ttotal: 13.2s\tremaining: 2.32s\n",
      "170:\tlearn: 0.2574014\ttotal: 13.2s\tremaining: 2.25s\n",
      "171:\tlearn: 0.2568870\ttotal: 13.3s\tremaining: 2.17s\n",
      "172:\tlearn: 0.2565857\ttotal: 13.4s\tremaining: 2.09s\n",
      "173:\tlearn: 0.2562946\ttotal: 13.5s\tremaining: 2.01s\n",
      "174:\tlearn: 0.2560804\ttotal: 13.6s\tremaining: 1.94s\n",
      "175:\tlearn: 0.2557456\ttotal: 13.6s\tremaining: 1.86s\n",
      "176:\tlearn: 0.2553251\ttotal: 13.7s\tremaining: 1.78s\n",
      "177:\tlearn: 0.2545233\ttotal: 13.8s\tremaining: 1.7s\n",
      "178:\tlearn: 0.2542731\ttotal: 13.9s\tremaining: 1.63s\n",
      "179:\tlearn: 0.2540160\ttotal: 13.9s\tremaining: 1.55s\n",
      "180:\tlearn: 0.2534198\ttotal: 14s\tremaining: 1.47s\n",
      "181:\tlearn: 0.2528601\ttotal: 14.1s\tremaining: 1.39s\n",
      "182:\tlearn: 0.2525129\ttotal: 14.2s\tremaining: 1.31s\n",
      "183:\tlearn: 0.2520323\ttotal: 14.2s\tremaining: 1.24s\n",
      "184:\tlearn: 0.2517109\ttotal: 14.3s\tremaining: 1.16s\n",
      "185:\tlearn: 0.2513155\ttotal: 14.4s\tremaining: 1.08s\n",
      "186:\tlearn: 0.2506698\ttotal: 14.5s\tremaining: 1s\n",
      "187:\tlearn: 0.2504379\ttotal: 14.5s\tremaining: 928ms\n",
      "188:\tlearn: 0.2503059\ttotal: 14.6s\tremaining: 851ms\n",
      "189:\tlearn: 0.2500249\ttotal: 14.7s\tremaining: 774ms\n",
      "190:\tlearn: 0.2495686\ttotal: 14.8s\tremaining: 697ms\n",
      "191:\tlearn: 0.2492908\ttotal: 14.9s\tremaining: 619ms\n",
      "192:\tlearn: 0.2486957\ttotal: 14.9s\tremaining: 541ms\n",
      "193:\tlearn: 0.2480467\ttotal: 15s\tremaining: 464ms\n",
      "194:\tlearn: 0.2477212\ttotal: 15.1s\tremaining: 387ms\n",
      "195:\tlearn: 0.2471478\ttotal: 15.2s\tremaining: 309ms\n",
      "196:\tlearn: 0.2467652\ttotal: 15.2s\tremaining: 232ms\n",
      "197:\tlearn: 0.2463061\ttotal: 15.3s\tremaining: 155ms\n",
      "198:\tlearn: 0.2459373\ttotal: 15.4s\tremaining: 77.4ms\n",
      "199:\tlearn: 0.2458117\ttotal: 15.5s\tremaining: 0us\n",
      "Best hyperparameters found:\n",
      "{'depth': 8, 'iterations': 200, 'learning_rate': 0.2}\n",
      "Best combined (Sensitivity & Specificity) score: -0.8219980626026192\n"
     ]
    },
    {
     "data": {
      "text/plain": [
       "'Best hyperparameters found:\\n'"
      ]
     },
     "execution_count": 21,
     "metadata": {},
     "output_type": "execute_result"
    }
   ],
   "source": [
    "from catboost import CatBoostRegressor\n",
    "from sklearn.model_selection import GridSearchCV, train_test_split\n",
    "\n",
    "\n",
    "categorical_features_indices =[0, 2, 22,25, 26]\n",
    "\n",
    "\n",
    "# Define the parameter grid to search\n",
    "param_grid = {\n",
    "    'iterations': [100, 200, 300],      # Number of boosting iterations\n",
    "    'depth': [6, 8, 10],                # Depth of trees\n",
    "    'learning_rate': [0.01, 0.1, 0.2],  # Learning rate  \n",
    "    }\n",
    "\n",
    "scorers = {\n",
    "    'sensitivity': sensitivity_scorer,\n",
    "    'specificity': specificity_scorer,\n",
    "    'combined':combined_scorer}\n",
    "\n",
    "# Create a CatBoostRegressor model\n",
    "catboost_model = CatBoostClassifier()\n",
    "\n",
    "grid_search_cat = GridSearchCV(estimator=catboost_model, param_grid=param_grid, scoring=scorers, refit='combined', cv=5, verbose=10,n_jobs=-1, error_score='raise')\n",
    "\n",
    "grid_search_cat.fit(X_train, y_train, cat_features=categorical_features_indices)\n",
    "\n",
    "\n",
    "# Print the best hyperparameters and corresponding MSE score\n",
    "print(\"Best hyperparameters found:\")\n",
    "print(grid_search_cat.best_params_)\n",
    "print(\"Best combined (Sensitivity & Specificity) score:\", -grid_search_cat.best_score_)\n",
    "\n",
    "# Get the best trained model\n",
    "best_catboost_model = grid_search_cat.best_estimator_\n",
    "\n",
    "# Evaluate the best model on the validation set\n",
    "validation_predictions = best_catboost_model.predict(X_validate)\n",
    "\n",
    "########################\n",
    "## Output:\n",
    "########################\n",
    "'''Best hyperparameters found:\n",
    "{'depth': 8, 'iterations': 200, 'learning_rate': 0.2}\n",
    "Best combined (Sensitivity & Specificity) score: -0.8219980626026192\n",
    "'''"
   ]
  },
  {
   "cell_type": "markdown",
   "metadata": {},
   "source": [
    "### CatBoost - Train Model on Optimized Hyperparameters"
   ]
  },
  {
   "cell_type": "code",
   "execution_count": 29,
   "metadata": {},
   "outputs": [
    {
     "data": {
      "application/vnd.jupyter.widget-view+json": {
       "model_id": "e77c293347ec42a484615313f5ffc958",
       "version_major": 2,
       "version_minor": 0
      },
      "text/plain": [
       "MetricVisualizer(layout=Layout(align_self='stretch', height='500px'))"
      ]
     },
     "metadata": {},
     "output_type": "display_data"
    },
    {
     "name": "stdout",
     "output_type": "stream",
     "text": [
      "0:\tlearn: 0.5655919\ttest: 0.5652751\tbest: 0.5652751 (0)\ttotal: 85.6ms\tremaining: 17s\n",
      "10:\tlearn: 0.3584281\ttest: 0.3606474\tbest: 0.3606474 (10)\ttotal: 856ms\tremaining: 14.7s\n",
      "20:\tlearn: 0.3381619\ttest: 0.3445610\tbest: 0.3445610 (20)\ttotal: 1.71s\tremaining: 14.6s\n",
      "30:\tlearn: 0.3271102\ttest: 0.3392649\tbest: 0.3392649 (30)\ttotal: 2.55s\tremaining: 13.9s\n",
      "40:\tlearn: 0.3208254\ttest: 0.3383908\tbest: 0.3383908 (40)\ttotal: 3.37s\tremaining: 13.1s\n",
      "50:\tlearn: 0.3142457\ttest: 0.3364623\tbest: 0.3364623 (50)\ttotal: 4.17s\tremaining: 12.2s\n",
      "60:\tlearn: 0.3080129\ttest: 0.3352699\tbest: 0.3352699 (60)\ttotal: 5.02s\tremaining: 11.4s\n",
      "70:\tlearn: 0.3036631\ttest: 0.3349511\tbest: 0.3349155 (65)\ttotal: 5.85s\tremaining: 10.6s\n",
      "80:\tlearn: 0.2991604\ttest: 0.3357292\tbest: 0.3349155 (65)\ttotal: 6.67s\tremaining: 9.79s\n",
      "90:\tlearn: 0.2937264\ttest: 0.3357567\tbest: 0.3349155 (65)\ttotal: 7.49s\tremaining: 8.97s\n",
      "100:\tlearn: 0.2884128\ttest: 0.3358937\tbest: 0.3349155 (65)\ttotal: 8.35s\tremaining: 8.18s\n",
      "110:\tlearn: 0.2835323\ttest: 0.3360717\tbest: 0.3349155 (65)\ttotal: 9.26s\tremaining: 7.43s\n",
      "120:\tlearn: 0.2789612\ttest: 0.3364924\tbest: 0.3349155 (65)\ttotal: 10.2s\tremaining: 6.63s\n",
      "130:\tlearn: 0.2739490\ttest: 0.3360468\tbest: 0.3349155 (65)\ttotal: 11s\tremaining: 5.78s\n",
      "140:\tlearn: 0.2696349\ttest: 0.3364495\tbest: 0.3349155 (65)\ttotal: 11.8s\tremaining: 4.95s\n",
      "150:\tlearn: 0.2652758\ttest: 0.3367497\tbest: 0.3349155 (65)\ttotal: 12.7s\tremaining: 4.11s\n",
      "160:\tlearn: 0.2613871\ttest: 0.3368138\tbest: 0.3349155 (65)\ttotal: 13.5s\tremaining: 3.27s\n",
      "170:\tlearn: 0.2574014\ttest: 0.3368998\tbest: 0.3349155 (65)\ttotal: 14.4s\tremaining: 2.44s\n",
      "180:\tlearn: 0.2534198\ttest: 0.3371058\tbest: 0.3349155 (65)\ttotal: 15.3s\tremaining: 1.6s\n",
      "190:\tlearn: 0.2495686\ttest: 0.3375355\tbest: 0.3349155 (65)\ttotal: 16.1s\tremaining: 761ms\n",
      "199:\tlearn: 0.2458117\ttest: 0.3375145\tbest: 0.3349155 (65)\ttotal: 16.9s\tremaining: 0us\n",
      "\n",
      "bestTest = 0.3349154585\n",
      "bestIteration = 65\n",
      "\n",
      "Shrink model to first 66 iterations.\n",
      "Accuracy base model: 0.8468930694681978\n"
     ]
    },
    {
     "data": {
      "text/plain": [
       "'bestTest = 0.3349154585\\nbestIteration = 65\\n\\nShrink model to first 66 iterations.\\nAccuracy base model: 0.8468930694681978'"
      ]
     },
     "execution_count": 29,
     "metadata": {},
     "output_type": "execute_result"
    }
   ],
   "source": [
    "#########################\n",
    "#\n",
    "#  OPTIMIZED - CatBoost\n",
    "# \n",
    "########################\n",
    "\n",
    "from catboost import CatBoostClassifier\n",
    "from catboost import Pool\n",
    "from sklearn.pipeline import Pipeline\n",
    "from sklearn.pipeline import Pipeline\n",
    "from sklearn.preprocessing import StandardScaler\n",
    "from sklearn.decomposition import PCA\n",
    "from sklearn.compose import ColumnTransformer\n",
    "from sklearn.preprocessing import OneHotEncoder\n",
    "from sklearn.impute import SimpleImputer\n",
    "from sklearn.metrics import mean_squared_error\n",
    "from sklearn.metrics import r2_score\n",
    "\n",
    "\n",
    "###############\n",
    "# Specify categorical feature indices\n",
    "categorical_features_indices = [0, 2, 22,25, 26]\n",
    "\n",
    "\n",
    "# Create the Pool for training data\n",
    "train_pool = Pool(data=X_train, label=y_train, cat_features=categorical_features_indices)\n",
    "\n",
    "# If you have a validation dataset\n",
    "validation_pool = Pool(data=X_validate, label=y_validate, cat_features=categorical_features_indices)\n",
    "\n",
    "#########\n",
    "# Best hyperparameters found (after hyperparameter tuning)\n",
    "best_params = {'depth': 8, 'iterations': 200, 'learning_rate': 0.2}\n",
    "\n",
    "# Instantiate CatBoostClassifier with the best hyperparameters\n",
    "cat_model_opt = CatBoostClassifier(**best_params)\n",
    "\n",
    "cat_model_opt.fit(\n",
    "    train_pool,\n",
    "    eval_set=validation_pool,  \n",
    "    verbose=10,  # This will print the progress every 10 iterations\n",
    "    plot=True    # This will plot the learning curve\n",
    ")\n",
    "\n",
    "\n",
    "y_pred_cat_r2 = cat_model_opt.predict(X_validate)  # If you used Pool, the data here should not be the Pool object but raw data.\n",
    "\n",
    "# Calculate the Accruacy value\n",
    "accuracy = accuracy_score(y_validate, y_pred_cat_r2)\n",
    "print(f'Accuracy base model: {accuracy}')\n",
    "\n",
    "\n",
    "########################\n",
    "## Output:\n",
    "########################\n",
    "'''bestTest = 0.3349154585\n",
    "bestIteration = 65\n",
    "\n",
    "Shrink model to first 66 iterations.\n",
    "Accuracy base model: 0.8468930694681978'''"
   ]
  },
  {
   "cell_type": "markdown",
   "metadata": {},
   "source": [
    "### Evaluate Optimized CatBoost Model"
   ]
  },
  {
   "cell_type": "code",
   "execution_count": 30,
   "metadata": {},
   "outputs": [
    {
     "name": "stdout",
     "output_type": "stream",
     "text": [
      "True labels:\n",
      "116394    0\n",
      "102011    0\n",
      "11564     0\n",
      "93856     1\n",
      "47594     0\n",
      "         ..\n",
      "112235    0\n",
      "14985     0\n",
      "60829     0\n",
      "95194     0\n",
      "76465     0\n",
      "Name: prolonged_LOS, Length: 12279, dtype: int64\n",
      "\n",
      "Predicted labels:\n",
      "[0 0 0 ... 0 0 0]\n"
     ]
    },
    {
     "data": {
      "image/png": "[encoded data removed]",
      "text/plain": [
       "<Figure size 640x480 with 2 Axes>"
      ]
     },
     "metadata": {},
     "output_type": "display_data"
    },
    {
     "name": "stdout",
     "output_type": "stream",
     "text": [
      "              precision    recall  f1-score   support\n",
      "\n",
      "           0       0.85      0.92      0.88      7708\n",
      "           1       0.84      0.72      0.78      4571\n",
      "\n",
      "    accuracy                           0.85     12279\n",
      "   macro avg       0.85      0.82      0.83     12279\n",
      "weighted avg       0.85      0.85      0.84     12279\n",
      "\n"
     ]
    }
   ],
   "source": [
    "sensitivity_cat_r2, specificity_cat_r2, accuracy_cat_r2 = plot_confusion_matrix(y_validate, y_pred_cat_r2, \"CatBoostClassifier-Optimized\")  # Capture the returned values"
   ]
  },
  {
   "cell_type": "code",
   "execution_count": 28,
   "metadata": {},
   "outputs": [
    {
     "data": {
      "text/html": [
       "<div>\n",
       "<style scoped>\n",
       "    .dataframe tbody tr th:only-of-type {\n",
       "        vertical-align: middle;\n",
       "    }\n",
       "\n",
       "    .dataframe tbody tr th {\n",
       "        vertical-align: top;\n",
       "    }\n",
       "\n",
       "    .dataframe thead th {\n",
       "        text-align: right;\n",
       "    }\n",
       "</style>\n",
       "<table border=\"1\" class=\"dataframe\">\n",
       "  <thead>\n",
       "    <tr style=\"text-align: right;\">\n",
       "      <th></th>\n",
       "      <th>Model_Name</th>\n",
       "      <th>Sensitivity</th>\n",
       "      <th>Specificity</th>\n",
       "      <th>Accuracy</th>\n",
       "    </tr>\n",
       "  </thead>\n",
       "  <tbody>\n",
       "    <tr>\n",
       "      <th>0</th>\n",
       "      <td>Logistic Regression</td>\n",
       "      <td>0.649092</td>\n",
       "      <td>0.928775</td>\n",
       "      <td>0.82</td>\n",
       "    </tr>\n",
       "    <tr>\n",
       "      <th>1</th>\n",
       "      <td>CatBoostClassifier</td>\n",
       "      <td>0.732444</td>\n",
       "      <td>0.912169</td>\n",
       "      <td>0.85</td>\n",
       "    </tr>\n",
       "    <tr>\n",
       "      <th>2</th>\n",
       "      <td>CatBoostClassifier-Optimized</td>\n",
       "      <td>0.724130</td>\n",
       "      <td>0.919694</td>\n",
       "      <td>0.85</td>\n",
       "    </tr>\n",
       "  </tbody>\n",
       "</table>\n",
       "</div>"
      ],
      "text/plain": [
       "                     Model_Name  Sensitivity  Specificity  Accuracy\n",
       "0           Logistic Regression     0.649092     0.928775      0.82\n",
       "1            CatBoostClassifier     0.732444     0.912169      0.85\n",
       "2  CatBoostClassifier-Optimized     0.724130     0.919694      0.85"
      ]
     },
     "execution_count": 28,
     "metadata": {},
     "output_type": "execute_result"
    }
   ],
   "source": [
    "result_data"
   ]
  },
  {
   "cell_type": "code",
   "execution_count": 31,
   "metadata": {},
   "outputs": [
    {
     "data": {
      "image/png": "[encoded data removed]",
      "text/plain": [
       "<Figure size 800x600 with 1 Axes>"
      ]
     },
     "metadata": {},
     "output_type": "display_data"
    }
   ],
   "source": [
    "## ROC Visualization \n",
    "Modelname = \"CatBoostClassifier-Optimized\"\n",
    "y_pred_cat_r2 = cat_model_opt.predict_proba(X_validate)[:, 1]\n",
    "\n",
    "# Generate the ROC \n",
    "fpr, tpr, thresholds = roc_curve(y_validate, y_pred_cat_r2)\n",
    "\n",
    "# Calculate the Area Under Curve\n",
    "roc_auc = roc_auc_score(y_validate, y_pred_cat_r2)\n",
    "\n",
    "# Graph it all together.\n",
    "plt.figure(figsize=(8, 6))\n",
    "plt.plot(fpr, tpr, color='blue', lw=2, label=f'ROC curve (area = {roc_auc:.2f})')\n",
    "plt.plot([0, 1], [0, 1], color='gray', linestyle='--')\n",
    "plt.xlim([0.0, 1.0])\n",
    "plt.ylim([0.0, 1.05])\n",
    "plt.xlabel('False Positive Rate')\n",
    "plt.ylabel('True Positive Rate')\n",
    "plt.title(f'{Modelname}: Receiver Operating Characteristic (ROC)')\n",
    "plt.legend(loc='lower right')\n",
    "plt.show()"
   ]
  },
  {
   "cell_type": "markdown",
   "metadata": {},
   "source": [
    "## Model Deployment\n"
   ]
  },
  {
   "cell_type": "code",
   "execution_count": 37,
   "metadata": {},
   "outputs": [],
   "source": [
    "import pickle\n",
    "\n",
    "with open('../_output/catboost_model_opt.pickle', 'wb') as f:\n",
    "    pickle.dump(cat_model_opt, f)\n"
   ]
  },
  {
   "cell_type": "code",
   "execution_count": 35,
   "metadata": {},
   "outputs": [
    {
     "name": "stdout",
     "output_type": "stream",
     "text": [
      "else\n"
     ]
    }
   ],
   "source": []
  }
 ],
 "metadata": {
  "kernelspec": {
   "display_name": "Lighthouse_env",
   "language": "python",
   "name": "python3"
  },
  "language_info": {
   "codemirror_mode": {
    "name": "ipython",
    "version": 3
   },
   "file_extension": ".py",
   "mimetype": "text/x-python",
   "name": "python",
   "nbconvert_exporter": "python",
   "pygments_lexer": "ipython3",
   "version": "3.10.13"
  }
 },
 "nbformat": 4,
 "nbformat_minor": 2
}
