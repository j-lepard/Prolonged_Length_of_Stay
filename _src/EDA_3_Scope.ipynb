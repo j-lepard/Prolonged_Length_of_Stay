{
 "cells": [
  {
   "cell_type": "code",
   "execution_count": 2,
   "metadata": {},
   "outputs": [],
   "source": [
    "import pandas as pd\n",
    "pd.options.display.float_format = '{:,.0f}'.format\n",
    "# pd.options.display.int_format ='{:,}'.format\n",
    "\n",
    "import os\n",
    "from operator import itemgetter    \n",
    "import numpy as np\n",
    "\n",
    "import matplotlib.pyplot as plt\n",
    "import seaborn as sns\n",
    "import warnings\n",
    "warnings.filterwarnings('ignore')\n",
    "get_ipython().magic(u'matplotlib inline')\n",
    "plt.style.use('ggplot')\n"
   ]
  },
  {
   "cell_type": "code",
   "execution_count": 4,
   "metadata": {},
   "outputs": [
    {
     "name": "stdout",
     "output_type": "stream",
     "text": [
      "<class 'pandas.core.frame.DataFrame'>\n",
      "RangeIndex: 128031 entries, 0 to 128030\n",
      "Data columns (total 58 columns):\n",
      " #   Column             Non-Null Count   Dtype  \n",
      "---  ------             --------------   -----  \n",
      " 0   op_id              128031 non-null  int64  \n",
      " 1   subject_id         128031 non-null  int64  \n",
      " 2   hadm_id            128031 non-null  int64  \n",
      " 3   opdate             128031 non-null  int64  \n",
      " 4   age                128031 non-null  int64  \n",
      " 5   sex                128031 non-null  object \n",
      " 6   weight             126611 non-null  float64\n",
      " 7   height             127269 non-null  float64\n",
      " 8   race               128031 non-null  object \n",
      " 9   asa                124636 non-null  float64\n",
      " 10  emop               128031 non-null  int64  \n",
      " 11  department         128031 non-null  object \n",
      " 12  antype             128031 non-null  object \n",
      " 13  icd10_pcs          128031 non-null  object \n",
      " 14  category_desc      128031 non-null  object \n",
      " 15  desc_short         128031 non-null  object \n",
      " 16  category_id        128031 non-null  object \n",
      " 17  orin_time          128031 non-null  int64  \n",
      " 18  orout_time         128031 non-null  int64  \n",
      " 19  opstart_time       128019 non-null  float64\n",
      " 20  opend_time         128020 non-null  float64\n",
      " 21  admission_time     128031 non-null  int64  \n",
      " 22  discharge_time     128031 non-null  int64  \n",
      " 23  anstart_time       127979 non-null  float64\n",
      " 24  anend_time         127688 non-null  float64\n",
      " 25  cpbon_time         2485 non-null    float64\n",
      " 26  cpboff_time        2485 non-null    float64\n",
      " 27  icuin_time         14590 non-null   float64\n",
      " 28  icuout_time        14590 non-null   float64\n",
      " 29  inhosp_death_time  1504 non-null    float64\n",
      " 30  subject_id_y       127996 non-null  float64\n",
      " 31  chart_time_x       127996 non-null  float64\n",
      " 32  art_dbp            36467 non-null   float64\n",
      " 33  art_mbp            37299 non-null   float64\n",
      " 34  art_sbp            36554 non-null   float64\n",
      " 35  bt                 27608 non-null   float64\n",
      " 36  cvp                2641 non-null    float64\n",
      " 37  hr                 111804 non-null  float64\n",
      " 38  pip                83460 non-null   float64\n",
      " 39  pmean              78972 non-null   float64\n",
      " 40  rr                 97666 non-null   float64\n",
      " 41  spo2               116709 non-null  float64\n",
      " 42  vt                 85105 non-null   float64\n",
      " 43  chart_time_y       98751 non-null   float64\n",
      " 44  alp                36666 non-null   float64\n",
      " 45  alt                38447 non-null   float64\n",
      " 46  ast                38482 non-null   float64\n",
      " 47  chloride           47609 non-null   float64\n",
      " 48  creatinine         41954 non-null   float64\n",
      " 49  glucose            45760 non-null   float64\n",
      " 50  hb                 48883 non-null   float64\n",
      " 51  hco3               33695 non-null   float64\n",
      " 52  lymphocyte         38199 non-null   float64\n",
      " 53  platelet           46472 non-null   float64\n",
      " 54  potassium          65214 non-null   float64\n",
      " 55  sodium             64839 non-null   float64\n",
      " 56  total_bilirubin    34429 non-null   float64\n",
      " 57  wbc                45806 non-null   float64\n",
      "dtypes: float64(40), int64(10), object(8)\n",
      "memory usage: 56.7+ MB\n"
     ]
    }
   ],
   "source": [
    "import_csv_file = '../_data/operations_fulldata_nodup.csv'\n",
    "df = pd.read_csv(import_csv_file)\n",
    "df.info()"
   ]
  },
  {
   "cell_type": "code",
   "execution_count": 5,
   "metadata": {},
   "outputs": [],
   "source": [
    "import_csv_file = '../_data/pcd_STD.csv'\n",
    "pcd_STD = pd.read_csv(import_csv_file)\n",
    "\n",
    "import_csv_file = '../_data/pcd_VOL.csv'\n",
    "pcd_VOL = pd.read_csv(import_csv_file)\n",
    "\n"
   ]
  },
  {
   "cell_type": "code",
   "execution_count": 10,
   "metadata": {},
   "outputs": [
    {
     "data": {
      "text/plain": [
       "0      0B110\n",
       "1      00900\n",
       "2      001U0\n",
       "3      02QA0\n",
       "4      00P60\n",
       "       ...  \n",
       "115    0RG00\n",
       "116    0TBB7\n",
       "117    0UJD8\n",
       "118    0WQN0\n",
       "119    0WJG0\n",
       "Name: icd10_pcs, Length: 120, dtype: object"
      ]
     },
     "execution_count": 10,
     "metadata": {},
     "output_type": "execute_result"
    }
   ],
   "source": [
    "pcd_STD_filter = pcd_STD['icd10_pcs']\n",
    "pcd_VOL_filter = pcd_VOL['icd10_pcs']\n",
    "\n",
    "pcd_inscope = pd.concat([pcd_STD_filter,pcd_VOL_filter],ignore_index=True)\n",
    "pcd_inscope"
   ]
  },
  {
   "cell_type": "code",
   "execution_count": 14,
   "metadata": {},
   "outputs": [
    {
     "data": {
      "text/plain": [
       "(58815, 58)"
      ]
     },
     "execution_count": 14,
     "metadata": {},
     "output_type": "execute_result"
    }
   ],
   "source": [
    "## Create a filtered data set bason on the number of targeted pcs codes  \n",
    "\n",
    "operations_inscope_df = df[df['icd10_pcs'].isin(pcd_inscope)]\n",
    "operations_inscope_df.shape\n",
    "# Next, group by the 'PCD_description' and count the occurrences\n",
    "# description_counts = operartions_inscope_df.groupby('desc_short').size().sort_values(ascending=False)\n",
    "\n"
   ]
  },
  {
   "cell_type": "markdown",
   "metadata": {},
   "source": [
    "### Status Check:\n",
    "* created a dynamic list of procedure codes based on surgery volume \n",
    "* created a second dynamic list of procedure coded based on LOS variance\n",
    "* merged those lists to the 'in scope' icd10_pcs\n",
    "* filtered the original dataset. \n",
    "\n"
   ]
  }
 ],
 "metadata": {
  "kernelspec": {
   "display_name": "Lighthouse_env",
   "language": "python",
   "name": "python3"
  },
  "language_info": {
   "codemirror_mode": {
    "name": "ipython",
    "version": 3
   },
   "file_extension": ".py",
   "mimetype": "text/x-python",
   "name": "python",
   "nbconvert_exporter": "python",
   "pygments_lexer": "ipython3",
   "version": "3.10.13"
  }
 },
 "nbformat": 4,
 "nbformat_minor": 2
}
